{
  "nbformat": 4,
  "nbformat_minor": 0,
  "metadata": {
    "colab": {
      "provenance": [],
      "authorship_tag": "ABX9TyPzBuXbj+mXKsZiFuskl3uJ",
      "include_colab_link": true
    },
    "kernelspec": {
      "name": "python3",
      "display_name": "Python 3"
    },
    "language_info": {
      "name": "python"
    }
  },
  "cells": [
    {
      "cell_type": "markdown",
      "metadata": {
        "id": "view-in-github",
        "colab_type": "text"
      },
      "source": [
        "<a href=\"https://colab.research.google.com/github/pxs1990/python_data_science/blob/main/starSchema_SQLite.ipynb\" target=\"_parent\"><img src=\"https://colab.research.google.com/assets/colab-badge.svg\" alt=\"Open In Colab\"/></a>"
      ]
    },
    {
      "cell_type": "code",
      "execution_count": 1,
      "metadata": {
        "id": "SGFR9KEKddLI"
      },
      "outputs": [],
      "source": [
        "import pandas as pd\n",
        "import sqlite3"
      ]
    },
    {
      "cell_type": "markdown",
      "source": [
        "Reading CSV files in pandas dataframe"
      ],
      "metadata": {
        "id": "9d3-auoVdxKM"
      }
    },
    {
      "cell_type": "code",
      "source": [
        "# Read dimension tables from CSV files\n",
        "creditinfo_dim_df = pd.read_csv('/content/Credit_Info_Dim.csv')\n",
        "demographic_dim_df = pd.read_csv('/content/Demographic_Dimension.csv')\n",
        "loanapp_dim_df = pd.read_csv('/content/Loan_Application_Dimension.csv')\n",
        "otherdetail_dim_df = pd.read_csv('/content/Other_Details_Dim.csv')\n",
        "\n",
        "# Read fact table from CSV file\n",
        "loan_fact_df = pd.read_csv('/content/Loan_Fact_Table.csv')\n"
      ],
      "metadata": {
        "id": "0yZDNVPIdpMQ"
      },
      "execution_count": 2,
      "outputs": []
    },
    {
      "cell_type": "code",
      "source": [
        "# Connect to SQLite database\n",
        "conn = sqlite3.connect('risk_star_schema.db')"
      ],
      "metadata": {
        "id": "DwFP5X_SgXZG"
      },
      "execution_count": 3,
      "outputs": []
    },
    {
      "cell_type": "code",
      "source": [
        "# Define schema for dimension tables\n",
        "credit_info_schema = \"\"\"\n",
        "CREATE TABLE Credit_Info_Dim (\n",
        "    Credit_Info_ID TEXT PRIMARY KEY,\n",
        "    ID INTEGER,\n",
        "    Credit_Worthiness TEXT,\n",
        "    Open_Credit TEXT,\n",
        "    Credit_Type TEXT,\n",
        "    Co_Applicant_Credit_Type TEXT\n",
        ");\n",
        "\"\"\"\n",
        "\n",
        "demographics_schema = \"\"\"\n",
        "CREATE TABLE Demographics_Dim (\n",
        "    Demographics_ID TEXT PRIMARY KEY,\n",
        "    ID INTEGER,\n",
        "    Year INTEGER,\n",
        "    Gender TEXT,\n",
        "    Age TEXT\n",
        ");\n",
        "\"\"\"\n",
        "\n",
        "loan_details_schema = \"\"\"\n",
        "CREATE TABLE Loan_Details_Dim (\n",
        "    Loan_Details_ID TEXT PRIMARY KEY,\n",
        "    ID INTEGER,\n",
        "    Loan_Limit TEXT,\n",
        "    Approv_in_adv TEXT,\n",
        "    Loan_Type TEXT,\n",
        "    Loan_Purpose TEXT,\n",
        "    Occupancy_Type TEXT,\n",
        "    Total_Units TEXT\n",
        ");\n",
        "\"\"\"\n",
        "\n",
        "\n",
        "\n",
        "other_details_schema = \"\"\"\n",
        "CREATE TABLE Other_Details_Dim (\n",
        "    Other_Details_ID TEXT PRIMARY KEY,\n",
        "    ID INTEGER,\n",
        "    Business_or_Commercial TEXT,\n",
        "    Submission_of_Application TEXT,\n",
        "    Region TEXT,\n",
        "    Security_Type TEXT\n",
        ");\n",
        "\"\"\"\n",
        "\n",
        "# Define schema for fact table\n",
        "loan_fact_schema = \"\"\"\n",
        "CREATE TABLE Loan_Fact (\n",
        "    ID INTEGER PRIMARY KEY,\n",
        "    Demographics_ID TEXT,\n",
        "    Loan_Details_ID TEXT,\n",
        "    Credit_Info_ID TEXT,\n",
        "    Other_Details_ID TEXT,\n",
        "    Income FLOAT,\n",
        "    LTV FLOAT,\n",
        "    DTIR1 FLOAT,\n",
        "    Loan_Amount FLOAT,\n",
        "    Rate_of_Interest FLOAT,\n",
        "    Term INTEGER,\n",
        "    Property_Value FLOAT,\n",
        "    Credit_Score INTEGER,\n",
        "    Status INTEGER,\n",
        "    FOREIGN KEY (Demographics_ID) REFERENCES Demographics_Dim(Demographics_ID),\n",
        "    FOREIGN KEY (Loan_Details_ID) REFERENCES Loan_Details_Dim(Loan_Details_ID),\n",
        "    FOREIGN KEY (Credit_Info_ID) REFERENCES Credit_Info_Dim(Credit_Info_ID),\n",
        "    FOREIGN KEY (Other_Details_ID) REFERENCES Other_Details_Dim(Other_Details_ID)\n",
        ");\n",
        "\"\"\""
      ],
      "metadata": {
        "id": "zS4djtTHizgF"
      },
      "execution_count": 4,
      "outputs": []
    },
    {
      "cell_type": "code",
      "source": [
        "# Execute schema creation queries\n",
        "conn.executescript(demographics_schema)\n",
        "conn.executescript(loan_details_schema)\n",
        "conn.executescript(credit_info_schema)\n",
        "conn.executescript(other_details_schema)\n",
        "conn.executescript(loan_fact_schema)"
      ],
      "metadata": {
        "colab": {
          "base_uri": "https://localhost:8080/"
        },
        "id": "fX_BWWVnoM4w",
        "outputId": "fbd0754d-7f81-4a3f-ebdf-9baedbcad932"
      },
      "execution_count": 5,
      "outputs": [
        {
          "output_type": "execute_result",
          "data": {
            "text/plain": [
              "<sqlite3.Cursor at 0x78abd92b4140>"
            ]
          },
          "metadata": {},
          "execution_count": 5
        }
      ]
    },
    {
      "cell_type": "code",
      "source": [
        "# Save dimension tables to SQLite\n",
        "demographic_dim_df.to_sql('Demographics_Dim', conn, if_exists='replace', index=False)\n",
        "loanapp_dim_df.to_sql('Loan_Details_Dim', conn, if_exists='replace', index=False)\n",
        "creditinfo_dim_df.to_sql('Credit_Info_Dim', conn, if_exists='replace', index=False)\n",
        "otherdetail_dim_df.to_sql('Other_Details_Dim', conn, if_exists='replace', index=False)\n",
        "\n",
        "# Save fact table to SQLite\n",
        "loan_fact_df.to_sql('Loan_Fact', conn, if_exists='replace', index=False)"
      ],
      "metadata": {
        "colab": {
          "base_uri": "https://localhost:8080/"
        },
        "id": "hRquYgqAoCqY",
        "outputId": "fc493238-45d4-4cc5-bede-775d5b38139e"
      },
      "execution_count": 6,
      "outputs": [
        {
          "output_type": "execute_result",
          "data": {
            "text/plain": [
              "148670"
            ]
          },
          "metadata": {},
          "execution_count": 6
        }
      ]
    },
    {
      "cell_type": "markdown",
      "source": [
        "# **Querrying a table:**"
      ],
      "metadata": {
        "id": "z1zs-EIxpS4a"
      }
    },
    {
      "cell_type": "code",
      "source": [
        "# Create a cursor object\n",
        "cur = conn.cursor()\n",
        "\n",
        "# Execute a query to select data from the Loan_Fact table\n",
        "cur.execute(\"SELECT * FROM Credit_Info_Dim LIMIT 20\")\n",
        "\n",
        "# Fetch the results\n",
        "result = cur.fetchall()\n",
        "\n",
        "# Print the results\n",
        "for row in result:\n",
        "    print(row)"
      ],
      "metadata": {
        "colab": {
          "base_uri": "https://localhost:8080/"
        },
        "id": "evzJUXAopQVv",
        "outputId": "1808d842-762a-448a-84a5-66fcfe2319ea"
      },
      "execution_count": 7,
      "outputs": [
        {
          "output_type": "stream",
          "name": "stdout",
          "text": [
            "('C1', 24890, 'l1', 'nopc', 'EXP', 'CIB')\n",
            "('C2', 24891, 'l1', 'nopc', 'EQUI', 'EXP')\n",
            "('C3', 24892, 'l1', 'nopc', 'EXP', 'CIB')\n",
            "('C4', 24893, 'l1', 'nopc', 'EXP', 'CIB')\n",
            "('C5', 24894, 'l1', 'nopc', 'CRIF', 'EXP')\n",
            "('C6', 24895, 'l1', 'nopc', 'EXP', 'EXP')\n",
            "('C7', 24896, 'l1', 'nopc', 'EXP', 'EXP')\n",
            "('C8', 24897, 'l1', 'nopc', 'CIB', 'CIB')\n",
            "('C9', 24898, 'l1', 'nopc', 'CIB', 'EXP')\n",
            "('C10', 24899, 'l1', 'nopc', 'CIB', 'EXP')\n",
            "('C11', 24900, 'l2', 'nopc', 'EXP', 'CIB')\n",
            "('C12', 24901, 'l1', 'nopc', 'EXP', 'EXP')\n",
            "('C13', 24902, 'l1', 'nopc', 'CRIF', 'EXP')\n",
            "('C14', 24903, 'l1', 'nopc', 'CRIF', 'EXP')\n",
            "('C15', 24904, 'l1', 'nopc', 'CIB', 'CIB')\n",
            "('C16', 24905, 'l1', 'nopc', 'EXP', 'CIB')\n",
            "('C17', 24906, 'l1', 'nopc', 'CRIF', 'EXP')\n",
            "('C18', 24907, 'l1', 'nopc', 'CRIF', 'CIB')\n",
            "('C19', 24908, 'l1', 'nopc', 'CIB', 'CIB')\n",
            "('C20', 24909, 'l1', 'nopc', 'CIB', 'EXP')\n"
          ]
        }
      ]
    },
    {
      "cell_type": "code",
      "source": [
        "# Replace 'your_table_name' with the name of your table\n",
        "table_name = 'Credit_Info_Dim'\n",
        "\n",
        "# Execute the PRAGMA statement to fetch column information\n",
        "cur.execute(f\"PRAGMA table_info({table_name})\")\n",
        "\n",
        "# Fetch all rows (columns) from the cursor\n",
        "rows = cur.fetchall()\n",
        "\n",
        "# Extract and print column names\n",
        "column_names = [row[1] for row in rows]\n",
        "print(column_names)"
      ],
      "metadata": {
        "colab": {
          "base_uri": "https://localhost:8080/"
        },
        "id": "9EcHTKjf2YcD",
        "outputId": "e20327e3-cdf2-49c4-fc42-468589ea36c5"
      },
      "execution_count": 8,
      "outputs": [
        {
          "output_type": "stream",
          "name": "stdout",
          "text": [
            "['Credit_Info_ID', 'ID', 'Credit_Worthiness', 'open_credit', 'credit_type', 'co_applicant_credit_type']\n"
          ]
        }
      ]
    },
    {
      "cell_type": "code",
      "source": [
        "# Execute the SQL query to join tables\n",
        "cur.execute(\"\"\"\n",
        "    CREATE TABLE IF NOT EXISTS myTable AS\n",
        "    SELECT\n",
        "        f.ID,\n",
        "        d.Year,\n",
        "        d.Gender,\n",
        "        d.Age,\n",
        "        f.Income,\n",
        "        f.LTV,\n",
        "        f.DTIR1,\n",
        "        ld.Loan_Limit,\n",
        "        ld.Approv_in_adv,\n",
        "        ld.Loan_Type,\n",
        "        ld.Loan_Purpose,\n",
        "        ld.Occupancy_Type,\n",
        "        ld.Total_Units,\n",
        "        ci.Credit_Worthiness,\n",
        "        ci.Open_Credit,\n",
        "        ci.Credit_Type,\n",
        "        ci.Co_Applicant_Credit_Type,\n",
        "        od.Business_or_Commercial,\n",
        "        od.Submission_of_Application,\n",
        "        od.Region,\n",
        "        od.Security_Type,\n",
        "        f.Status\n",
        "    FROM\n",
        "        Loan_Fact f\n",
        "    JOIN Demographics_Dim d ON f.ID = d.ID\n",
        "    JOIN Loan_Details_Dim ld ON f.ID = ld.ID\n",
        "    JOIN Credit_Info_Dim ci ON f.ID = ci.ID\n",
        "    JOIN Other_Details_Dim od ON f.ID = od.ID\n",
        "\"\"\")"
      ],
      "metadata": {
        "colab": {
          "base_uri": "https://localhost:8080/"
        },
        "id": "CXl9ZLQYyWga",
        "outputId": "c685ae25-1af4-4e80-838f-8437e9cba32b"
      },
      "execution_count": 12,
      "outputs": [
        {
          "output_type": "execute_result",
          "data": {
            "text/plain": [
              "<sqlite3.Cursor at 0x78abd92b4ac0>"
            ]
          },
          "metadata": {},
          "execution_count": 12
        }
      ]
    },
    {
      "cell_type": "code",
      "source": [
        "cur.execute(\"Select * from myTable limit 20\")\n",
        "# Fetch and print the results\n",
        "rows = cur.fetchall()\n",
        "for row in rows:\n",
        "    print(row)"
      ],
      "metadata": {
        "colab": {
          "base_uri": "https://localhost:8080/"
        },
        "id": "Yn4YKOIN5uLa",
        "outputId": "4e6d5ebb-5ea9-45cb-b4f1-d55c655e7961"
      },
      "execution_count": 14,
      "outputs": [
        {
          "output_type": "stream",
          "name": "stdout",
          "text": [
            "(24890, 2019, 'Sex Not Available', '25-34', 1740.0, 98.72881356, 45.0, 'cf', 'nopre', 'type1', 'p1', 'pr', '1U', 'l1', 'nopc', 'EXP', 'CIB', 'nob/c', 'to_inst', 'south', 'direct', 1)\n",
            "(24891, 2019, 'Male', '55-64', 4980.0, None, None, 'cf', 'nopre', 'type2', 'p1', 'pr', '1U', 'l1', 'nopc', 'EQUI', 'EXP', 'b/c', 'to_inst', 'North', 'direct', 1)\n",
            "(24892, 2019, 'Male', '35-44', 9480.0, 80.01968504, 46.0, 'cf', 'pre', 'type1', 'p1', 'pr', '1U', 'l1', 'nopc', 'EXP', 'CIB', 'nob/c', 'to_inst', 'south', 'direct', 0)\n",
            "(24893, 2019, 'Male', '45-54', 11880.0, 69.3768997, 42.0, 'cf', 'nopre', 'type1', 'p4', 'pr', '1U', 'l1', 'nopc', 'EXP', 'CIB', 'nob/c', 'not_inst', 'North', 'direct', 0)\n",
            "(24894, 2019, 'Joint', '25-34', 10440.0, 91.88654354, 39.0, 'cf', 'pre', 'type1', 'p1', 'pr', '1U', 'l1', 'nopc', 'CRIF', 'EXP', 'nob/c', 'not_inst', 'North', 'direct', 0)\n",
            "(24895, 2019, 'Joint', '35-44', 10080.0, 70.08928571, 40.0, 'cf', 'pre', 'type1', 'p1', 'pr', '1U', 'l1', 'nopc', 'EXP', 'EXP', 'nob/c', 'not_inst', 'North', 'direct', 0)\n",
            "(24896, 2019, 'Joint', '55-64', 5040.0, 79.10958904, 44.0, 'cf', 'pre', 'type1', 'p3', 'pr', '1U', 'l1', 'nopc', 'EXP', 'EXP', 'nob/c', 'to_inst', 'North', 'direct', 0)\n",
            "(24897, 2019, 'Female', '55-64', 3780.0, 86.52597403, 42.0, None, 'nopre', 'type1', 'p4', 'pr', '1U', 'l1', 'nopc', 'CIB', 'CIB', 'nob/c', 'to_inst', 'North', 'direct', 0)\n",
            "(24898, 2019, 'Joint', '55-64', 5580.0, 78.76569038, 44.0, 'cf', 'nopre', 'type1', 'p3', 'pr', '1U', 'l1', 'nopc', 'CIB', 'EXP', 'nob/c', 'to_inst', 'central', 'direct', 0)\n",
            "(24899, 2019, 'Sex Not Available', '55-64', 6720.0, 63.44476744, 30.0, 'cf', 'nopre', 'type3', 'p3', 'pr', '1U', 'l1', 'nopc', 'CIB', 'EXP', 'nob/c', 'to_inst', 'south', 'direct', 0)\n",
            "(24900, 2019, 'Male', '55-64', 4020.0, 81.25, 44.0, 'cf', 'nopre', 'type2', 'p3', 'pr', '1U', 'l2', 'nopc', 'EXP', 'CIB', 'b/c', 'to_inst', 'North', 'direct', 1)\n",
            "(24901, 2019, 'Sex Not Available', '35-44', 9540.0, 65.88983051, 36.0, 'cf', 'nopre', 'type1', 'p3', 'pr', '1U', 'l1', 'nopc', 'EXP', 'EXP', 'nob/c', 'to_inst', 'south', 'direct', 0)\n",
            "(24902, 2019, 'Joint', '65-74', 3780.0, 80.03875969, 51.0, 'cf', 'nopre', 'type2', 'p3', 'pr', '1U', 'l1', 'nopc', 'CRIF', 'EXP', 'b/c', 'to_inst', 'North', 'direct', 1)\n",
            "(24903, 2019, 'Joint', '55-64', None, 85.92519685, None, 'cf', 'nopre', 'type2', 'p4', 'pr', '1U', 'l1', 'nopc', 'CRIF', 'EXP', 'b/c', 'to_inst', 'North', 'direct', 0)\n",
            "(24904, 2019, 'Female', '35-44', 7860.0, 76.00671141, 39.0, 'cf', 'nopre', 'type1', 'p4', 'pr', '1U', 'l1', 'nopc', 'CIB', 'CIB', 'nob/c', 'to_inst', 'North', 'direct', 0)\n",
            "(24905, 2019, 'Male', '45-54', 2220.0, 55.43478261, 20.0, 'cf', 'nopre', 'type1', 'p4', 'pr', '1U', 'l1', 'nopc', 'EXP', 'CIB', 'nob/c', 'not_inst', 'North', 'direct', 1)\n",
            "(24906, 2019, 'Joint', '25-34', 5340.0, 96.875, 44.0, 'cf', 'nopre', 'type2', 'p1', 'pr', '1U', 'l1', 'nopc', 'CRIF', 'EXP', 'b/c', 'not_inst', 'North', 'direct', 1)\n",
            "(24907, 2019, 'Male', '65-74', 3120.0, 93.1547619, 44.0, 'cf', 'pre', 'type1', 'p3', 'pr', '1U', 'l1', 'nopc', 'CRIF', 'CIB', 'nob/c', 'to_inst', 'North', 'direct', 1)\n",
            "(24908, 2019, 'Female', '45-54', 5340.0, 67.97658863, 44.0, 'cf', 'nopre', 'type1', 'p1', 'pr', '1U', 'l1', 'nopc', 'CIB', 'CIB', 'nob/c', 'not_inst', 'North', 'direct', 0)\n",
            "(24909, 2019, 'Sex Not Available', '55-64', 12540.0, 78.40909091, 31.0, 'cf', 'nopre', 'type1', 'p4', 'sr', '1U', 'l1', 'nopc', 'CIB', 'EXP', 'nob/c', 'to_inst', 'south', 'direct', 0)\n"
          ]
        }
      ]
    },
    {
      "cell_type": "code",
      "source": [
        "# Close the cursor and connection\n",
        "cur.close()\n",
        "conn.close()"
      ],
      "metadata": {
        "id": "eBHk-TmcqFSf"
      },
      "execution_count": 15,
      "outputs": []
    }
  ]
}