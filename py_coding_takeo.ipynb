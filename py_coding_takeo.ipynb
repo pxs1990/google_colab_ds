{
  "nbformat": 4,
  "nbformat_minor": 0,
  "metadata": {
    "colab": {
      "provenance": [],
      "mount_file_id": "14gdaj8wjqcE5aiJdXA6tPSg4q0gM4OoL",
      "authorship_tag": "ABX9TyOYyb7b3zPYbEGPB/NfbCNr",
      "include_colab_link": true
    },
    "kernelspec": {
      "name": "python3",
      "display_name": "Python 3"
    },
    "language_info": {
      "name": "python"
    }
  },
  "cells": [
    {
      "cell_type": "markdown",
      "metadata": {
        "id": "view-in-github",
        "colab_type": "text"
      },
      "source": [
        "<a href=\"https://colab.research.google.com/github/pxs1990/google_colab_ds/blob/main/py_coding_takeo.ipynb\" target=\"_parent\"><img src=\"https://colab.research.google.com/assets/colab-badge.svg\" alt=\"Open In Colab\"/></a>"
      ]
    },
    {
      "cell_type": "code",
      "execution_count": 5,
      "metadata": {
        "colab": {
          "base_uri": "https://localhost:8080/"
        },
        "id": "NOyBvOCVmvPF",
        "outputId": "0186f729-d210-420a-d160-e5ee3a57ff03"
      },
      "outputs": [
        {
          "output_type": "execute_result",
          "data": {
            "text/plain": [
              "16"
            ]
          },
          "metadata": {},
          "execution_count": 5
        }
      ],
      "source": [
        "#1. fungtions using *args\n",
        "def use_args(*args):\n",
        "    result=0\n",
        "    for i in args:\n",
        "        result+=i\n",
        "    return result\n",
        "\n",
        "use_args(5,4,2,3,2)"
      ]
    },
    {
      "cell_type": "code",
      "source": [
        "def use_args(*args):\n",
        "    result=100\n",
        "    for i in args:\n",
        "        result-=i\n",
        "    return result\n",
        "\n",
        "use_args(5,4,2,3,2)"
      ],
      "metadata": {
        "colab": {
          "base_uri": "https://localhost:8080/"
        },
        "id": "jf2rK_ixpxxk",
        "outputId": "c2b58fc9-a0a4-42c1-b5f5-b52544f62303"
      },
      "execution_count": 6,
      "outputs": [
        {
          "output_type": "execute_result",
          "data": {
            "text/plain": [
              "84"
            ]
          },
          "metadata": {},
          "execution_count": 6
        }
      ]
    },
    {
      "cell_type": "code",
      "source": [
        "def use_args(*args):\n",
        "    result=1\n",
        "    for i in args:\n",
        "        result*=i\n",
        "    return result\n",
        "\n",
        "use_args(5,4,2,3,2)"
      ],
      "metadata": {
        "colab": {
          "base_uri": "https://localhost:8080/"
        },
        "id": "aCiuLVqcp3Ve",
        "outputId": "9b20b7ab-5ec3-4d7a-954f-6da73d09f156"
      },
      "execution_count": 7,
      "outputs": [
        {
          "output_type": "execute_result",
          "data": {
            "text/plain": [
              "240"
            ]
          },
          "metadata": {},
          "execution_count": 7
        }
      ]
    },
    {
      "cell_type": "code",
      "source": [
        "def use_args(*args):\n",
        "    result=10\n",
        "    for i in args:\n",
        "        result/=i\n",
        "    return result\n",
        "\n",
        "use_args(5,4,2,3,2)"
      ],
      "metadata": {
        "colab": {
          "base_uri": "https://localhost:8080/"
        },
        "id": "jQGOBek8p8sT",
        "outputId": "e8e19513-7d45-4ff9-8826-9a6104ab3278"
      },
      "execution_count": 8,
      "outputs": [
        {
          "output_type": "execute_result",
          "data": {
            "text/plain": [
              "0.041666666666666664"
            ]
          },
          "metadata": {},
          "execution_count": 8
        }
      ]
    },
    {
      "cell_type": "code",
      "source": [
        "def use_args(*args):\n",
        "    result=10\n",
        "    for i in args:\n",
        "        result//=i\n",
        "    return result\n",
        "\n",
        "use_args(5,4,2,3,2)"
      ],
      "metadata": {
        "colab": {
          "base_uri": "https://localhost:8080/"
        },
        "id": "_wh7SwNoqF4U",
        "outputId": "14e06226-72d3-466b-ef7d-d62cd0e26208"
      },
      "execution_count": 9,
      "outputs": [
        {
          "output_type": "execute_result",
          "data": {
            "text/plain": [
              "0"
            ]
          },
          "metadata": {},
          "execution_count": 9
        }
      ]
    },
    {
      "cell_type": "code",
      "source": [
        "def use_args(*args):\n",
        "    result=10\n",
        "    for i in args:\n",
        "        if i%2==0:\n",
        "            print(i, 'is an even number')\n",
        "        else:\n",
        "            print(i,'is an odd number')\n",
        "use_args(5,4,2,3,2)"
      ],
      "metadata": {
        "colab": {
          "base_uri": "https://localhost:8080/"
        },
        "id": "UbcCnvx8qOme",
        "outputId": "33a2b7c6-38f9-4ca2-c4df-1ccc31c49916"
      },
      "execution_count": 11,
      "outputs": [
        {
          "output_type": "stream",
          "name": "stdout",
          "text": [
            "5 is an odd number\n",
            "4 is an even number\n",
            "2 is an even number\n",
            "3 is an odd number\n",
            "2 is an even number\n"
          ]
        }
      ]
    },
    {
      "cell_type": "code",
      "source": [
        "def use_args(*args):\n",
        "    result=2\n",
        "    for i in args:\n",
        "        result**=i\n",
        "    return result\n",
        "\n",
        "use_args(5,4,2,3,2)"
      ],
      "metadata": {
        "colab": {
          "base_uri": "https://localhost:8080/"
        },
        "id": "v78-1ccPqs1p",
        "outputId": "9a6a5f1f-4649-427f-c0b3-5060ffa7e116"
      },
      "execution_count": 12,
      "outputs": [
        {
          "output_type": "execute_result",
          "data": {
            "text/plain": [
              "1766847064778384329583297500742918515827483896875618958121606201292619776"
            ]
          },
          "metadata": {},
          "execution_count": 12
        }
      ]
    },
    {
      "cell_type": "code",
      "source": [
        "#2. py program for **kwargs\n",
        "def use_kwargs(**kwargs):\n",
        "    s=set()\n",
        "    for i in kwargs:\n",
        "        s.add(i)\n",
        "    print(s)\n",
        "use_kwargs(a='apple',b='ball',c='cat',d='dog')"
      ],
      "metadata": {
        "colab": {
          "base_uri": "https://localhost:8080/"
        },
        "id": "PldrSnezrmLL",
        "outputId": "0d8125d0-5c6b-4ce9-a382-f884147c496d"
      },
      "execution_count": 18,
      "outputs": [
        {
          "output_type": "stream",
          "name": "stdout",
          "text": [
            "{'c', 'a', 'd', 'b'}\n"
          ]
        }
      ]
    },
    {
      "cell_type": "markdown",
      "source": [
        "    1. abs()\tReturns the absolute value of a number\n",
        "\t2. all()\tReturns True if all items in an iterable object are true\n",
        "\t3. any()\tReturns True if any item in an iterable object is true\n",
        "\t4. bin()\tReturns the binary version of a number\n",
        "\t5. bool()\tReturns the boolean value of the specified object\n",
        "\t6. complex()\tReturns a complex number\n",
        "\t7. dict()\tReturns a dictionary (Array)\n",
        "\t8. enumerate()\tTakes a collection (e.g. a tuple) and returns it as an enumerate object\n",
        "\t9. eval()\tEvaluates and executes an expression\n",
        "\t10. exec()\tExecutes the specified code (or object)\n",
        "\t11. filter()\tUse a filter function to exclude items in an iterable object\n",
        "\t12. float()\tReturns a floating point number\n",
        "\t13. format()\tFormats a specified value\n",
        "\t14. help()\tExecutes the built-in help system\n",
        "\t15. hex()\tConverts a number into a hexadecimal value\n",
        "\t16. id()\tReturns the id of an object\n",
        "\t17. input()\tAllowing user input\n",
        "\t18. int()\tReturns an integer number\n",
        "\t19. iter()\tReturns an iterator object\n",
        "\t20. len()\tReturns the length of an object\n",
        "\t21. list()\tReturns a list\n",
        "\t22. max()\tReturns the largest item in an iterable\n",
        "\t23. min()\tReturns the smallest item in an iterable\n",
        "\t24. next()\tReturns the next item in an iterable\n",
        "\t25. oct()\tConverts a number into an octal\n",
        "\t26. open()\tOpens a file and returns a file object\n",
        "\t27. ord()\tConvert an integer representing the Unicode of the specified character\n",
        "\t28. pow()\tReturns the value of x to the power of y\n",
        "\t29. print()\tPrints to the standard output device\n",
        "\t30. property()\tGets, sets, deletes a property\n",
        "\t31. range()\tReturns a sequence of numbers, starting from 0 and increments by 1 (by default)\n",
        "\t32. repr()\tReturns a readable version of an object\n",
        "\t33. reversed()\tReturns a reversed iterator\n",
        "\t34. round()\tRounds a numbers\n",
        "\t35. set()\tReturns a new set object\n",
        "\t36. slice()\tReturns a slice object\n",
        "\t37. sorted()\tReturns a sorted list\n",
        "\t38. str()\tReturns a string object\n",
        "\t39. sum()\tSums the items of an iterator\n",
        "\t40. tuple()\tReturns a tuple\n",
        "\t41. type()\tReturns the type of an object"
      ],
      "metadata": {
        "id": "MOpBQkkEwz4J"
      }
    },
    {
      "cell_type": "code",
      "source": [
        "#Built in functions\n",
        "abs(2-4)"
      ],
      "metadata": {
        "colab": {
          "base_uri": "https://localhost:8080/"
        },
        "id": "TGNjyTEQvVXQ",
        "outputId": "55aa86e5-2b19-4727-ff26-697802114548"
      },
      "execution_count": 19,
      "outputs": [
        {
          "output_type": "execute_result",
          "data": {
            "text/plain": [
              "2"
            ]
          },
          "metadata": {},
          "execution_count": 19
        }
      ]
    },
    {
      "cell_type": "code",
      "source": [
        "all([2>3,True])"
      ],
      "metadata": {
        "colab": {
          "base_uri": "https://localhost:8080/"
        },
        "id": "dzrpU8uDv4Lw",
        "outputId": "0aefd13c-cde2-4100-cb13-1c6038f01c96"
      },
      "execution_count": 21,
      "outputs": [
        {
          "output_type": "execute_result",
          "data": {
            "text/plain": [
              "False"
            ]
          },
          "metadata": {},
          "execution_count": 21
        }
      ]
    },
    {
      "cell_type": "code",
      "source": [
        "any([2>3,True])"
      ],
      "metadata": {
        "colab": {
          "base_uri": "https://localhost:8080/"
        },
        "id": "4tdN-fRkwHRY",
        "outputId": "af207cab-8232-4cad-dc3e-e8b80de01a2f"
      },
      "execution_count": 22,
      "outputs": [
        {
          "output_type": "execute_result",
          "data": {
            "text/plain": [
              "True"
            ]
          },
          "metadata": {},
          "execution_count": 22
        }
      ]
    },
    {
      "cell_type": "code",
      "source": [
        "print(bin(5))\n",
        "print(hex(12))\n",
        "print(oct(11))"
      ],
      "metadata": {
        "colab": {
          "base_uri": "https://localhost:8080/"
        },
        "id": "3OzbUX7ZwPo7",
        "outputId": "7df7c0da-d418-4e26-8667-5107e6d7ae6d"
      },
      "execution_count": 60,
      "outputs": [
        {
          "output_type": "stream",
          "name": "stdout",
          "text": [
            "0b101\n",
            "0xc\n",
            "0o13\n"
          ]
        }
      ]
    },
    {
      "cell_type": "code",
      "source": [
        "bool(1)#True for non-zero"
      ],
      "metadata": {
        "colab": {
          "base_uri": "https://localhost:8080/"
        },
        "id": "uqCwwA06wd1L",
        "outputId": "f280b612-8b4d-44f0-f764-ac9c17e43cd0"
      },
      "execution_count": 24,
      "outputs": [
        {
          "output_type": "execute_result",
          "data": {
            "text/plain": [
              "True"
            ]
          },
          "metadata": {},
          "execution_count": 24
        }
      ]
    },
    {
      "cell_type": "code",
      "source": [
        "complex(1,2)"
      ],
      "metadata": {
        "colab": {
          "base_uri": "https://localhost:8080/"
        },
        "id": "e3SSGCHuxG1q",
        "outputId": "50d42f3f-5a2c-4a76-abb6-ada4287a8aa5"
      },
      "execution_count": 25,
      "outputs": [
        {
          "output_type": "execute_result",
          "data": {
            "text/plain": [
              "(1+2j)"
            ]
          },
          "metadata": {},
          "execution_count": 25
        }
      ]
    },
    {
      "cell_type": "code",
      "source": [
        "dict([(1,'a'),(2,'b'),(3,'c')])#L of T or L of L"
      ],
      "metadata": {
        "colab": {
          "base_uri": "https://localhost:8080/"
        },
        "id": "3d__OomexOQR",
        "outputId": "8ce6a534-fcc4-4e18-9671-a8c7463820f1"
      },
      "execution_count": 26,
      "outputs": [
        {
          "output_type": "execute_result",
          "data": {
            "text/plain": [
              "{1: 'a', 2: 'b', 3: 'c'}"
            ]
          },
          "metadata": {},
          "execution_count": 26
        }
      ]
    },
    {
      "cell_type": "code",
      "source": [
        "for i in enumerate(['apple', 'banana', 'orange']):#to iterate list\n",
        "    print(i)"
      ],
      "metadata": {
        "colab": {
          "base_uri": "https://localhost:8080/"
        },
        "id": "RuQ2h6IRyDT-",
        "outputId": "df5a8eb6-6fde-4877-f292-83c2b67e4292"
      },
      "execution_count": 30,
      "outputs": [
        {
          "output_type": "stream",
          "name": "stdout",
          "text": [
            "(0, 'apple')\n",
            "(1, 'banana')\n",
            "(2, 'orange')\n"
          ]
        }
      ]
    },
    {
      "cell_type": "code",
      "source": [
        "eval('5+2')"
      ],
      "metadata": {
        "colab": {
          "base_uri": "https://localhost:8080/"
        },
        "id": "qM4KkLjIy9AP",
        "outputId": "abfcc350-1683-4755-cecc-090075b7780c"
      },
      "execution_count": 31,
      "outputs": [
        {
          "output_type": "execute_result",
          "data": {
            "text/plain": [
              "7"
            ]
          },
          "metadata": {},
          "execution_count": 31
        }
      ]
    },
    {
      "cell_type": "code",
      "source": [
        "source_code = '''\n",
        "def greet(name):\n",
        "    return f\"Hello, {name}!\"\n",
        "\n",
        "result = greet(\"Alice\")\n",
        "print(result)\n",
        "'''\n",
        "\n",
        "compiled_code = compile(source_code, \"<string>\", \"exec\")\n",
        "\n",
        "# Execute the compiled code\n",
        "exec(compiled_code)\n"
      ],
      "metadata": {
        "colab": {
          "base_uri": "https://localhost:8080/"
        },
        "id": "vXoO1ueozbBn",
        "outputId": "d4fc530d-8f49-4b74-a671-04e93259cc2c"
      },
      "execution_count": 32,
      "outputs": [
        {
          "output_type": "stream",
          "name": "stdout",
          "text": [
            "Hello, Alice!\n"
          ]
        }
      ]
    },
    {
      "cell_type": "code",
      "source": [
        "#filter(fun, iterable)-->It filters ite based on a specified function.\n",
        "\n",
        "def is_even(num):\n",
        "    return num % 2 == 0\n",
        "even_numbers = filter(is_even, [1, 2, 3, 4, 5, 6, 7, 8, 9, 10])\n",
        "print(list(even_numbers))"
      ],
      "metadata": {
        "colab": {
          "base_uri": "https://localhost:8080/"
        },
        "id": "WRjivwrGzwNA",
        "outputId": "2408460e-4d8d-46d7-8356-06292e85203d"
      },
      "execution_count": 36,
      "outputs": [
        {
          "output_type": "stream",
          "name": "stdout",
          "text": [
            "[2, 4, 6, 8, 10]\n"
          ]
        }
      ]
    },
    {
      "cell_type": "code",
      "source": [
        "print(float(2))\n"
      ],
      "metadata": {
        "colab": {
          "base_uri": "https://localhost:8080/"
        },
        "id": "K879NZP60Pis",
        "outputId": "5637d2ce-5118-44f9-f94f-6d2f846405ff"
      },
      "execution_count": 39,
      "outputs": [
        {
          "output_type": "stream",
          "name": "stdout",
          "text": [
            "2.0\n"
          ]
        }
      ]
    },
    {
      "cell_type": "code",
      "source": [
        "\"my name is {} and I am {}\".format('Pushpa',33)#replaces placeholder with values"
      ],
      "metadata": {
        "colab": {
          "base_uri": "https://localhost:8080/",
          "height": 36
        },
        "id": "-3DV6O3C0tUi",
        "outputId": "e880ae8c-7c66-4102-d4dc-0fa22e7e1d86"
      },
      "execution_count": 40,
      "outputs": [
        {
          "output_type": "execute_result",
          "data": {
            "text/plain": [
              "'my name is Pushpa and I am 33'"
            ],
            "application/vnd.google.colaboratory.intrinsic+json": {
              "type": "string"
            }
          },
          "metadata": {},
          "execution_count": 40
        }
      ]
    },
    {
      "cell_type": "code",
      "source": [
        "help(abs)"
      ],
      "metadata": {
        "colab": {
          "base_uri": "https://localhost:8080/"
        },
        "id": "FQ9qPey-1BPo",
        "outputId": "394dd5bd-4a4b-4c9f-ecd6-f7ffeb48ce28"
      },
      "execution_count": 41,
      "outputs": [
        {
          "output_type": "stream",
          "name": "stdout",
          "text": [
            "Help on built-in function abs in module builtins:\n",
            "\n",
            "abs(x, /)\n",
            "    Return the absolute value of the argument.\n",
            "\n"
          ]
        }
      ]
    },
    {
      "cell_type": "code",
      "source": [
        "id(10)#returns a unique identifier/ memory address"
      ],
      "metadata": {
        "colab": {
          "base_uri": "https://localhost:8080/"
        },
        "id": "JJBJ0WM_1Tvt",
        "outputId": "7c4dde40-0610-4617-8255-19ac871d4840"
      },
      "execution_count": 43,
      "outputs": [
        {
          "output_type": "execute_result",
          "data": {
            "text/plain": [
              "139736470487568"
            ]
          },
          "metadata": {},
          "execution_count": 43
        }
      ]
    },
    {
      "cell_type": "code",
      "source": [
        "isinstance(12,int)"
      ],
      "metadata": {
        "colab": {
          "base_uri": "https://localhost:8080/"
        },
        "id": "R0Vgq8oF1iuO",
        "outputId": "48cb3c99-3bae-4376-af42-da7118f110de"
      },
      "execution_count": 44,
      "outputs": [
        {
          "output_type": "execute_result",
          "data": {
            "text/plain": [
              "True"
            ]
          },
          "metadata": {},
          "execution_count": 44
        }
      ]
    },
    {
      "cell_type": "code",
      "source": [
        "input('Enter you name:')"
      ],
      "metadata": {
        "colab": {
          "base_uri": "https://localhost:8080/",
          "height": 53
        },
        "id": "d3XrCj0W1m4G",
        "outputId": "a800a30a-6e94-4d11-f1e2-e9cea974a38b"
      },
      "execution_count": 45,
      "outputs": [
        {
          "name": "stdout",
          "output_type": "stream",
          "text": [
            "Enter you name:Pushpa\n"
          ]
        },
        {
          "output_type": "execute_result",
          "data": {
            "text/plain": [
              "'Pushpa'"
            ],
            "application/vnd.google.colaboratory.intrinsic+json": {
              "type": "string"
            }
          },
          "metadata": {},
          "execution_count": 45
        }
      ]
    },
    {
      "cell_type": "code",
      "source": [
        "int(2.2)"
      ],
      "metadata": {
        "colab": {
          "base_uri": "https://localhost:8080/"
        },
        "id": "WRw7Yx-X1wf0",
        "outputId": "0021c971-a19e-4244-d830-3ad1fc0ec8b4"
      },
      "execution_count": 46,
      "outputs": [
        {
          "output_type": "execute_result",
          "data": {
            "text/plain": [
              "2"
            ]
          },
          "metadata": {},
          "execution_count": 46
        }
      ]
    },
    {
      "cell_type": "code",
      "source": [
        "l = [1, 3, 5, 7, 9]\n",
        "itr = iter(l)\n",
        "\n",
        "try:\n",
        "    while True:\n",
        "        print(next(itr))\n",
        "except StopIteration:\n",
        "    pass"
      ],
      "metadata": {
        "colab": {
          "base_uri": "https://localhost:8080/"
        },
        "id": "hN-YS__B10Yo",
        "outputId": "bfda3652-9adb-468d-fdc8-b73596af11b6"
      },
      "execution_count": 49,
      "outputs": [
        {
          "output_type": "stream",
          "name": "stdout",
          "text": [
            "1\n",
            "3\n",
            "5\n",
            "7\n",
            "9\n"
          ]
        }
      ]
    },
    {
      "cell_type": "code",
      "source": [
        "len([1,2,3])# len of any ite"
      ],
      "metadata": {
        "colab": {
          "base_uri": "https://localhost:8080/"
        },
        "id": "Yw99lU_g3EL5",
        "outputId": "05bd05f0-2076-4c2d-c7bd-cb46dd094dcb"
      },
      "execution_count": 50,
      "outputs": [
        {
          "output_type": "execute_result",
          "data": {
            "text/plain": [
              "3"
            ]
          },
          "metadata": {},
          "execution_count": 50
        }
      ]
    },
    {
      "cell_type": "code",
      "source": [
        "print(list('Pushpa'))\n",
        "print(list((1,2,3)))\n",
        "print(list({1:'a',2:'b',3:'c'}))\n",
        "print(list({1:'a',2:'b',3:'c'}.values()))\n",
        "print(list({1:'a',2:'b',3:'c'}.items()))"
      ],
      "metadata": {
        "colab": {
          "base_uri": "https://localhost:8080/"
        },
        "id": "BDHd3m1Y3Lmr",
        "outputId": "e7eeefbe-3d6f-4a22-e7b0-7ac172b90652"
      },
      "execution_count": 57,
      "outputs": [
        {
          "output_type": "stream",
          "name": "stdout",
          "text": [
            "['P', 'u', 's', 'h', 'p', 'a']\n",
            "[1, 2, 3]\n",
            "[1, 2, 3]\n",
            "['a', 'b', 'c']\n",
            "[(1, 'a'), (2, 'b'), (3, 'c')]\n"
          ]
        }
      ]
    },
    {
      "cell_type": "code",
      "source": [
        "print(max('pushpa'))#of ite\n",
        "print(min([1,2,3,4,0]))"
      ],
      "metadata": {
        "colab": {
          "base_uri": "https://localhost:8080/"
        },
        "id": "NpH3PQEe4RrC",
        "outputId": "622c803c-7a2d-4fd3-d1b1-16792b6c4f4f"
      },
      "execution_count": 59,
      "outputs": [
        {
          "output_type": "stream",
          "name": "stdout",
          "text": [
            "u\n",
            "0\n"
          ]
        }
      ]
    },
    {
      "cell_type": "code",
      "source": [
        "path='/content/drive/MyDrive/Dataset/dsinput.txt'\n",
        "with open(path,'w') as f:\n",
        "    #print(f.read())\n",
        "    f.write(\"This line is appended from python\")\n"
      ],
      "metadata": {
        "id": "bXptqM5q5J_Q"
      },
      "execution_count": 62,
      "outputs": []
    },
    {
      "cell_type": "code",
      "source": [
        "#ord()-->ord('A') returns the ordinal value or Unicode code point of A\n",
        "ord('A')"
      ],
      "metadata": {
        "colab": {
          "base_uri": "https://localhost:8080/"
        },
        "id": "7uIwJdE45Ytk",
        "outputId": "241d6fa9-1b88-4c11-d1ab-360f259c6f31"
      },
      "execution_count": 63,
      "outputs": [
        {
          "output_type": "execute_result",
          "data": {
            "text/plain": [
              "65"
            ]
          },
          "metadata": {},
          "execution_count": 63
        }
      ]
    },
    {
      "cell_type": "code",
      "source": [
        "#pow()-->exponential\n",
        "print(pow(2, 3))\n",
        "print(pow(2, 3, 5))  # Calculates (2 ** 3) % 5"
      ],
      "metadata": {
        "colab": {
          "base_uri": "https://localhost:8080/"
        },
        "id": "Cd3pI1ry5fLZ",
        "outputId": "a18da070-81e6-4ce9-94c3-71fa22179768"
      },
      "execution_count": 64,
      "outputs": [
        {
          "output_type": "stream",
          "name": "stdout",
          "text": [
            "8\n",
            "3\n"
          ]
        }
      ]
    },
    {
      "cell_type": "code",
      "source": [
        "#property()-->allows implementation of getter and setter()\n",
        "class MyClass:\n",
        "    def __init__(self):\n",
        "        self._x = None\n",
        "\n",
        "    def get_x(self):\n",
        "        return self._x\n",
        "\n",
        "    def set_x(self, value):\n",
        "        self._x = value\n",
        "\n",
        "    x = property(get_x, set_x)\n",
        "\n",
        "obj = MyClass()\n",
        "obj.x = 10\n",
        "print(obj.x)"
      ],
      "metadata": {
        "colab": {
          "base_uri": "https://localhost:8080/"
        },
        "id": "Xb8JwHih5qxv",
        "outputId": "af4db8dd-6332-4530-805b-0825e7297f64"
      },
      "execution_count": 65,
      "outputs": [
        {
          "output_type": "stream",
          "name": "stdout",
          "text": [
            "10\n"
          ]
        }
      ]
    },
    {
      "cell_type": "code",
      "source": [
        "range(3)\n",
        "for i in range(3):\n",
        "    print(i)"
      ],
      "metadata": {
        "colab": {
          "base_uri": "https://localhost:8080/"
        },
        "id": "N9g8v1Wd6rfj",
        "outputId": "23621580-2636-4911-f14f-ffef49569bb1"
      },
      "execution_count": 69,
      "outputs": [
        {
          "output_type": "stream",
          "name": "stdout",
          "text": [
            "0\n",
            "1\n",
            "2\n"
          ]
        }
      ]
    },
    {
      "cell_type": "code",
      "source": [
        "#repr()-->  used to obtain the string representation of an object for debugging purpose.\n",
        "x = 10\n",
        "r=repr(x)\n",
        "print(r) # string '10'\n",
        "print(eval(r)) # int 10\n",
        "\n",
        "y = [1, 2, 3]\n",
        "print(repr(y))  # Output: '[1, 2, 3]'"
      ],
      "metadata": {
        "colab": {
          "base_uri": "https://localhost:8080/"
        },
        "id": "_gKE0iO-7Had",
        "outputId": "cd4bceb2-8d13-4c0d-81fe-7b2f059ee445"
      },
      "execution_count": 70,
      "outputs": [
        {
          "output_type": "stream",
          "name": "stdout",
          "text": [
            "10\n",
            "10\n",
            "[1, 2, 3]\n"
          ]
        }
      ]
    },
    {
      "cell_type": "code",
      "source": [
        "reversed([1,2,3])\n",
        "list(reversed([1,2,3]))\n",
        ""
      ],
      "metadata": {
        "colab": {
          "base_uri": "https://localhost:8080/"
        },
        "id": "bDbqqjX57NG3",
        "outputId": "c9a4407f-320c-44db-b191-2577536b26ca"
      },
      "execution_count": 74,
      "outputs": [
        {
          "output_type": "execute_result",
          "data": {
            "text/plain": [
              "[3, 2, 1]"
            ]
          },
          "metadata": {},
          "execution_count": 74
        }
      ]
    },
    {
      "cell_type": "code",
      "source": [
        "print(round(1.5))\n",
        "print(round(1.55,1))"
      ],
      "metadata": {
        "colab": {
          "base_uri": "https://localhost:8080/"
        },
        "id": "M2frOFTU7y1N",
        "outputId": "e56a0f3a-82f8-4f6a-c4d9-11f5da1f9799"
      },
      "execution_count": 77,
      "outputs": [
        {
          "output_type": "stream",
          "name": "stdout",
          "text": [
            "2\n",
            "1.6\n"
          ]
        }
      ]
    },
    {
      "cell_type": "code",
      "source": [
        "print(set([2,2,3]))\n",
        "print(set({'a':'apple','b':'ball'}))\n",
        "print(set({'a':'apple','b':'ball'}.items()))"
      ],
      "metadata": {
        "colab": {
          "base_uri": "https://localhost:8080/"
        },
        "id": "M3HxC9WT8Tyg",
        "outputId": "f26df3c4-1725-442b-b328-9841441c1dc1"
      },
      "execution_count": 82,
      "outputs": [
        {
          "output_type": "stream",
          "name": "stdout",
          "text": [
            "{2, 3}\n",
            "{'a', 'b'}\n",
            "{('b', 'ball'), ('a', 'apple')}\n"
          ]
        }
      ]
    },
    {
      "cell_type": "code",
      "source": [
        "#setattr()-->  sets the value of an attribute on an object.\n",
        "class Person:\n",
        "    pass\n",
        "\n",
        "obj = Person()\n",
        "\n",
        "# Setting attributes using setattr()\n",
        "setattr(obj, 'name', 'Pushpa')\n",
        "setattr(obj, 'age', 33)\n",
        "\n",
        "# Accessing the attributes\n",
        "print(obj.name)\n",
        "print(obj.age)"
      ],
      "metadata": {
        "colab": {
          "base_uri": "https://localhost:8080/"
        },
        "id": "C-wdP1SF9SwQ",
        "outputId": "fb280d64-a9eb-410b-ff73-a5377d4c30b5"
      },
      "execution_count": 83,
      "outputs": [
        {
          "output_type": "stream",
          "name": "stdout",
          "text": [
            "Pushpa\n",
            "33\n"
          ]
        }
      ]
    },
    {
      "cell_type": "code",
      "source": [
        "#slice() instead of indexing\n",
        "l = [1, 2, 3, 4, 5]\n",
        "l[slice(2,4)]"
      ],
      "metadata": {
        "colab": {
          "base_uri": "https://localhost:8080/"
        },
        "id": "ur7zFr0G9sVa",
        "outputId": "c0db3476-ce49-4373-d216-002bd53f5fc5"
      },
      "execution_count": 88,
      "outputs": [
        {
          "output_type": "execute_result",
          "data": {
            "text/plain": [
              "[3, 4]"
            ]
          },
          "metadata": {},
          "execution_count": 88
        }
      ]
    },
    {
      "cell_type": "code",
      "source": [
        "#sorted()-->  sorts the iterable obj keeping the original obj unchanged.\n",
        "print(sorted([1,3,2,5,4]))\n",
        "sorted('pushpa', reverse=True)"
      ],
      "metadata": {
        "colab": {
          "base_uri": "https://localhost:8080/"
        },
        "id": "cA3zbJ_k-9fx",
        "outputId": "1c6137f9-25f0-4df3-c3c4-d9467d85844b"
      },
      "execution_count": 89,
      "outputs": [
        {
          "output_type": "stream",
          "name": "stdout",
          "text": [
            "[1, 2, 3, 4, 5]\n"
          ]
        },
        {
          "output_type": "execute_result",
          "data": {
            "text/plain": [
              "['u', 's', 'p', 'p', 'h', 'a']"
            ]
          },
          "metadata": {},
          "execution_count": 89
        }
      ]
    },
    {
      "cell_type": "code",
      "source": [
        "str(1)"
      ],
      "metadata": {
        "colab": {
          "base_uri": "https://localhost:8080/",
          "height": 36
        },
        "id": "71Wa935b_Acq",
        "outputId": "5d81dc8f-baa8-40d1-c312-1c44a4afe059"
      },
      "execution_count": 90,
      "outputs": [
        {
          "output_type": "execute_result",
          "data": {
            "text/plain": [
              "'1'"
            ],
            "application/vnd.google.colaboratory.intrinsic+json": {
              "type": "string"
            }
          },
          "metadata": {},
          "execution_count": 90
        }
      ]
    },
    {
      "cell_type": "code",
      "source": [
        "sum([1,2,3])# sums ite"
      ],
      "metadata": {
        "colab": {
          "base_uri": "https://localhost:8080/"
        },
        "id": "FriFl-dL_GEa",
        "outputId": "47c7038a-b9e9-425d-8fba-3d9fb033baed"
      },
      "execution_count": 91,
      "outputs": [
        {
          "output_type": "execute_result",
          "data": {
            "text/plain": [
              "6"
            ]
          },
          "metadata": {},
          "execution_count": 91
        }
      ]
    },
    {
      "cell_type": "code",
      "source": [
        "tuple({1,2,3})"
      ],
      "metadata": {
        "colab": {
          "base_uri": "https://localhost:8080/"
        },
        "id": "kYuxzqcZ_LSP",
        "outputId": "f7577533-406b-46d6-e35c-ea68c3c920a1"
      },
      "execution_count": 93,
      "outputs": [
        {
          "output_type": "execute_result",
          "data": {
            "text/plain": [
              "(1, 2, 3)"
            ]
          },
          "metadata": {},
          "execution_count": 93
        }
      ]
    },
    {
      "cell_type": "code",
      "source": [
        "print(type(1.2))\n",
        "l=[1,2]\n",
        "type(l)"
      ],
      "metadata": {
        "colab": {
          "base_uri": "https://localhost:8080/"
        },
        "id": "qLugUSBt_g1n",
        "outputId": "36e502b6-93a9-47cb-e1a5-0170ff5fb831"
      },
      "execution_count": 96,
      "outputs": [
        {
          "output_type": "stream",
          "name": "stdout",
          "text": [
            "<class 'float'>\n"
          ]
        },
        {
          "output_type": "execute_result",
          "data": {
            "text/plain": [
              "list"
            ]
          },
          "metadata": {},
          "execution_count": 96
        }
      ]
    },
    {
      "cell_type": "code",
      "source": [
        "#staticmethod() -->returns a static method from a function defined within a class.\n",
        "class MyClass:\n",
        "    @staticmethod\n",
        "    def static_method():\n",
        "        return \"This is a static method.\"\n",
        "\n",
        "# Calling the static method without an instance of the class\n",
        "MyClass.static_method()"
      ],
      "metadata": {
        "colab": {
          "base_uri": "https://localhost:8080/",
          "height": 36
        },
        "id": "aB0FxPP6_yqK",
        "outputId": "bf28a762-c43b-4e2d-9314-93d6101e3191"
      },
      "execution_count": 97,
      "outputs": [
        {
          "output_type": "execute_result",
          "data": {
            "text/plain": [
              "'This is a static method.'"
            ],
            "application/vnd.google.colaboratory.intrinsic+json": {
              "type": "string"
            }
          },
          "metadata": {},
          "execution_count": 97
        }
      ]
    },
    {
      "cell_type": "code",
      "source": [
        "class MyClass:\n",
        "    def __init__(self, value):\n",
        "        self.value = value\n",
        "\n",
        "    def instance_method(self):\n",
        "        return f\"This is an instance method. Value: {self.value}\"\n",
        "\n",
        "# Creating an instance of the class\n",
        "obj = MyClass(10)\n",
        "\n",
        "# Calling an instance method using the instance\n",
        "obj.instance_method()"
      ],
      "metadata": {
        "colab": {
          "base_uri": "https://localhost:8080/",
          "height": 36
        },
        "id": "Y4VFPl79_1kf",
        "outputId": "263aa41c-cdc5-4e11-99ab-f25d0ecbf784"
      },
      "execution_count": 98,
      "outputs": [
        {
          "output_type": "execute_result",
          "data": {
            "text/plain": [
              "'This is an instance method. Value: 10'"
            ],
            "application/vnd.google.colaboratory.intrinsic+json": {
              "type": "string"
            }
          },
          "metadata": {},
          "execution_count": 98
        }
      ]
    }
  ]
}