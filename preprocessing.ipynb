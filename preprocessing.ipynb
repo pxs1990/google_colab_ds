{
  "nbformat": 4,
  "nbformat_minor": 0,
  "metadata": {
    "colab": {
      "provenance": [],
      "authorship_tag": "ABX9TyPI2VjDNeiC5aQKLb0Rguio",
      "include_colab_link": true
    },
    "kernelspec": {
      "name": "python3",
      "display_name": "Python 3"
    },
    "language_info": {
      "name": "python"
    }
  },
  "cells": [
    {
      "cell_type": "markdown",
      "metadata": {
        "id": "view-in-github",
        "colab_type": "text"
      },
      "source": [
        "<a href=\"https://colab.research.google.com/github/pxs1990/python_data_science/blob/main/preprocessing.ipynb\" target=\"_parent\"><img src=\"https://colab.research.google.com/assets/colab-badge.svg\" alt=\"Open In Colab\"/></a>"
      ]
    },
    {
      "cell_type": "markdown",
      "source": [
        "### **Data Preprocessing**"
      ],
      "metadata": {
        "id": "RlLaN5ot00tj"
      }
    },
    {
      "cell_type": "code",
      "source": [
        "#Example 1\n",
        "import pandas as pd\n",
        "import numpy as np\n",
        "from sklearn.impute import SimpleImputer\n",
        "from sklearn.compose import ColumnTransformer\n",
        "from sklearn.preprocessing import OneHotEncoder\n",
        "\n",
        "data = {\n",
        "    'SquareFeet': [1500, 2000, 1700, None, 1300],\n",
        "    'Bedrooms': [3, 4, 3, 4, None],\n",
        "    'Location': ['City', 'City', None, 'Hood', 'City'],\n",
        "    'Price': [300000, 400000, 250000, 270000, 480000]\n",
        "}\n",
        "df = pd.DataFrame(data)\n",
        "\n",
        "# Separating dependent and independent variables\n",
        "y = df['Price'].values\n",
        "X = df.drop('Price', axis=1).values\n",
        "\n",
        "# Handling missing values in numerical columns with the 'mean' strategy\n",
        "numerical_imputer = SimpleImputer(missing_values=np.nan, strategy='mean')\n",
        "X[:, :2] = numerical_imputer.fit_transform(X[:, :2])\n",
        "\n",
        "# Handling missing values in the categorical column ('Location') with the 'most frequent' strategy\n",
        "categorical_imputer = SimpleImputer(missing_values=None, strategy='most_frequent')\n",
        "X[:, 2] = categorical_imputer.fit_transform(X[:, 2].reshape(-1, 1)).flatten()\n",
        "print('df after imputing missing values:')\n",
        "print(X)\n",
        "\n",
        "# Apply OneHotEncoder to the categorical column ('Location')\n",
        "ct = ColumnTransformer(transformers=[\n",
        "    ('keeping first two col', 'passthrough', [0, 1]),  # Keep the first two columns unchanged\n",
        "    ('encoder', OneHotEncoder(), [2])  # Encode the third column ('Location')\n",
        "], remainder='drop')  # 'drop' ignores other columns not specified\n",
        "X = np.array(ct.fit_transform(X))\n",
        "print('\\ndf with incoded categorical data:')\n",
        "print(X)\n",
        "\n",
        "# splitting the data for trainning and testing\n",
        "from sklearn.model_selection import train_test_split\n",
        "X_train, X_test, y_train, y_test = train_test_split(X, y, test_size= 1/5, random_state=0)# random state=0 means it reproduces the same split in every run\n",
        "print(f\"X_train df:\\n {X_train}, \\nX_test df:\\n {X_test}, \\ny_train df:\\n {y_train}, \\ny_test df:\\n {y_test}\")\n",
        "\n",
        "\n",
        "# Feature Scaling\n",
        "from sklearn.preprocessing import StandardScaler\n",
        "sc = StandardScaler()\n",
        "X_train[:, :2] = sc.fit_transform(X_train[:, :2])\n",
        "X_test[:, :2] = sc.transform(X_test[:, :2])\n",
        "print('\\ndf after normalization:')\n",
        "X_train, X_test"
      ],
      "metadata": {
        "colab": {
          "base_uri": "https://localhost:8080/"
        },
        "id": "yPomEBmvFy9S",
        "outputId": "f5fd564a-44fe-4ef6-c7d2-86b06d95f80d"
      },
      "execution_count": 60,
      "outputs": [
        {
          "output_type": "stream",
          "name": "stdout",
          "text": [
            "df after imputing missing values:\n",
            "[[1500.0 3.0 'City']\n",
            " [2000.0 4.0 'City']\n",
            " [1700.0 3.0 'City']\n",
            " [1625.0 4.0 'Hood']\n",
            " [1300.0 3.5 'City']]\n",
            "\n",
            "df with incoded categorical data:\n",
            "[[1500.0 3.0 1.0 0.0]\n",
            " [2000.0 4.0 1.0 0.0]\n",
            " [1700.0 3.0 1.0 0.0]\n",
            " [1625.0 4.0 0.0 1.0]\n",
            " [1300.0 3.5 1.0 0.0]]\n",
            "X_train df:\n",
            " [[1500.0 3.0 1.0 0.0]\n",
            " [2000.0 4.0 1.0 0.0]\n",
            " [1625.0 4.0 0.0 1.0]\n",
            " [1300.0 3.5 1.0 0.0]], \n",
            "X_test df:\n",
            " [[1700.0 3.0 1.0 0.0]], \n",
            "y_train df:\n",
            " [300000 400000 270000 480000], \n",
            "y_test df:\n",
            " [250000]\n",
            "\n",
            "df after normalization:\n"
          ]
        },
        {
          "output_type": "execute_result",
          "data": {
            "text/plain": [
              "(array([[-0.41637162119267096, -1.507556722888818, 1.0, 0.0],\n",
              "        [1.5430242432434276, 0.9045340337332909, 1.0, 0.0],\n",
              "        [0.0734773449163537, 0.9045340337332909, 0.0, 1.0],\n",
              "        [-1.2001299669671104, -0.30151134457776363, 1.0, 0.0]],\n",
              "       dtype=object),\n",
              " array([[0.36738672458176846, -1.507556722888818, 1.0, 0.0]], dtype=object))"
            ]
          },
          "metadata": {},
          "execution_count": 60
        }
      ]
    },
    {
      "cell_type": "code",
      "execution_count": 16,
      "metadata": {
        "colab": {
          "base_uri": "https://localhost:8080/",
          "height": 362
        },
        "id": "O6iT3Uy5zN8W",
        "outputId": "2e795d86-e8f3-4593-ec19-c2d1a9910d5b"
      },
      "outputs": [
        {
          "output_type": "execute_result",
          "data": {
            "text/plain": [
              "   Country   Age   Salary Purchased\n",
              "0   France  44.0  72000.0        No\n",
              "1    Spain  27.0  48000.0       Yes\n",
              "2  Germany  30.0  54000.0        No\n",
              "3    Spain  38.0  61000.0        No\n",
              "4  Germany  40.0      NaN       Yes\n",
              "5   France  35.0  58000.0       Yes\n",
              "6    Spain   NaN  52000.0        No\n",
              "7   France  48.0  79000.0       Yes\n",
              "8  Germany  50.0  83000.0        No\n",
              "9   France  37.0  67000.0       Yes"
            ],
            "text/html": [
              "\n",
              "  <div id=\"df-f36b912a-3538-465a-b1c5-8a8293bf4ba4\" class=\"colab-df-container\">\n",
              "    <div>\n",
              "<style scoped>\n",
              "    .dataframe tbody tr th:only-of-type {\n",
              "        vertical-align: middle;\n",
              "    }\n",
              "\n",
              "    .dataframe tbody tr th {\n",
              "        vertical-align: top;\n",
              "    }\n",
              "\n",
              "    .dataframe thead th {\n",
              "        text-align: right;\n",
              "    }\n",
              "</style>\n",
              "<table border=\"1\" class=\"dataframe\">\n",
              "  <thead>\n",
              "    <tr style=\"text-align: right;\">\n",
              "      <th></th>\n",
              "      <th>Country</th>\n",
              "      <th>Age</th>\n",
              "      <th>Salary</th>\n",
              "      <th>Purchased</th>\n",
              "    </tr>\n",
              "  </thead>\n",
              "  <tbody>\n",
              "    <tr>\n",
              "      <th>0</th>\n",
              "      <td>France</td>\n",
              "      <td>44.0</td>\n",
              "      <td>72000.0</td>\n",
              "      <td>No</td>\n",
              "    </tr>\n",
              "    <tr>\n",
              "      <th>1</th>\n",
              "      <td>Spain</td>\n",
              "      <td>27.0</td>\n",
              "      <td>48000.0</td>\n",
              "      <td>Yes</td>\n",
              "    </tr>\n",
              "    <tr>\n",
              "      <th>2</th>\n",
              "      <td>Germany</td>\n",
              "      <td>30.0</td>\n",
              "      <td>54000.0</td>\n",
              "      <td>No</td>\n",
              "    </tr>\n",
              "    <tr>\n",
              "      <th>3</th>\n",
              "      <td>Spain</td>\n",
              "      <td>38.0</td>\n",
              "      <td>61000.0</td>\n",
              "      <td>No</td>\n",
              "    </tr>\n",
              "    <tr>\n",
              "      <th>4</th>\n",
              "      <td>Germany</td>\n",
              "      <td>40.0</td>\n",
              "      <td>NaN</td>\n",
              "      <td>Yes</td>\n",
              "    </tr>\n",
              "    <tr>\n",
              "      <th>5</th>\n",
              "      <td>France</td>\n",
              "      <td>35.0</td>\n",
              "      <td>58000.0</td>\n",
              "      <td>Yes</td>\n",
              "    </tr>\n",
              "    <tr>\n",
              "      <th>6</th>\n",
              "      <td>Spain</td>\n",
              "      <td>NaN</td>\n",
              "      <td>52000.0</td>\n",
              "      <td>No</td>\n",
              "    </tr>\n",
              "    <tr>\n",
              "      <th>7</th>\n",
              "      <td>France</td>\n",
              "      <td>48.0</td>\n",
              "      <td>79000.0</td>\n",
              "      <td>Yes</td>\n",
              "    </tr>\n",
              "    <tr>\n",
              "      <th>8</th>\n",
              "      <td>Germany</td>\n",
              "      <td>50.0</td>\n",
              "      <td>83000.0</td>\n",
              "      <td>No</td>\n",
              "    </tr>\n",
              "    <tr>\n",
              "      <th>9</th>\n",
              "      <td>France</td>\n",
              "      <td>37.0</td>\n",
              "      <td>67000.0</td>\n",
              "      <td>Yes</td>\n",
              "    </tr>\n",
              "  </tbody>\n",
              "</table>\n",
              "</div>\n",
              "    <div class=\"colab-df-buttons\">\n",
              "\n",
              "  <div class=\"colab-df-container\">\n",
              "    <button class=\"colab-df-convert\" onclick=\"convertToInteractive('df-f36b912a-3538-465a-b1c5-8a8293bf4ba4')\"\n",
              "            title=\"Convert this dataframe to an interactive table.\"\n",
              "            style=\"display:none;\">\n",
              "\n",
              "  <svg xmlns=\"http://www.w3.org/2000/svg\" height=\"24px\" viewBox=\"0 -960 960 960\">\n",
              "    <path d=\"M120-120v-720h720v720H120Zm60-500h600v-160H180v160Zm220 220h160v-160H400v160Zm0 220h160v-160H400v160ZM180-400h160v-160H180v160Zm440 0h160v-160H620v160ZM180-180h160v-160H180v160Zm440 0h160v-160H620v160Z\"/>\n",
              "  </svg>\n",
              "    </button>\n",
              "\n",
              "  <style>\n",
              "    .colab-df-container {\n",
              "      display:flex;\n",
              "      gap: 12px;\n",
              "    }\n",
              "\n",
              "    .colab-df-convert {\n",
              "      background-color: #E8F0FE;\n",
              "      border: none;\n",
              "      border-radius: 50%;\n",
              "      cursor: pointer;\n",
              "      display: none;\n",
              "      fill: #1967D2;\n",
              "      height: 32px;\n",
              "      padding: 0 0 0 0;\n",
              "      width: 32px;\n",
              "    }\n",
              "\n",
              "    .colab-df-convert:hover {\n",
              "      background-color: #E2EBFA;\n",
              "      box-shadow: 0px 1px 2px rgba(60, 64, 67, 0.3), 0px 1px 3px 1px rgba(60, 64, 67, 0.15);\n",
              "      fill: #174EA6;\n",
              "    }\n",
              "\n",
              "    .colab-df-buttons div {\n",
              "      margin-bottom: 4px;\n",
              "    }\n",
              "\n",
              "    [theme=dark] .colab-df-convert {\n",
              "      background-color: #3B4455;\n",
              "      fill: #D2E3FC;\n",
              "    }\n",
              "\n",
              "    [theme=dark] .colab-df-convert:hover {\n",
              "      background-color: #434B5C;\n",
              "      box-shadow: 0px 1px 3px 1px rgba(0, 0, 0, 0.15);\n",
              "      filter: drop-shadow(0px 1px 2px rgba(0, 0, 0, 0.3));\n",
              "      fill: #FFFFFF;\n",
              "    }\n",
              "  </style>\n",
              "\n",
              "    <script>\n",
              "      const buttonEl =\n",
              "        document.querySelector('#df-f36b912a-3538-465a-b1c5-8a8293bf4ba4 button.colab-df-convert');\n",
              "      buttonEl.style.display =\n",
              "        google.colab.kernel.accessAllowed ? 'block' : 'none';\n",
              "\n",
              "      async function convertToInteractive(key) {\n",
              "        const element = document.querySelector('#df-f36b912a-3538-465a-b1c5-8a8293bf4ba4');\n",
              "        const dataTable =\n",
              "          await google.colab.kernel.invokeFunction('convertToInteractive',\n",
              "                                                    [key], {});\n",
              "        if (!dataTable) return;\n",
              "\n",
              "        const docLinkHtml = 'Like what you see? Visit the ' +\n",
              "          '<a target=\"_blank\" href=https://colab.research.google.com/notebooks/data_table.ipynb>data table notebook</a>'\n",
              "          + ' to learn more about interactive tables.';\n",
              "        element.innerHTML = '';\n",
              "        dataTable['output_type'] = 'display_data';\n",
              "        await google.colab.output.renderOutput(dataTable, element);\n",
              "        const docLink = document.createElement('div');\n",
              "        docLink.innerHTML = docLinkHtml;\n",
              "        element.appendChild(docLink);\n",
              "      }\n",
              "    </script>\n",
              "  </div>\n",
              "\n",
              "\n",
              "<div id=\"df-42a2504f-9135-41da-9d58-e7e1bbc3a1a0\">\n",
              "  <button class=\"colab-df-quickchart\" onclick=\"quickchart('df-42a2504f-9135-41da-9d58-e7e1bbc3a1a0')\"\n",
              "            title=\"Suggest charts\"\n",
              "            style=\"display:none;\">\n",
              "\n",
              "<svg xmlns=\"http://www.w3.org/2000/svg\" height=\"24px\"viewBox=\"0 0 24 24\"\n",
              "     width=\"24px\">\n",
              "    <g>\n",
              "        <path d=\"M19 3H5c-1.1 0-2 .9-2 2v14c0 1.1.9 2 2 2h14c1.1 0 2-.9 2-2V5c0-1.1-.9-2-2-2zM9 17H7v-7h2v7zm4 0h-2V7h2v10zm4 0h-2v-4h2v4z\"/>\n",
              "    </g>\n",
              "</svg>\n",
              "  </button>\n",
              "\n",
              "<style>\n",
              "  .colab-df-quickchart {\n",
              "      --bg-color: #E8F0FE;\n",
              "      --fill-color: #1967D2;\n",
              "      --hover-bg-color: #E2EBFA;\n",
              "      --hover-fill-color: #174EA6;\n",
              "      --disabled-fill-color: #AAA;\n",
              "      --disabled-bg-color: #DDD;\n",
              "  }\n",
              "\n",
              "  [theme=dark] .colab-df-quickchart {\n",
              "      --bg-color: #3B4455;\n",
              "      --fill-color: #D2E3FC;\n",
              "      --hover-bg-color: #434B5C;\n",
              "      --hover-fill-color: #FFFFFF;\n",
              "      --disabled-bg-color: #3B4455;\n",
              "      --disabled-fill-color: #666;\n",
              "  }\n",
              "\n",
              "  .colab-df-quickchart {\n",
              "    background-color: var(--bg-color);\n",
              "    border: none;\n",
              "    border-radius: 50%;\n",
              "    cursor: pointer;\n",
              "    display: none;\n",
              "    fill: var(--fill-color);\n",
              "    height: 32px;\n",
              "    padding: 0;\n",
              "    width: 32px;\n",
              "  }\n",
              "\n",
              "  .colab-df-quickchart:hover {\n",
              "    background-color: var(--hover-bg-color);\n",
              "    box-shadow: 0 1px 2px rgba(60, 64, 67, 0.3), 0 1px 3px 1px rgba(60, 64, 67, 0.15);\n",
              "    fill: var(--button-hover-fill-color);\n",
              "  }\n",
              "\n",
              "  .colab-df-quickchart-complete:disabled,\n",
              "  .colab-df-quickchart-complete:disabled:hover {\n",
              "    background-color: var(--disabled-bg-color);\n",
              "    fill: var(--disabled-fill-color);\n",
              "    box-shadow: none;\n",
              "  }\n",
              "\n",
              "  .colab-df-spinner {\n",
              "    border: 2px solid var(--fill-color);\n",
              "    border-color: transparent;\n",
              "    border-bottom-color: var(--fill-color);\n",
              "    animation:\n",
              "      spin 1s steps(1) infinite;\n",
              "  }\n",
              "\n",
              "  @keyframes spin {\n",
              "    0% {\n",
              "      border-color: transparent;\n",
              "      border-bottom-color: var(--fill-color);\n",
              "      border-left-color: var(--fill-color);\n",
              "    }\n",
              "    20% {\n",
              "      border-color: transparent;\n",
              "      border-left-color: var(--fill-color);\n",
              "      border-top-color: var(--fill-color);\n",
              "    }\n",
              "    30% {\n",
              "      border-color: transparent;\n",
              "      border-left-color: var(--fill-color);\n",
              "      border-top-color: var(--fill-color);\n",
              "      border-right-color: var(--fill-color);\n",
              "    }\n",
              "    40% {\n",
              "      border-color: transparent;\n",
              "      border-right-color: var(--fill-color);\n",
              "      border-top-color: var(--fill-color);\n",
              "    }\n",
              "    60% {\n",
              "      border-color: transparent;\n",
              "      border-right-color: var(--fill-color);\n",
              "    }\n",
              "    80% {\n",
              "      border-color: transparent;\n",
              "      border-right-color: var(--fill-color);\n",
              "      border-bottom-color: var(--fill-color);\n",
              "    }\n",
              "    90% {\n",
              "      border-color: transparent;\n",
              "      border-bottom-color: var(--fill-color);\n",
              "    }\n",
              "  }\n",
              "</style>\n",
              "\n",
              "  <script>\n",
              "    async function quickchart(key) {\n",
              "      const quickchartButtonEl =\n",
              "        document.querySelector('#' + key + ' button');\n",
              "      quickchartButtonEl.disabled = true;  // To prevent multiple clicks.\n",
              "      quickchartButtonEl.classList.add('colab-df-spinner');\n",
              "      try {\n",
              "        const charts = await google.colab.kernel.invokeFunction(\n",
              "            'suggestCharts', [key], {});\n",
              "      } catch (error) {\n",
              "        console.error('Error during call to suggestCharts:', error);\n",
              "      }\n",
              "      quickchartButtonEl.classList.remove('colab-df-spinner');\n",
              "      quickchartButtonEl.classList.add('colab-df-quickchart-complete');\n",
              "    }\n",
              "    (() => {\n",
              "      let quickchartButtonEl =\n",
              "        document.querySelector('#df-42a2504f-9135-41da-9d58-e7e1bbc3a1a0 button');\n",
              "      quickchartButtonEl.style.display =\n",
              "        google.colab.kernel.accessAllowed ? 'block' : 'none';\n",
              "    })();\n",
              "  </script>\n",
              "</div>\n",
              "\n",
              "  <div id=\"id_98c0fde3-633f-4ac8-be99-b70bcc6e2aad\">\n",
              "    <style>\n",
              "      .colab-df-generate {\n",
              "        background-color: #E8F0FE;\n",
              "        border: none;\n",
              "        border-radius: 50%;\n",
              "        cursor: pointer;\n",
              "        display: none;\n",
              "        fill: #1967D2;\n",
              "        height: 32px;\n",
              "        padding: 0 0 0 0;\n",
              "        width: 32px;\n",
              "      }\n",
              "\n",
              "      .colab-df-generate:hover {\n",
              "        background-color: #E2EBFA;\n",
              "        box-shadow: 0px 1px 2px rgba(60, 64, 67, 0.3), 0px 1px 3px 1px rgba(60, 64, 67, 0.15);\n",
              "        fill: #174EA6;\n",
              "      }\n",
              "\n",
              "      [theme=dark] .colab-df-generate {\n",
              "        background-color: #3B4455;\n",
              "        fill: #D2E3FC;\n",
              "      }\n",
              "\n",
              "      [theme=dark] .colab-df-generate:hover {\n",
              "        background-color: #434B5C;\n",
              "        box-shadow: 0px 1px 3px 1px rgba(0, 0, 0, 0.15);\n",
              "        filter: drop-shadow(0px 1px 2px rgba(0, 0, 0, 0.3));\n",
              "        fill: #FFFFFF;\n",
              "      }\n",
              "    </style>\n",
              "    <button class=\"colab-df-generate\" onclick=\"generateWithVariable('df')\"\n",
              "            title=\"Generate code using this dataframe.\"\n",
              "            style=\"display:none;\">\n",
              "\n",
              "  <svg xmlns=\"http://www.w3.org/2000/svg\" height=\"24px\"viewBox=\"0 0 24 24\"\n",
              "       width=\"24px\">\n",
              "    <path d=\"M7,19H8.4L18.45,9,17,7.55,7,17.6ZM5,21V16.75L18.45,3.32a2,2,0,0,1,2.83,0l1.4,1.43a1.91,1.91,0,0,1,.58,1.4,1.91,1.91,0,0,1-.58,1.4L9.25,21ZM18.45,9,17,7.55Zm-12,3A5.31,5.31,0,0,0,4.9,8.1,5.31,5.31,0,0,0,1,6.5,5.31,5.31,0,0,0,4.9,4.9,5.31,5.31,0,0,0,6.5,1,5.31,5.31,0,0,0,8.1,4.9,5.31,5.31,0,0,0,12,6.5,5.46,5.46,0,0,0,6.5,12Z\"/>\n",
              "  </svg>\n",
              "    </button>\n",
              "    <script>\n",
              "      (() => {\n",
              "      const buttonEl =\n",
              "        document.querySelector('#id_98c0fde3-633f-4ac8-be99-b70bcc6e2aad button.colab-df-generate');\n",
              "      buttonEl.style.display =\n",
              "        google.colab.kernel.accessAllowed ? 'block' : 'none';\n",
              "\n",
              "      buttonEl.onclick = () => {\n",
              "        google.colab.notebook.generateWithVariable('df');\n",
              "      }\n",
              "      })();\n",
              "    </script>\n",
              "  </div>\n",
              "\n",
              "    </div>\n",
              "  </div>\n"
            ]
          },
          "metadata": {},
          "execution_count": 16
        }
      ],
      "source": [
        "#Example 2\n",
        "import pandas as pd\n",
        "path='/content/data.csv'\n",
        "df=pd.read_csv(path)\n",
        "df"
      ]
    },
    {
      "cell_type": "markdown",
      "source": [
        "### **independent and dependent variables**\n"
      ],
      "metadata": {
        "id": "7WfQy837DwMa"
      }
    },
    {
      "cell_type": "code",
      "source": [
        "X= df.iloc[:, :-1].values #independent values\n",
        "y= df.iloc[:,-1].values #dependent values"
      ],
      "metadata": {
        "id": "X-hoh94505V7"
      },
      "execution_count": 17,
      "outputs": []
    },
    {
      "cell_type": "code",
      "source": [
        "X"
      ],
      "metadata": {
        "colab": {
          "base_uri": "https://localhost:8080/"
        },
        "id": "jrHJhiiB1s69",
        "outputId": "b28439b1-1d9d-402c-e985-334004df17f2"
      },
      "execution_count": 18,
      "outputs": [
        {
          "output_type": "execute_result",
          "data": {
            "text/plain": [
              "array([['France', 44.0, 72000.0],\n",
              "       ['Spain', 27.0, 48000.0],\n",
              "       ['Germany', 30.0, 54000.0],\n",
              "       ['Spain', 38.0, 61000.0],\n",
              "       ['Germany', 40.0, nan],\n",
              "       ['France', 35.0, 58000.0],\n",
              "       ['Spain', nan, 52000.0],\n",
              "       ['France', 48.0, 79000.0],\n",
              "       ['Germany', 50.0, 83000.0],\n",
              "       ['France', 37.0, 67000.0]], dtype=object)"
            ]
          },
          "metadata": {},
          "execution_count": 18
        }
      ]
    },
    {
      "cell_type": "code",
      "source": [
        "y"
      ],
      "metadata": {
        "colab": {
          "base_uri": "https://localhost:8080/"
        },
        "id": "85lGONXw1vHa",
        "outputId": "d751b58e-0384-4c6b-d2fb-b9d785faac97"
      },
      "execution_count": 19,
      "outputs": [
        {
          "output_type": "execute_result",
          "data": {
            "text/plain": [
              "array(['No', 'Yes', 'No', 'No', 'Yes', 'Yes', 'No', 'Yes', 'No', 'Yes'],\n",
              "      dtype=object)"
            ]
          },
          "metadata": {},
          "execution_count": 19
        }
      ]
    },
    {
      "cell_type": "markdown",
      "source": [
        "### **Handling Missing Data**"
      ],
      "metadata": {
        "id": "BtBkmaTj2FGh"
      }
    },
    {
      "cell_type": "code",
      "source": [
        "#imputing the missing values\n",
        "import numpy as np\n",
        "from sklearn.impute import SimpleImputer\n",
        "imputer = SimpleImputer(missing_values=np.nan, strategy='mean')\n",
        "X[:, 1:3] =imputer.fit_transform(X[:, 1:3])\n",
        "# imputer.fit(X[:, 1:3])# impute in 2nd & 3rd col\n",
        "# X[:, 1:3] = imputer.transform(X[:, 1:3])#transforming and assigning the change to X\n",
        "X"
      ],
      "metadata": {
        "colab": {
          "base_uri": "https://localhost:8080/"
        },
        "id": "5AwRSwBk2LpZ",
        "outputId": "0f3f84ff-7e4d-4375-c52b-6ed3abde7987"
      },
      "execution_count": 20,
      "outputs": [
        {
          "output_type": "execute_result",
          "data": {
            "text/plain": [
              "array([['France', 44.0, 72000.0],\n",
              "       ['Spain', 27.0, 48000.0],\n",
              "       ['Germany', 30.0, 54000.0],\n",
              "       ['Spain', 38.0, 61000.0],\n",
              "       ['Germany', 40.0, 63777.77777777778],\n",
              "       ['France', 35.0, 58000.0],\n",
              "       ['Spain', 38.77777777777778, 52000.0],\n",
              "       ['France', 48.0, 79000.0],\n",
              "       ['Germany', 50.0, 83000.0],\n",
              "       ['France', 37.0, 67000.0]], dtype=object)"
            ]
          },
          "metadata": {},
          "execution_count": 20
        }
      ]
    },
    {
      "cell_type": "markdown",
      "source": [
        "### **Encoding categorical data-into machine readable data**![Screenshot 2024-01-08 203152.png](data:image/png;base64,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)"
      ],
      "metadata": {
        "id": "Teczlrji1-7J"
      }
    },
    {
      "cell_type": "code",
      "source": [
        "from sklearn.compose import ColumnTransformer\n",
        "from sklearn.preprocessing import OneHotEncoder#creates dummy var for cat_data\n",
        "ct = ColumnTransformer(transformers=[('encoder', OneHotEncoder(handle_unknown='ignore'), [0])], remainder='passthrough')# encoding 1st col\n",
        "X = np.array(ct.fit_transform(X))\n"
      ],
      "metadata": {
        "id": "4evRdYfYEBV0"
      },
      "execution_count": null,
      "outputs": []
    },
    {
      "cell_type": "code",
      "source": [
        "X"
      ],
      "metadata": {
        "colab": {
          "base_uri": "https://localhost:8080/"
        },
        "id": "fAfFM5cTKsm9",
        "outputId": "1bf1e83e-84c5-4e2f-9431-d9c44adab459"
      },
      "execution_count": null,
      "outputs": [
        {
          "output_type": "execute_result",
          "data": {
            "text/plain": [
              "array([[1.0, 0.0, 0.0, 44.0, 72000.0],\n",
              "       [0.0, 0.0, 1.0, 27.0, 48000.0],\n",
              "       [0.0, 1.0, 0.0, 30.0, 54000.0],\n",
              "       [0.0, 0.0, 1.0, 38.0, 61000.0],\n",
              "       [0.0, 1.0, 0.0, 40.0, 63777.77777777778],\n",
              "       [1.0, 0.0, 0.0, 35.0, 58000.0],\n",
              "       [0.0, 0.0, 1.0, 38.77777777777778, 52000.0],\n",
              "       [1.0, 0.0, 0.0, 48.0, 79000.0],\n",
              "       [0.0, 1.0, 0.0, 50.0, 83000.0],\n",
              "       [1.0, 0.0, 0.0, 37.0, 67000.0]], dtype=object)"
            ]
          },
          "metadata": {},
          "execution_count": 58
        }
      ]
    },
    {
      "cell_type": "code",
      "source": [
        "#labe encoding for ind var-y(ordinal data=with order)\n",
        "from sklearn.preprocessing import LabelEncoder\n",
        "le = LabelEncoder()\n",
        "y = le.fit_transform(y)\n",
        "y"
      ],
      "metadata": {
        "colab": {
          "base_uri": "https://localhost:8080/"
        },
        "id": "uoHx8ynHEVGx",
        "outputId": "1af6a124-8597-4d51-d801-9974a9151296"
      },
      "execution_count": null,
      "outputs": [
        {
          "output_type": "execute_result",
          "data": {
            "text/plain": [
              "array([0, 1, 0, 0, 1, 1, 0, 1, 0, 1])"
            ]
          },
          "metadata": {},
          "execution_count": 43
        }
      ]
    },
    {
      "cell_type": "markdown",
      "source": [
        "## **Splitting the dataset into the Training set and Test set**"
      ],
      "metadata": {
        "id": "Z4_5go2FEkSp"
      }
    },
    {
      "cell_type": "code",
      "source": [
        "from sklearn.model_selection import train_test_split\n",
        "X_train, X_test, y_train, y_test = train_test_split(X, y, test_size= 1/5, random_state=0)"
      ],
      "metadata": {
        "id": "X6wtkd9dEq-y"
      },
      "execution_count": null,
      "outputs": []
    },
    {
      "cell_type": "code",
      "source": [
        "X_train, X_test, y_train, y_test"
      ],
      "metadata": {
        "colab": {
          "base_uri": "https://localhost:8080/"
        },
        "id": "vBD-MDSvEu1h",
        "outputId": "51516722-94a6-4933-f83b-427f915f5f5a"
      },
      "execution_count": null,
      "outputs": [
        {
          "output_type": "execute_result",
          "data": {
            "text/plain": [
              "(array([[0.0, 1.0, 0.0, 1.0, 0.0, 40.0, 63777.77777777778],\n",
              "        [1.0, 0.0, 1.0, 0.0, 0.0, 37.0, 67000.0],\n",
              "        [0.0, 1.0, 0.0, 0.0, 1.0, 27.0, 48000.0],\n",
              "        [0.0, 1.0, 0.0, 0.0, 1.0, 38.77777777777778, 52000.0],\n",
              "        [1.0, 0.0, 1.0, 0.0, 0.0, 48.0, 79000.0],\n",
              "        [0.0, 1.0, 0.0, 0.0, 1.0, 38.0, 61000.0],\n",
              "        [1.0, 0.0, 1.0, 0.0, 0.0, 44.0, 72000.0],\n",
              "        [1.0, 0.0, 1.0, 0.0, 0.0, 35.0, 58000.0]], dtype=object),\n",
              " array([[0.0, 1.0, 0.0, 1.0, 0.0, 30.0, 54000.0],\n",
              "        [0.0, 1.0, 0.0, 1.0, 0.0, 50.0, 83000.0]], dtype=object),\n",
              " array([1, 1, 1, 0, 1, 0, 0, 1]),\n",
              " array([0, 0]))"
            ]
          },
          "metadata": {},
          "execution_count": 45
        }
      ]
    },
    {
      "cell_type": "markdown",
      "source": [
        "### **Feature Selection**"
      ],
      "metadata": {
        "id": "_p25Gkm4E51y"
      }
    },
    {
      "cell_type": "code",
      "source": [
        "from sklearn.preprocessing import StandardScaler\n",
        "sc = StandardScaler()\n",
        "X_train[:, 3:] = sc.fit_transform(X_train[:, 3:])\n",
        "X_test[:, 3:] = sc.transform(X_test[:, 3:])"
      ],
      "metadata": {
        "id": "xEuPGsCUE9HM"
      },
      "execution_count": null,
      "outputs": []
    },
    {
      "cell_type": "code",
      "source": [
        "X_train"
      ],
      "metadata": {
        "colab": {
          "base_uri": "https://localhost:8080/"
        },
        "id": "cK5TSUMxFFTT",
        "outputId": "7a4ebfa4-2e47-4533-e7ce-1b84c27c24b0"
      },
      "execution_count": null,
      "outputs": [
        {
          "output_type": "execute_result",
          "data": {
            "text/plain": [
              "array([[0.0, 1.0, 0.0, 2.6457513110645903, -0.7745966692414834,\n",
              "        0.2630675731713538, 0.1238147854838185],\n",
              "       [1.0, 0.0, 1.0, -0.3779644730092272, -0.7745966692414834,\n",
              "        -0.25350147960148617, 0.4617563176278856],\n",
              "       [0.0, 1.0, 0.0, -0.3779644730092272, 1.2909944487358056,\n",
              "        -1.9753983221776195, -1.5309334063940294],\n",
              "       [0.0, 1.0, 0.0, -0.3779644730092272, 1.2909944487358056,\n",
              "        0.05261351463427101, -1.1114197802841526],\n",
              "       [1.0, 0.0, 1.0, -0.3779644730092272, -0.7745966692414834,\n",
              "        1.6405850472322605, 1.7202971959575162],\n",
              "       [0.0, 1.0, 0.0, -0.3779644730092272, 1.2909944487358056,\n",
              "        -0.08131179534387283, -0.16751412153692966],\n",
              "       [1.0, 0.0, 1.0, -0.3779644730092272, -0.7745966692414834,\n",
              "        0.9518263102018072, 0.9861483502652316],\n",
              "       [1.0, 0.0, 1.0, -0.3779644730092272, -0.7745966692414834,\n",
              "        -0.5978808481167128, -0.48214934111933727]], dtype=object)"
            ]
          },
          "metadata": {},
          "execution_count": 47
        }
      ]
    },
    {
      "cell_type": "code",
      "source": [
        "# Example 3\n",
        "import numpy as np\n",
        "import pandas as pd\n",
        "path='/content/camera.csv'\n",
        "df= pd.read_csv(path)\n",
        "df"
      ],
      "metadata": {
        "colab": {
          "base_uri": "https://localhost:8080/",
          "height": 362
        },
        "id": "jugfoLxP6jhB",
        "outputId": "711a8ef4-55bc-4e67-9668-9ecbbc5d1833"
      },
      "execution_count": 15,
      "outputs": [
        {
          "output_type": "execute_result",
          "data": {
            "text/plain": [
              "   Colour  Length    Pixel Purchased\n",
              "0     Red    44.0  72000.0        No\n",
              "1  Yellow    27.0  48000.0       Yes\n",
              "2    Blue    30.0  54000.0        No\n",
              "3  Yellow    38.0  61000.0        No\n",
              "4    Blue    40.0      NaN       Yes\n",
              "5     Red    35.0  58000.0       Yes\n",
              "6  Yellow     NaN  52000.0        No\n",
              "7     Red    48.0  79000.0       Yes\n",
              "8    Blue    50.0  83000.0        No\n",
              "9     Red    37.0  67000.0       Yes"
            ],
            "text/html": [
              "\n",
              "  <div id=\"df-27dd96ff-47a5-407f-9ce9-bcde2783f7d3\" class=\"colab-df-container\">\n",
              "    <div>\n",
              "<style scoped>\n",
              "    .dataframe tbody tr th:only-of-type {\n",
              "        vertical-align: middle;\n",
              "    }\n",
              "\n",
              "    .dataframe tbody tr th {\n",
              "        vertical-align: top;\n",
              "    }\n",
              "\n",
              "    .dataframe thead th {\n",
              "        text-align: right;\n",
              "    }\n",
              "</style>\n",
              "<table border=\"1\" class=\"dataframe\">\n",
              "  <thead>\n",
              "    <tr style=\"text-align: right;\">\n",
              "      <th></th>\n",
              "      <th>Colour</th>\n",
              "      <th>Length</th>\n",
              "      <th>Pixel</th>\n",
              "      <th>Purchased</th>\n",
              "    </tr>\n",
              "  </thead>\n",
              "  <tbody>\n",
              "    <tr>\n",
              "      <th>0</th>\n",
              "      <td>Red</td>\n",
              "      <td>44.0</td>\n",
              "      <td>72000.0</td>\n",
              "      <td>No</td>\n",
              "    </tr>\n",
              "    <tr>\n",
              "      <th>1</th>\n",
              "      <td>Yellow</td>\n",
              "      <td>27.0</td>\n",
              "      <td>48000.0</td>\n",
              "      <td>Yes</td>\n",
              "    </tr>\n",
              "    <tr>\n",
              "      <th>2</th>\n",
              "      <td>Blue</td>\n",
              "      <td>30.0</td>\n",
              "      <td>54000.0</td>\n",
              "      <td>No</td>\n",
              "    </tr>\n",
              "    <tr>\n",
              "      <th>3</th>\n",
              "      <td>Yellow</td>\n",
              "      <td>38.0</td>\n",
              "      <td>61000.0</td>\n",
              "      <td>No</td>\n",
              "    </tr>\n",
              "    <tr>\n",
              "      <th>4</th>\n",
              "      <td>Blue</td>\n",
              "      <td>40.0</td>\n",
              "      <td>NaN</td>\n",
              "      <td>Yes</td>\n",
              "    </tr>\n",
              "    <tr>\n",
              "      <th>5</th>\n",
              "      <td>Red</td>\n",
              "      <td>35.0</td>\n",
              "      <td>58000.0</td>\n",
              "      <td>Yes</td>\n",
              "    </tr>\n",
              "    <tr>\n",
              "      <th>6</th>\n",
              "      <td>Yellow</td>\n",
              "      <td>NaN</td>\n",
              "      <td>52000.0</td>\n",
              "      <td>No</td>\n",
              "    </tr>\n",
              "    <tr>\n",
              "      <th>7</th>\n",
              "      <td>Red</td>\n",
              "      <td>48.0</td>\n",
              "      <td>79000.0</td>\n",
              "      <td>Yes</td>\n",
              "    </tr>\n",
              "    <tr>\n",
              "      <th>8</th>\n",
              "      <td>Blue</td>\n",
              "      <td>50.0</td>\n",
              "      <td>83000.0</td>\n",
              "      <td>No</td>\n",
              "    </tr>\n",
              "    <tr>\n",
              "      <th>9</th>\n",
              "      <td>Red</td>\n",
              "      <td>37.0</td>\n",
              "      <td>67000.0</td>\n",
              "      <td>Yes</td>\n",
              "    </tr>\n",
              "  </tbody>\n",
              "</table>\n",
              "</div>\n",
              "    <div class=\"colab-df-buttons\">\n",
              "\n",
              "  <div class=\"colab-df-container\">\n",
              "    <button class=\"colab-df-convert\" onclick=\"convertToInteractive('df-27dd96ff-47a5-407f-9ce9-bcde2783f7d3')\"\n",
              "            title=\"Convert this dataframe to an interactive table.\"\n",
              "            style=\"display:none;\">\n",
              "\n",
              "  <svg xmlns=\"http://www.w3.org/2000/svg\" height=\"24px\" viewBox=\"0 -960 960 960\">\n",
              "    <path d=\"M120-120v-720h720v720H120Zm60-500h600v-160H180v160Zm220 220h160v-160H400v160Zm0 220h160v-160H400v160ZM180-400h160v-160H180v160Zm440 0h160v-160H620v160ZM180-180h160v-160H180v160Zm440 0h160v-160H620v160Z\"/>\n",
              "  </svg>\n",
              "    </button>\n",
              "\n",
              "  <style>\n",
              "    .colab-df-container {\n",
              "      display:flex;\n",
              "      gap: 12px;\n",
              "    }\n",
              "\n",
              "    .colab-df-convert {\n",
              "      background-color: #E8F0FE;\n",
              "      border: none;\n",
              "      border-radius: 50%;\n",
              "      cursor: pointer;\n",
              "      display: none;\n",
              "      fill: #1967D2;\n",
              "      height: 32px;\n",
              "      padding: 0 0 0 0;\n",
              "      width: 32px;\n",
              "    }\n",
              "\n",
              "    .colab-df-convert:hover {\n",
              "      background-color: #E2EBFA;\n",
              "      box-shadow: 0px 1px 2px rgba(60, 64, 67, 0.3), 0px 1px 3px 1px rgba(60, 64, 67, 0.15);\n",
              "      fill: #174EA6;\n",
              "    }\n",
              "\n",
              "    .colab-df-buttons div {\n",
              "      margin-bottom: 4px;\n",
              "    }\n",
              "\n",
              "    [theme=dark] .colab-df-convert {\n",
              "      background-color: #3B4455;\n",
              "      fill: #D2E3FC;\n",
              "    }\n",
              "\n",
              "    [theme=dark] .colab-df-convert:hover {\n",
              "      background-color: #434B5C;\n",
              "      box-shadow: 0px 1px 3px 1px rgba(0, 0, 0, 0.15);\n",
              "      filter: drop-shadow(0px 1px 2px rgba(0, 0, 0, 0.3));\n",
              "      fill: #FFFFFF;\n",
              "    }\n",
              "  </style>\n",
              "\n",
              "    <script>\n",
              "      const buttonEl =\n",
              "        document.querySelector('#df-27dd96ff-47a5-407f-9ce9-bcde2783f7d3 button.colab-df-convert');\n",
              "      buttonEl.style.display =\n",
              "        google.colab.kernel.accessAllowed ? 'block' : 'none';\n",
              "\n",
              "      async function convertToInteractive(key) {\n",
              "        const element = document.querySelector('#df-27dd96ff-47a5-407f-9ce9-bcde2783f7d3');\n",
              "        const dataTable =\n",
              "          await google.colab.kernel.invokeFunction('convertToInteractive',\n",
              "                                                    [key], {});\n",
              "        if (!dataTable) return;\n",
              "\n",
              "        const docLinkHtml = 'Like what you see? Visit the ' +\n",
              "          '<a target=\"_blank\" href=https://colab.research.google.com/notebooks/data_table.ipynb>data table notebook</a>'\n",
              "          + ' to learn more about interactive tables.';\n",
              "        element.innerHTML = '';\n",
              "        dataTable['output_type'] = 'display_data';\n",
              "        await google.colab.output.renderOutput(dataTable, element);\n",
              "        const docLink = document.createElement('div');\n",
              "        docLink.innerHTML = docLinkHtml;\n",
              "        element.appendChild(docLink);\n",
              "      }\n",
              "    </script>\n",
              "  </div>\n",
              "\n",
              "\n",
              "<div id=\"df-4b23ce4c-d99a-424a-891d-3659742d0e6e\">\n",
              "  <button class=\"colab-df-quickchart\" onclick=\"quickchart('df-4b23ce4c-d99a-424a-891d-3659742d0e6e')\"\n",
              "            title=\"Suggest charts\"\n",
              "            style=\"display:none;\">\n",
              "\n",
              "<svg xmlns=\"http://www.w3.org/2000/svg\" height=\"24px\"viewBox=\"0 0 24 24\"\n",
              "     width=\"24px\">\n",
              "    <g>\n",
              "        <path d=\"M19 3H5c-1.1 0-2 .9-2 2v14c0 1.1.9 2 2 2h14c1.1 0 2-.9 2-2V5c0-1.1-.9-2-2-2zM9 17H7v-7h2v7zm4 0h-2V7h2v10zm4 0h-2v-4h2v4z\"/>\n",
              "    </g>\n",
              "</svg>\n",
              "  </button>\n",
              "\n",
              "<style>\n",
              "  .colab-df-quickchart {\n",
              "      --bg-color: #E8F0FE;\n",
              "      --fill-color: #1967D2;\n",
              "      --hover-bg-color: #E2EBFA;\n",
              "      --hover-fill-color: #174EA6;\n",
              "      --disabled-fill-color: #AAA;\n",
              "      --disabled-bg-color: #DDD;\n",
              "  }\n",
              "\n",
              "  [theme=dark] .colab-df-quickchart {\n",
              "      --bg-color: #3B4455;\n",
              "      --fill-color: #D2E3FC;\n",
              "      --hover-bg-color: #434B5C;\n",
              "      --hover-fill-color: #FFFFFF;\n",
              "      --disabled-bg-color: #3B4455;\n",
              "      --disabled-fill-color: #666;\n",
              "  }\n",
              "\n",
              "  .colab-df-quickchart {\n",
              "    background-color: var(--bg-color);\n",
              "    border: none;\n",
              "    border-radius: 50%;\n",
              "    cursor: pointer;\n",
              "    display: none;\n",
              "    fill: var(--fill-color);\n",
              "    height: 32px;\n",
              "    padding: 0;\n",
              "    width: 32px;\n",
              "  }\n",
              "\n",
              "  .colab-df-quickchart:hover {\n",
              "    background-color: var(--hover-bg-color);\n",
              "    box-shadow: 0 1px 2px rgba(60, 64, 67, 0.3), 0 1px 3px 1px rgba(60, 64, 67, 0.15);\n",
              "    fill: var(--button-hover-fill-color);\n",
              "  }\n",
              "\n",
              "  .colab-df-quickchart-complete:disabled,\n",
              "  .colab-df-quickchart-complete:disabled:hover {\n",
              "    background-color: var(--disabled-bg-color);\n",
              "    fill: var(--disabled-fill-color);\n",
              "    box-shadow: none;\n",
              "  }\n",
              "\n",
              "  .colab-df-spinner {\n",
              "    border: 2px solid var(--fill-color);\n",
              "    border-color: transparent;\n",
              "    border-bottom-color: var(--fill-color);\n",
              "    animation:\n",
              "      spin 1s steps(1) infinite;\n",
              "  }\n",
              "\n",
              "  @keyframes spin {\n",
              "    0% {\n",
              "      border-color: transparent;\n",
              "      border-bottom-color: var(--fill-color);\n",
              "      border-left-color: var(--fill-color);\n",
              "    }\n",
              "    20% {\n",
              "      border-color: transparent;\n",
              "      border-left-color: var(--fill-color);\n",
              "      border-top-color: var(--fill-color);\n",
              "    }\n",
              "    30% {\n",
              "      border-color: transparent;\n",
              "      border-left-color: var(--fill-color);\n",
              "      border-top-color: var(--fill-color);\n",
              "      border-right-color: var(--fill-color);\n",
              "    }\n",
              "    40% {\n",
              "      border-color: transparent;\n",
              "      border-right-color: var(--fill-color);\n",
              "      border-top-color: var(--fill-color);\n",
              "    }\n",
              "    60% {\n",
              "      border-color: transparent;\n",
              "      border-right-color: var(--fill-color);\n",
              "    }\n",
              "    80% {\n",
              "      border-color: transparent;\n",
              "      border-right-color: var(--fill-color);\n",
              "      border-bottom-color: var(--fill-color);\n",
              "    }\n",
              "    90% {\n",
              "      border-color: transparent;\n",
              "      border-bottom-color: var(--fill-color);\n",
              "    }\n",
              "  }\n",
              "</style>\n",
              "\n",
              "  <script>\n",
              "    async function quickchart(key) {\n",
              "      const quickchartButtonEl =\n",
              "        document.querySelector('#' + key + ' button');\n",
              "      quickchartButtonEl.disabled = true;  // To prevent multiple clicks.\n",
              "      quickchartButtonEl.classList.add('colab-df-spinner');\n",
              "      try {\n",
              "        const charts = await google.colab.kernel.invokeFunction(\n",
              "            'suggestCharts', [key], {});\n",
              "      } catch (error) {\n",
              "        console.error('Error during call to suggestCharts:', error);\n",
              "      }\n",
              "      quickchartButtonEl.classList.remove('colab-df-spinner');\n",
              "      quickchartButtonEl.classList.add('colab-df-quickchart-complete');\n",
              "    }\n",
              "    (() => {\n",
              "      let quickchartButtonEl =\n",
              "        document.querySelector('#df-4b23ce4c-d99a-424a-891d-3659742d0e6e button');\n",
              "      quickchartButtonEl.style.display =\n",
              "        google.colab.kernel.accessAllowed ? 'block' : 'none';\n",
              "    })();\n",
              "  </script>\n",
              "</div>\n",
              "\n",
              "  <div id=\"id_cc567bee-c4fa-42e2-a797-9610ffae1f12\">\n",
              "    <style>\n",
              "      .colab-df-generate {\n",
              "        background-color: #E8F0FE;\n",
              "        border: none;\n",
              "        border-radius: 50%;\n",
              "        cursor: pointer;\n",
              "        display: none;\n",
              "        fill: #1967D2;\n",
              "        height: 32px;\n",
              "        padding: 0 0 0 0;\n",
              "        width: 32px;\n",
              "      }\n",
              "\n",
              "      .colab-df-generate:hover {\n",
              "        background-color: #E2EBFA;\n",
              "        box-shadow: 0px 1px 2px rgba(60, 64, 67, 0.3), 0px 1px 3px 1px rgba(60, 64, 67, 0.15);\n",
              "        fill: #174EA6;\n",
              "      }\n",
              "\n",
              "      [theme=dark] .colab-df-generate {\n",
              "        background-color: #3B4455;\n",
              "        fill: #D2E3FC;\n",
              "      }\n",
              "\n",
              "      [theme=dark] .colab-df-generate:hover {\n",
              "        background-color: #434B5C;\n",
              "        box-shadow: 0px 1px 3px 1px rgba(0, 0, 0, 0.15);\n",
              "        filter: drop-shadow(0px 1px 2px rgba(0, 0, 0, 0.3));\n",
              "        fill: #FFFFFF;\n",
              "      }\n",
              "    </style>\n",
              "    <button class=\"colab-df-generate\" onclick=\"generateWithVariable('df')\"\n",
              "            title=\"Generate code using this dataframe.\"\n",
              "            style=\"display:none;\">\n",
              "\n",
              "  <svg xmlns=\"http://www.w3.org/2000/svg\" height=\"24px\"viewBox=\"0 0 24 24\"\n",
              "       width=\"24px\">\n",
              "    <path d=\"M7,19H8.4L18.45,9,17,7.55,7,17.6ZM5,21V16.75L18.45,3.32a2,2,0,0,1,2.83,0l1.4,1.43a1.91,1.91,0,0,1,.58,1.4,1.91,1.91,0,0,1-.58,1.4L9.25,21ZM18.45,9,17,7.55Zm-12,3A5.31,5.31,0,0,0,4.9,8.1,5.31,5.31,0,0,0,1,6.5,5.31,5.31,0,0,0,4.9,4.9,5.31,5.31,0,0,0,6.5,1,5.31,5.31,0,0,0,8.1,4.9,5.31,5.31,0,0,0,12,6.5,5.46,5.46,0,0,0,6.5,12Z\"/>\n",
              "  </svg>\n",
              "    </button>\n",
              "    <script>\n",
              "      (() => {\n",
              "      const buttonEl =\n",
              "        document.querySelector('#id_cc567bee-c4fa-42e2-a797-9610ffae1f12 button.colab-df-generate');\n",
              "      buttonEl.style.display =\n",
              "        google.colab.kernel.accessAllowed ? 'block' : 'none';\n",
              "\n",
              "      buttonEl.onclick = () => {\n",
              "        google.colab.notebook.generateWithVariable('df');\n",
              "      }\n",
              "      })();\n",
              "    </script>\n",
              "  </div>\n",
              "\n",
              "    </div>\n",
              "  </div>\n"
            ]
          },
          "metadata": {},
          "execution_count": 15
        }
      ]
    },
    {
      "cell_type": "code",
      "source": [
        "# Seperating independent and dependent variables\n",
        "y = df['Purchased'].values\n",
        "X = df.drop('Purchased', axis=1).values\n",
        "print(y)\n",
        "print(X)"
      ],
      "metadata": {
        "colab": {
          "base_uri": "https://localhost:8080/"
        },
        "id": "Paj1_PDa63fp",
        "outputId": "fe8cfb6e-f8e3-48fe-b25d-bf6e2a76615f"
      },
      "execution_count": 5,
      "outputs": [
        {
          "output_type": "stream",
          "name": "stdout",
          "text": [
            "['No' 'Yes' 'No' 'No' 'Yes' 'Yes' 'No' 'Yes' 'No' 'Yes']\n",
            "[['Red' 44.0 72000.0]\n",
            " ['Yellow' 27.0 48000.0]\n",
            " ['Blue' 30.0 54000.0]\n",
            " ['Yellow' 38.0 61000.0]\n",
            " ['Blue' 40.0 nan]\n",
            " ['Red' 35.0 58000.0]\n",
            " ['Yellow' nan 52000.0]\n",
            " ['Red' 48.0 79000.0]\n",
            " ['Blue' 50.0 83000.0]\n",
            " ['Red' 37.0 67000.0]]\n"
          ]
        }
      ]
    },
    {
      "cell_type": "code",
      "source": [
        "# Handling missing values in numerical columns with the 'mean' strategy\n",
        "from sklearn.impute import SimpleImputer\n",
        "imputer = SimpleImputer(missing_values=np.nan, strategy='mean')\n",
        "X[:, 1:3] = imputer.fit_transform(X[:, 1:3])\n",
        "print('df after imputing missing values:')\n",
        "print(X)"
      ],
      "metadata": {
        "colab": {
          "base_uri": "https://localhost:8080/"
        },
        "id": "AZu8JAAR75OQ",
        "outputId": "1f725dd7-b7e5-4ad2-a0e9-37a66fc5a90f"
      },
      "execution_count": 6,
      "outputs": [
        {
          "output_type": "stream",
          "name": "stdout",
          "text": [
            "df after imputing missing values:\n",
            "[['Red' 44.0 72000.0]\n",
            " ['Yellow' 27.0 48000.0]\n",
            " ['Blue' 30.0 54000.0]\n",
            " ['Yellow' 38.0 61000.0]\n",
            " ['Blue' 40.0 63777.77777777778]\n",
            " ['Red' 35.0 58000.0]\n",
            " ['Yellow' 38.77777777777778 52000.0]\n",
            " ['Red' 48.0 79000.0]\n",
            " ['Blue' 50.0 83000.0]\n",
            " ['Red' 37.0 67000.0]]\n"
          ]
        }
      ]
    },
    {
      "cell_type": "code",
      "source": [
        "# Apply ColumnTransformation to encode categorical data\n",
        "from sklearn.compose import ColumnTransformer\n",
        "from sklearn.preprocessing import OneHotEncoder\n",
        "ct = ColumnTransformer(transformers=[('encoding', OneHotEncoder(), [0])], remainder='passthrough')\n",
        "X = np.array(ct.fit_transform(X))\n",
        "print('\\ndf with incoded categorical data:')\n",
        "print(X)"
      ],
      "metadata": {
        "colab": {
          "base_uri": "https://localhost:8080/"
        },
        "id": "-0NLIq_H80lJ",
        "outputId": "72ca736a-4948-4c8c-8301-0d1a1841b850"
      },
      "execution_count": 10,
      "outputs": [
        {
          "output_type": "stream",
          "name": "stdout",
          "text": [
            "\n",
            "df with incoded categorical data:\n",
            "[[0.0 1.0 0.0 44.0 72000.0]\n",
            " [0.0 0.0 1.0 27.0 48000.0]\n",
            " [1.0 0.0 0.0 30.0 54000.0]\n",
            " [0.0 0.0 1.0 38.0 61000.0]\n",
            " [1.0 0.0 0.0 40.0 63777.77777777778]\n",
            " [0.0 1.0 0.0 35.0 58000.0]\n",
            " [0.0 0.0 1.0 38.77777777777778 52000.0]\n",
            " [0.0 1.0 0.0 48.0 79000.0]\n",
            " [1.0 0.0 0.0 50.0 83000.0]\n",
            " [0.0 1.0 0.0 37.0 67000.0]]\n"
          ]
        }
      ]
    },
    {
      "cell_type": "code",
      "source": [
        "#labe encoding for ind var-y(ordinal data=with order)\n",
        "from sklearn.preprocessing import LabelEncoder\n",
        "le = LabelEncoder()\n",
        "y = le.fit_transform(y)\n",
        "y"
      ],
      "metadata": {
        "colab": {
          "base_uri": "https://localhost:8080/"
        },
        "id": "ZVzxpxaj-fVJ",
        "outputId": "3359ead7-fa83-40de-88af-961f7176e357"
      },
      "execution_count": 11,
      "outputs": [
        {
          "output_type": "execute_result",
          "data": {
            "text/plain": [
              "array([0, 1, 0, 0, 1, 1, 0, 1, 0, 1])"
            ]
          },
          "metadata": {},
          "execution_count": 11
        }
      ]
    },
    {
      "cell_type": "code",
      "source": [
        "# seperating train data and test data\n",
        "from sklearn.model_selection import train_test_split\n",
        "X_train, X_test, y_train, y_test = train_test_split(X, y, test_size= 1/5, random_state=0)\n",
        "X_train, X_test, y_train, y_test"
      ],
      "metadata": {
        "colab": {
          "base_uri": "https://localhost:8080/"
        },
        "id": "ol8ZGbLP-qaG",
        "outputId": "4c993913-13ed-4e41-cf44-198f85691f10"
      },
      "execution_count": 13,
      "outputs": [
        {
          "output_type": "execute_result",
          "data": {
            "text/plain": [
              "(array([[1.0, 0.0, 0.0, 40.0, 63777.77777777778],\n",
              "        [0.0, 1.0, 0.0, 37.0, 67000.0],\n",
              "        [0.0, 0.0, 1.0, 27.0, 48000.0],\n",
              "        [0.0, 0.0, 1.0, 38.77777777777778, 52000.0],\n",
              "        [0.0, 1.0, 0.0, 48.0, 79000.0],\n",
              "        [0.0, 0.0, 1.0, 38.0, 61000.0],\n",
              "        [0.0, 1.0, 0.0, 44.0, 72000.0],\n",
              "        [0.0, 1.0, 0.0, 35.0, 58000.0]], dtype=object),\n",
              " array([[1.0, 0.0, 0.0, 30.0, 54000.0],\n",
              "        [1.0, 0.0, 0.0, 50.0, 83000.0]], dtype=object),\n",
              " array([1, 1, 1, 0, 1, 0, 0, 1]),\n",
              " array([0, 0]))"
            ]
          },
          "metadata": {},
          "execution_count": 13
        }
      ]
    },
    {
      "cell_type": "code",
      "source": [
        "from sklearn.preprocessing import StandardScaler\n",
        "sc = StandardScaler()\n",
        "X_train[:, 3:] = sc.fit_transform(X_train[:, 3:])\n",
        "X_test[:, 3:] = sc.transform(X_test[:, 3:])\n",
        "X_train,X_test"
      ],
      "metadata": {
        "colab": {
          "base_uri": "https://localhost:8080/"
        },
        "id": "fhoZWeJS--88",
        "outputId": "e478f4dc-6378-45c4-cf2b-fb488c98bc2b"
      },
      "execution_count": 14,
      "outputs": [
        {
          "output_type": "execute_result",
          "data": {
            "text/plain": [
              "(array([[1.0, 0.0, 0.0, 0.2630675731713538, 0.1238147854838185],\n",
              "        [0.0, 1.0, 0.0, -0.25350147960148617, 0.4617563176278856],\n",
              "        [0.0, 0.0, 1.0, -1.9753983221776195, -1.5309334063940294],\n",
              "        [0.0, 0.0, 1.0, 0.05261351463427101, -1.1114197802841526],\n",
              "        [0.0, 1.0, 0.0, 1.6405850472322605, 1.7202971959575162],\n",
              "        [0.0, 0.0, 1.0, -0.08131179534387283, -0.16751412153692966],\n",
              "        [0.0, 1.0, 0.0, 0.9518263102018072, 0.9861483502652316],\n",
              "        [0.0, 1.0, 0.0, -0.5978808481167128, -0.48214934111933727]],\n",
              "       dtype=object),\n",
              " array([[1.0, 0.0, 0.0, -1.4588292694047795, -0.9016629672292141],\n",
              "        [1.0, 0.0, 0.0, 1.984964415747487, 2.139810822067393]],\n",
              "       dtype=object))"
            ]
          },
          "metadata": {},
          "execution_count": 14
        }
      ]
    }
  ]
}