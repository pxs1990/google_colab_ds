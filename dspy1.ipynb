{
  "nbformat": 4,
  "nbformat_minor": 0,
  "metadata": {
    "colab": {
      "provenance": [],
      "authorship_tag": "ABX9TyNW9lpzzVQZUXVVsaVLf0Ms",
      "include_colab_link": true
    },
    "kernelspec": {
      "name": "python3",
      "display_name": "Python 3"
    },
    "language_info": {
      "name": "python"
    }
  },
  "cells": [
    {
      "cell_type": "markdown",
      "metadata": {
        "id": "view-in-github",
        "colab_type": "text"
      },
      "source": [
        "<a href=\"https://colab.research.google.com/github/pxs1990/google_colab_ds/blob/main/dspy1.ipynb\" target=\"_parent\"><img src=\"https://colab.research.google.com/assets/colab-badge.svg\" alt=\"Open In Colab\"/></a>"
      ]
    },
    {
      "cell_type": "code",
      "execution_count": null,
      "metadata": {
        "colab": {
          "base_uri": "https://localhost:8080/"
        },
        "id": "exGleCvUuviW",
        "outputId": "792e4c91-25f3-485f-a330-03a9b7007116"
      },
      "outputs": [
        {
          "output_type": "stream",
          "name": "stdout",
          "text": [
            "Python 3.10.12\n",
            "hello\n"
          ]
        }
      ],
      "source": [
        "#PYTHON COURSE FOR DATA SCIENCE\n",
        "!python --version\n",
        "print(\"hello\")\n"
      ]
    },
    {
      "cell_type": "code",
      "source": [
        "var1='Pushpa'\n",
        "print(var1)\n",
        "print(type(var1))\n",
        "var1=33\n",
        "print(var1)\n",
        "print(type(var1))\n",
        "var1=1.5\n",
        "print(var1)\n",
        "print(type(var1))\n",
        "var1=True\n",
        "print(var1)\n",
        "print(type(var1))\n"
      ],
      "metadata": {
        "colab": {
          "base_uri": "https://localhost:8080/"
        },
        "id": "pB5tIm7UwUDE",
        "outputId": "b3e6fde5-c75f-45f3-ce30-7139f3893ee2"
      },
      "execution_count": null,
      "outputs": [
        {
          "output_type": "stream",
          "name": "stdout",
          "text": [
            "Pushpa\n",
            "<class 'str'>\n",
            "33\n",
            "<class 'int'>\n",
            "1.5\n",
            "<class 'float'>\n",
            "True\n",
            "<class 'bool'>\n"
          ]
        }
      ]
    },
    {
      "cell_type": "code",
      "source": [
        "D2={'1': 7.4, '2': 9.2, '3': 5.2}"
      ],
      "metadata": {
        "colab": {
          "base_uri": "https://localhost:8080/"
        },
        "id": "Obj-UvSE7TTJ",
        "outputId": "5d5e617a-fe3d-4d07-c024-97b3ddc0ed11"
      },
      "execution_count": null,
      "outputs": [
        {
          "output_type": "execute_result",
          "data": {
            "text/plain": [
              "{'1': 7.4, '2': 9.2, '3': 5.2}"
            ]
          },
          "metadata": {},
          "execution_count": 23
        }
      ]
    },
    {
      "cell_type": "code",
      "source": [
        "D2={'1': 7.4, '2': 9.2, '3': 5.2}\n",
        "for k in D2:\n",
        "  print(\"key is \", k+' and '+ \"value is\" ,D2[k])\n"
      ],
      "metadata": {
        "colab": {
          "base_uri": "https://localhost:8080/"
        },
        "id": "typ1_1FQ7kek",
        "outputId": "6a882b7e-88fa-4832-9533-430d37ed1dca"
      },
      "execution_count": null,
      "outputs": [
        {
          "output_type": "stream",
          "name": "stdout",
          "text": [
            "key is  1 and value is 7.4\n",
            "key is  2 and value is 9.2\n",
            "key is  3 and value is 5.2\n"
          ]
        }
      ]
    },
    {
      "cell_type": "code",
      "source": [
        "#DATA TYPES\n",
        "id=235\n",
        "print(id, type(id))\n",
        "distance=3.5\n",
        "print(distance,type(distance))\n",
        "complx=2+3j\n",
        "print(complx,type(complx))\n",
        "isStudent=True\n",
        "print(isStudent,type(isStudent))\n",
        "name='pushpa'\n",
        "print(name,type(name))\n",
        "name=\"pushpa\"\n",
        "print(name,type(name))\n",
        "\n",
        "name='''pushpa'''\n",
        "print(name,type(name))\n",
        "name=\"pushpa\"\n",
        "print(name,type(name))\n",
        "\n",
        "name=\"\"\"pushpa\"\"\"\n",
        "print(name,type(name))"
      ],
      "metadata": {
        "colab": {
          "base_uri": "https://localhost:8080/"
        },
        "id": "8c8kEezyuWJc",
        "outputId": "914cc414-1884-4f32-f7ff-0c64d4074850"
      },
      "execution_count": null,
      "outputs": [
        {
          "output_type": "stream",
          "name": "stdout",
          "text": [
            "235 <class 'int'>\n",
            "3.5 <class 'float'>\n",
            "(2+3j) <class 'complex'>\n",
            "True <class 'bool'>\n",
            "pushpa <class 'str'>\n",
            "pushpa <class 'str'>\n",
            "pushpa <class 'str'>\n",
            "pushpa <class 'str'>\n",
            "pushpa <class 'str'>\n"
          ]
        }
      ]
    },
    {
      "cell_type": "code",
      "source": [
        "st=\"pushpa\"\n",
        "st.capitalize()"
      ],
      "metadata": {
        "colab": {
          "base_uri": "https://localhost:8080/",
          "height": 36
        },
        "id": "aIExHsrVcEHd",
        "outputId": "3f8d58f9-9039-4618-e4fe-ba30bee8812f"
      },
      "execution_count": null,
      "outputs": [
        {
          "output_type": "execute_result",
          "data": {
            "text/plain": [
              "'Pushpa'"
            ],
            "application/vnd.google.colaboratory.intrinsic+json": {
              "type": "string"
            }
          },
          "metadata": {},
          "execution_count": 2
        }
      ]
    },
    {
      "cell_type": "code",
      "source": [
        "st.casefold()# caseless"
      ],
      "metadata": {
        "colab": {
          "base_uri": "https://localhost:8080/",
          "height": 36
        },
        "id": "Lco4FPPmcMOJ",
        "outputId": "2e294e17-0af0-4353-8278-ee1b90b7d601"
      },
      "execution_count": null,
      "outputs": [
        {
          "output_type": "execute_result",
          "data": {
            "text/plain": [
              "'pushpa'"
            ],
            "application/vnd.google.colaboratory.intrinsic+json": {
              "type": "string"
            }
          },
          "metadata": {},
          "execution_count": 50
        }
      ]
    },
    {
      "cell_type": "code",
      "source": [
        "st.center(10,'*')#width>len() and if char is not assigned, it center alligns with space"
      ],
      "metadata": {
        "colab": {
          "base_uri": "https://localhost:8080/",
          "height": 36
        },
        "id": "fGcgs2eWcXDO",
        "outputId": "fca397fb-d8d9-4068-ed59-b8651297db53"
      },
      "execution_count": null,
      "outputs": [
        {
          "output_type": "execute_result",
          "data": {
            "text/plain": [
              "'**pushpa**'"
            ],
            "application/vnd.google.colaboratory.intrinsic+json": {
              "type": "string"
            }
          },
          "metadata": {},
          "execution_count": 6
        }
      ]
    },
    {
      "cell_type": "code",
      "source": [
        "st.ljust(10,'*')"
      ],
      "metadata": {
        "colab": {
          "base_uri": "https://localhost:8080/",
          "height": 36
        },
        "id": "B64KXBYnLJmm",
        "outputId": "fc541b32-58d8-4a18-da06-a81da702d4a8"
      },
      "execution_count": null,
      "outputs": [
        {
          "output_type": "execute_result",
          "data": {
            "text/plain": [
              "'pushpa****'"
            ],
            "application/vnd.google.colaboratory.intrinsic+json": {
              "type": "string"
            }
          },
          "metadata": {},
          "execution_count": 4
        }
      ]
    },
    {
      "cell_type": "code",
      "source": [
        "st.rjust(10,'*')"
      ],
      "metadata": {
        "colab": {
          "base_uri": "https://localhost:8080/",
          "height": 36
        },
        "id": "oydy0mcQLQol",
        "outputId": "a3d9577b-8797-4be6-e30e-b3625ae7a4e5"
      },
      "execution_count": null,
      "outputs": [
        {
          "output_type": "execute_result",
          "data": {
            "text/plain": [
              "'****pushpa'"
            ],
            "application/vnd.google.colaboratory.intrinsic+json": {
              "type": "string"
            }
          },
          "metadata": {},
          "execution_count": 5
        }
      ]
    },
    {
      "cell_type": "code",
      "source": [
        "st.count('a')"
      ],
      "metadata": {
        "colab": {
          "base_uri": "https://localhost:8080/"
        },
        "id": "bKu2LITedktA",
        "outputId": "84a4209e-0bb4-43d5-a61a-baf8e3f4c16b"
      },
      "execution_count": null,
      "outputs": [
        {
          "output_type": "execute_result",
          "data": {
            "text/plain": [
              "1"
            ]
          },
          "metadata": {},
          "execution_count": 6
        }
      ]
    },
    {
      "cell_type": "code",
      "source": [
        "st.encode('ASCII')#converts to byptes"
      ],
      "metadata": {
        "colab": {
          "base_uri": "https://localhost:8080/"
        },
        "id": "XelNTf7rdsP4",
        "outputId": "896036c0-66ed-4cb5-c006-2c291356df38"
      },
      "execution_count": null,
      "outputs": [
        {
          "output_type": "execute_result",
          "data": {
            "text/plain": [
              "b'pushpa'"
            ]
          },
          "metadata": {},
          "execution_count": 7
        }
      ]
    },
    {
      "cell_type": "code",
      "source": [
        "st.endswith('a')#boolean\n",
        "st.startswith('a')"
      ],
      "metadata": {
        "colab": {
          "base_uri": "https://localhost:8080/"
        },
        "id": "a6ZIKHrveQTv",
        "outputId": "6c3121a1-50dc-4958-b9be-9565c8061317"
      },
      "execution_count": null,
      "outputs": [
        {
          "output_type": "execute_result",
          "data": {
            "text/plain": [
              "False"
            ]
          },
          "metadata": {},
          "execution_count": 51
        }
      ]
    },
    {
      "cell_type": "code",
      "source": [
        "st1= \"Hello\\tworld\\twith\\ttabs.\"\n",
        "print(st1)\n",
        "st1.expandtabs()# default tab size is8\n",
        "st1.expandtabs(20)"
      ],
      "metadata": {
        "colab": {
          "base_uri": "https://localhost:8080/",
          "height": 53
        },
        "id": "rnSSd9NxeWnz",
        "outputId": "76bf6153-2ceb-47cb-f51f-e378da1a405f"
      },
      "execution_count": null,
      "outputs": [
        {
          "output_type": "stream",
          "name": "stdout",
          "text": [
            "Hello\tworld\twith\ttabs.\n"
          ]
        },
        {
          "output_type": "execute_result",
          "data": {
            "text/plain": [
              "'Hello               world               with                tabs.'"
            ],
            "application/vnd.google.colaboratory.intrinsic+json": {
              "type": "string"
            }
          },
          "metadata": {},
          "execution_count": 88
        }
      ]
    },
    {
      "cell_type": "code",
      "source": [
        "st=\"pushpa\"\n",
        "st.find('u')# index of first occurence of substr\n",
        "st.find('u',2,5)# index in sliced string\n",
        "st.rfind(\"p\")#indenx of last occurence of substr"
      ],
      "metadata": {
        "colab": {
          "base_uri": "https://localhost:8080/"
        },
        "id": "A2qiSo1CfRwc",
        "outputId": "a08cd7ba-d17f-4b2e-e679-30e732200afb"
      },
      "execution_count": null,
      "outputs": [
        {
          "output_type": "execute_result",
          "data": {
            "text/plain": [
              "4"
            ]
          },
          "metadata": {},
          "execution_count": 29
        }
      ]
    },
    {
      "cell_type": "code",
      "source": [
        "st=\"pushpa\"\n",
        "st.index('p')# first occurence BUT when index not found it gives ValueError\n",
        "st.rindex('p')#last occurence"
      ],
      "metadata": {
        "id": "cFwHxxxkZHm4"
      },
      "execution_count": null,
      "outputs": []
    },
    {
      "cell_type": "code",
      "source": [
        "name=\"pushpa\"\n",
        "age=\"33\"\n",
        "st=\"my name is {} and I am {} years old\"\n",
        "st.format(name,age)#prints formatted str by inserting dynamic values in a placeholder.\n",
        "#print(f\"my name is {name} and I am {age} years old\")"
      ],
      "metadata": {
        "colab": {
          "base_uri": "https://localhost:8080/",
          "height": 36
        },
        "id": "_oqo-Z0XgbuD",
        "outputId": "d4710f83-73c7-4a1d-eb6c-a630506c16c4"
      },
      "execution_count": null,
      "outputs": [
        {
          "output_type": "execute_result",
          "data": {
            "text/plain": [
              "'my name is pushpa and I am 33 years old'"
            ],
            "application/vnd.google.colaboratory.intrinsic+json": {
              "type": "string"
            }
          },
          "metadata": {},
          "execution_count": 1
        }
      ]
    },
    {
      "cell_type": "code",
      "source": [
        "D = {'name': 'Pushpa', 'age': 33}\n",
        "st = \"My name is {name} and I am {age} years old.\"\n",
        "st.format_map(D)\n"
      ],
      "metadata": {
        "id": "3G-B3uKAnSpI",
        "colab": {
          "base_uri": "https://localhost:8080/",
          "height": 36
        },
        "outputId": "5e50b8d8-45b7-41c9-db08-87b3f3493477"
      },
      "execution_count": null,
      "outputs": [
        {
          "output_type": "execute_result",
          "data": {
            "text/plain": [
              "'My name is Pushpa and I am 33 years old.'"
            ],
            "application/vnd.google.colaboratory.intrinsic+json": {
              "type": "string"
            }
          },
          "metadata": {},
          "execution_count": 35
        }
      ]
    },
    {
      "cell_type": "code",
      "source": [
        "st.swapcase()"
      ],
      "metadata": {
        "colab": {
          "base_uri": "https://localhost:8080/",
          "height": 36
        },
        "id": "RfXuWpdJ_Wcx",
        "outputId": "efd48ca9-89e0-4660-9de9-df65025aaa49"
      },
      "execution_count": null,
      "outputs": [
        {
          "output_type": "execute_result",
          "data": {
            "text/plain": [
              "'MY NAME IS {} AND i AM {} YEARS OLD'"
            ],
            "application/vnd.google.colaboratory.intrinsic+json": {
              "type": "string"
            }
          },
          "metadata": {},
          "execution_count": 2
        }
      ]
    },
    {
      "cell_type": "code",
      "source": [
        "st.isalpha()"
      ],
      "metadata": {
        "colab": {
          "base_uri": "https://localhost:8080/"
        },
        "id": "W83g1btXkPqR",
        "outputId": "03eb4473-06fb-4c72-9701-6be986853401"
      },
      "execution_count": null,
      "outputs": [
        {
          "output_type": "execute_result",
          "data": {
            "text/plain": [
              "True"
            ]
          },
          "metadata": {},
          "execution_count": 100
        }
      ]
    },
    {
      "cell_type": "code",
      "source": [
        "#st.isnumeric(),st.isalnum(), st.isascii(), st.isdigit() ,st.isdecimal(), st.islower(),st.isupper()"
      ],
      "metadata": {
        "id": "k3retbtciNZA"
      },
      "execution_count": null,
      "outputs": []
    },
    {
      "cell_type": "code",
      "source": [
        "st.isidentifier()\n",
        "# An identifier is a name used to identify a variable, function, class, module, or other objects in Python.\n",
        "# It must start with a letter (a-z, A-Z) or an underscore (_).\n",
        "# The remaining characters can be letters, underscores, or digits (0-9)."
      ],
      "metadata": {
        "id": "1mxCXAHuiq5f"
      },
      "execution_count": null,
      "outputs": []
    },
    {
      "cell_type": "code",
      "source": [
        "st.istitle()#True each word starts with an uppercase"
      ],
      "metadata": {
        "colab": {
          "base_uri": "https://localhost:8080/"
        },
        "id": "UCP3EAsvjeuD",
        "outputId": "ac85cf29-7247-4ce1-8c0f-d9eed32eae2b"
      },
      "execution_count": null,
      "outputs": [
        {
          "output_type": "execute_result",
          "data": {
            "text/plain": [
              "False"
            ]
          },
          "metadata": {},
          "execution_count": 99
        }
      ]
    },
    {
      "cell_type": "code",
      "source": [
        "st.isprintable()#printable chars are easily displayed and unprintable chars are esc chars"
      ],
      "metadata": {
        "id": "y9CYyloikA76"
      },
      "execution_count": null,
      "outputs": []
    },
    {
      "cell_type": "code",
      "source": [
        "print(', '.join(['a','b','c']))#joins elements from an iterable (like a list, tuple, or string) by joining them together using a specified string separator.\n",
        "print('-'.join(\"pushpa\"))"
      ],
      "metadata": {
        "colab": {
          "base_uri": "https://localhost:8080/"
        },
        "id": "RvnKdZuHlBe2",
        "outputId": "cf3b84c4-999b-4196-cefd-df9482eafd9d"
      },
      "execution_count": null,
      "outputs": [
        {
          "output_type": "stream",
          "name": "stdout",
          "text": [
            "a, b, c\n",
            "p-u-s-h-p-a\n"
          ]
        }
      ]
    },
    {
      "cell_type": "code",
      "source": [
        "trans_table=st.maketrans('aeiou','12345')\n",
        "st.translate(trans_table)"
      ],
      "metadata": {
        "colab": {
          "base_uri": "https://localhost:8080/",
          "height": 36
        },
        "id": "KkZptWrRO1Ku",
        "outputId": "a241e415-2c77-44fe-fc42-b4db12a8736c"
      },
      "execution_count": null,
      "outputs": [
        {
          "output_type": "execute_result",
          "data": {
            "text/plain": [
              "'p5shp1'"
            ],
            "application/vnd.google.colaboratory.intrinsic+json": {
              "type": "string"
            }
          },
          "metadata": {},
          "execution_count": 8
        }
      ]
    },
    {
      "cell_type": "code",
      "source": [
        "st=' Pushpa '\n",
        "st.strip()#st.lstrip() and st.rstrip()"
      ],
      "metadata": {
        "colab": {
          "base_uri": "https://localhost:8080/",
          "height": 36
        },
        "id": "Q7MDpUNGP5hR",
        "outputId": "ea0742be-9c51-4c92-dfaf-06b71d75ee90"
      },
      "execution_count": null,
      "outputs": [
        {
          "output_type": "execute_result",
          "data": {
            "text/plain": [
              "'Pushpa '"
            ],
            "application/vnd.google.colaboratory.intrinsic+json": {
              "type": "string"
            }
          },
          "metadata": {},
          "execution_count": 10
        }
      ]
    },
    {
      "cell_type": "code",
      "source": [
        "#returns a 3 ele tuple, if sep not found, then (st, \"\", \"\")\n",
        "st1=\"hello-pushpa\"\n",
        "st1.partition(\"-\")#(1st, sep, last)\n",
        "#st1.rpartition(\"-\")#(last,set,1st"
      ],
      "metadata": {
        "colab": {
          "base_uri": "https://localhost:8080/"
        },
        "id": "FJu2bGnZRJ_Z",
        "outputId": "e7715b28-14f5-4422-c514-f95fb96ccfea"
      },
      "execution_count": null,
      "outputs": [
        {
          "output_type": "execute_result",
          "data": {
            "text/plain": [
              "('hello', '-', 'pushpa')"
            ]
          },
          "metadata": {},
          "execution_count": 46
        }
      ]
    },
    {
      "cell_type": "code",
      "source": [
        "st2=\"Pushpa\"\n",
        "st2.lower().removeprefix(\"push\")#st.removesuffix()"
      ],
      "metadata": {
        "colab": {
          "base_uri": "https://localhost:8080/",
          "height": 36
        },
        "id": "0WRyX1VkSyFv",
        "outputId": "e258549e-4983-49c1-d643-887d6c384390"
      },
      "execution_count": null,
      "outputs": [
        {
          "output_type": "execute_result",
          "data": {
            "text/plain": [
              "'pa'"
            ],
            "application/vnd.google.colaboratory.intrinsic+json": {
              "type": "string"
            }
          },
          "metadata": {},
          "execution_count": 26
        }
      ]
    },
    {
      "cell_type": "code",
      "source": [
        "st=\"hello Pushpa\"\n",
        "st.replace(\"hello\",\"hi\")"
      ],
      "metadata": {
        "colab": {
          "base_uri": "https://localhost:8080/",
          "height": 36
        },
        "id": "ZeSqiUuqVHZz",
        "outputId": "a641b784-d126-403a-9382-6319bba92b14"
      },
      "execution_count": null,
      "outputs": [
        {
          "output_type": "execute_result",
          "data": {
            "text/plain": [
              "'hi Pushpa'"
            ],
            "application/vnd.google.colaboratory.intrinsic+json": {
              "type": "string"
            }
          },
          "metadata": {},
          "execution_count": 27
        }
      ]
    },
    {
      "cell_type": "code",
      "source": [
        "st=\"p,u,s,h,p,a\"\n",
        "print(st.split(',',2))#splits and returns a list with max 2 split from the let\n",
        "st.rsplit(',',2)# splits and returns a list with max 2 split from the right"
      ],
      "metadata": {
        "colab": {
          "base_uri": "https://localhost:8080/"
        },
        "id": "UBIEwVfFYmwm",
        "outputId": "edd1d50e-67e8-4acc-9718-e28d7d678ab3"
      },
      "execution_count": null,
      "outputs": [
        {
          "output_type": "stream",
          "name": "stdout",
          "text": [
            "['p', 'u', 's,h,p,a']\n"
          ]
        },
        {
          "output_type": "execute_result",
          "data": {
            "text/plain": [
              "['p,u,s,h', 'p', 'a']"
            ]
          },
          "metadata": {},
          "execution_count": 43
        }
      ]
    },
    {
      "cell_type": "code",
      "source": [
        "l=[1,2,'a','b']\n",
        "print(l,type(l))\n",
        "print(l[0])\n",
        "\n",
        "t=(1,2,'a','b')\n",
        "print(t,type(t))\n",
        "print(t[0])\n",
        "\n",
        "s={1,2,0,'a','b',True,False}\n",
        "print(s,type(s))\n",
        "\n",
        "D={'1':'a','2':'b','3':'c','d':'dates','e':'email'}\n",
        "print(D,type(D))\n",
        "D['1']\n"
      ],
      "metadata": {
        "id": "oAANUC3Txyxz",
        "colab": {
          "base_uri": "https://localhost:8080/",
          "height": 140
        },
        "outputId": "b3cc95a6-c31a-4b99-f466-1963c8f7ba01"
      },
      "execution_count": null,
      "outputs": [
        {
          "output_type": "stream",
          "name": "stdout",
          "text": [
            "[1, 2, 'a', 'b'] <class 'list'>\n",
            "1\n",
            "(1, 2, 'a', 'b') <class 'tuple'>\n",
            "1\n",
            "{0, 1, 2, 'a', 'b'} <class 'set'>\n",
            "{'1': 'a', '2': 'b', '3': 'c', 'd': 'dates', 'e': 'email'} <class 'dict'>\n"
          ]
        },
        {
          "output_type": "execute_result",
          "data": {
            "text/plain": [
              "'a'"
            ],
            "application/vnd.google.colaboratory.intrinsic+json": {
              "type": "string"
            }
          },
          "metadata": {},
          "execution_count": 9
        }
      ]
    },
    {
      "cell_type": "code",
      "source": [
        "#BUILTIN FUNCTIONS FOR LIST\n",
        "list1=[1,2,3,'a','b',True,False,1]\n",
        "list1.append('d')#adds at the end\n",
        "print(list1)\n"
      ],
      "metadata": {
        "colab": {
          "base_uri": "https://localhost:8080/"
        },
        "id": "VX5wWF414xEH",
        "outputId": "233f0cec-905f-4b9f-e6e0-cad191dc52c1"
      },
      "execution_count": null,
      "outputs": [
        {
          "output_type": "stream",
          "name": "stdout",
          "text": [
            "[1, 2, 3, 'a', 'b', True, False, 1, 'd']\n"
          ]
        }
      ]
    },
    {
      "cell_type": "code",
      "source": [
        "list1=['a','b','c','d']\n",
        "list1[3]='e'#updates index 3 element\n",
        "list1"
      ],
      "metadata": {
        "colab": {
          "base_uri": "https://localhost:8080/"
        },
        "id": "JVpKNe3sNOq9",
        "outputId": "82a97de9-3deb-43fa-d275-fe3f46c994f9"
      },
      "execution_count": null,
      "outputs": [
        {
          "output_type": "execute_result",
          "data": {
            "text/plain": [
              "['a', 'b', 'c', 'e']"
            ]
          },
          "metadata": {},
          "execution_count": 20
        }
      ]
    },
    {
      "cell_type": "code",
      "source": [
        "list1.extend(['d','e',3,4])\n",
        "print(list1)"
      ],
      "metadata": {
        "colab": {
          "base_uri": "https://localhost:8080/"
        },
        "id": "J8un4qqWMPx7",
        "outputId": "99608635-e5b4-4c61-a74f-f5f211a45296"
      },
      "execution_count": null,
      "outputs": [
        {
          "output_type": "stream",
          "name": "stdout",
          "text": [
            "[1, 2, 3, 'a', 'b', True, False, 1, 'd', 'e', 3, 4]\n"
          ]
        }
      ]
    },
    {
      "cell_type": "code",
      "source": [
        "list1.clear()\n",
        "print(list1)"
      ],
      "metadata": {
        "colab": {
          "base_uri": "https://localhost:8080/"
        },
        "id": "PlX5fdId8fF2",
        "outputId": "f01d63cb-5dd7-4987-c510-2b89d1d0c8a9"
      },
      "execution_count": null,
      "outputs": [
        {
          "output_type": "stream",
          "name": "stdout",
          "text": [
            "[]\n"
          ]
        }
      ]
    },
    {
      "cell_type": "code",
      "source": [
        "list1=[1, 2, 3, 'a', 'b', True, False, 1, 'd']\n",
        "list2=list1.copy()\n",
        "print(list2)"
      ],
      "metadata": {
        "colab": {
          "base_uri": "https://localhost:8080/"
        },
        "id": "Wz5AMuru8lhG",
        "outputId": "5505da45-64da-419f-d75f-3ea9fb3824f2"
      },
      "execution_count": null,
      "outputs": [
        {
          "output_type": "stream",
          "name": "stdout",
          "text": [
            "[1, 2, 3, 'a', 'b', True, False, 1, 'd']\n"
          ]
        }
      ]
    },
    {
      "cell_type": "code",
      "source": [
        "list1.count(1)"
      ],
      "metadata": {
        "colab": {
          "base_uri": "https://localhost:8080/"
        },
        "id": "KqEbq_W08z-6",
        "outputId": "e0b76bf5-c289-499d-bfbd-e578206f38e9"
      },
      "execution_count": null,
      "outputs": [
        {
          "output_type": "execute_result",
          "data": {
            "text/plain": [
              "3"
            ]
          },
          "metadata": {},
          "execution_count": 9
        }
      ]
    },
    {
      "cell_type": "code",
      "source": [
        "list1.index('a',0,7)\n",
        "list1.index('a')"
      ],
      "metadata": {
        "colab": {
          "base_uri": "https://localhost:8080/"
        },
        "id": "N6jPGtpO9JkQ",
        "outputId": "9debfa6c-5877-4a85-af29-b5faf9295e25"
      },
      "execution_count": null,
      "outputs": [
        {
          "output_type": "execute_result",
          "data": {
            "text/plain": [
              "0"
            ]
          },
          "metadata": {},
          "execution_count": 30
        }
      ]
    },
    {
      "cell_type": "code",
      "source": [
        "list1.insert(0,'z')\n",
        "print(list1)"
      ],
      "metadata": {
        "colab": {
          "base_uri": "https://localhost:8080/"
        },
        "id": "NCEWzszd9eLT",
        "outputId": "2bb19464-e30d-441c-ce36-b114faba6e7e"
      },
      "execution_count": null,
      "outputs": [
        {
          "output_type": "stream",
          "name": "stdout",
          "text": [
            "['z', 1, 2, 3, 'a', 'b', True, False, 1, 'd', 'd', 'e', 3, 4]\n"
          ]
        }
      ]
    },
    {
      "cell_type": "code",
      "source": [
        "list1.pop()\n",
        "print(list1)"
      ],
      "metadata": {
        "colab": {
          "base_uri": "https://localhost:8080/"
        },
        "id": "ehezF69f9ocK",
        "outputId": "6c632d8f-c1d1-4b03-86fc-3aa4a8f3a354"
      },
      "execution_count": null,
      "outputs": [
        {
          "output_type": "stream",
          "name": "stdout",
          "text": [
            "['a', 'b', 'c']\n"
          ]
        }
      ]
    },
    {
      "cell_type": "code",
      "source": [
        "list1=['z', 1, 2, 3, 'a', 'b', True, False, 1, 'd', 'd', 'e', 3, 4]\n",
        "list1.remove('z')\n",
        "print(list1)"
      ],
      "metadata": {
        "colab": {
          "base_uri": "https://localhost:8080/"
        },
        "id": "HkfRn1hL9vB_",
        "outputId": "01fbefa9-adc5-421c-98fa-e53c33586904"
      },
      "execution_count": null,
      "outputs": [
        {
          "output_type": "stream",
          "name": "stdout",
          "text": [
            "[1, 2, 3, 'a', 'b', True, False, 1, 'd', 'd', 'e', 3, 4]\n"
          ]
        }
      ]
    },
    {
      "cell_type": "code",
      "source": [
        "list1.reverse()\n",
        "print(list1)"
      ],
      "metadata": {
        "colab": {
          "base_uri": "https://localhost:8080/"
        },
        "id": "oRr7-u_C90Yc",
        "outputId": "8a7c0fd1-2bbb-498c-b34c-32e649cf628a"
      },
      "execution_count": null,
      "outputs": [
        {
          "output_type": "stream",
          "name": "stdout",
          "text": [
            "[4, 3, 'e', 'd', 'z', 'e', 'd', 'd', 'b', 'a']\n"
          ]
        }
      ]
    },
    {
      "cell_type": "code",
      "source": [
        "l=[ 'e', 'd', 'd' ,'b', 'a', 'z']\n",
        "l[0]\n"
      ],
      "metadata": {
        "colab": {
          "base_uri": "https://localhost:8080/",
          "height": 35
        },
        "id": "9j5RAc7Q96HG",
        "outputId": "ef009f7f-e448-4554-c459-c038042e9aba"
      },
      "execution_count": null,
      "outputs": [
        {
          "output_type": "execute_result",
          "data": {
            "text/plain": [
              "'e'"
            ],
            "application/vnd.google.colaboratory.intrinsic+json": {
              "type": "string"
            }
          },
          "metadata": {},
          "execution_count": 44
        }
      ]
    },
    {
      "cell_type": "code",
      "source": [
        "l=[ 'e', 'd', 'd' ,'b', 'a', 'z']\n",
        "min(l)\n",
        "max(l)"
      ],
      "metadata": {
        "colab": {
          "base_uri": "https://localhost:8080/",
          "height": 36
        },
        "id": "Bkin2mGoXfcW",
        "outputId": "89c8ac85-a983-4566-c0ce-ff6237e51973"
      },
      "execution_count": null,
      "outputs": [
        {
          "output_type": "execute_result",
          "data": {
            "text/plain": [
              "'z'"
            ],
            "application/vnd.google.colaboratory.intrinsic+json": {
              "type": "string"
            }
          },
          "metadata": {},
          "execution_count": 44
        }
      ]
    },
    {
      "cell_type": "code",
      "source": [
        "l[-1]"
      ],
      "metadata": {
        "colab": {
          "base_uri": "https://localhost:8080/",
          "height": 35
        },
        "id": "L6EBaTDjEXji",
        "outputId": "56d45667-8d5d-45cf-8692-26591b5e92ea"
      },
      "execution_count": null,
      "outputs": [
        {
          "output_type": "execute_result",
          "data": {
            "text/plain": [
              "'z'"
            ],
            "application/vnd.google.colaboratory.intrinsic+json": {
              "type": "string"
            }
          },
          "metadata": {},
          "execution_count": 46
        }
      ]
    },
    {
      "cell_type": "code",
      "source": [
        "l[:3:1]"
      ],
      "metadata": {
        "colab": {
          "base_uri": "https://localhost:8080/"
        },
        "id": "FXvVgSV6DReW",
        "outputId": "7ea97d54-0ac4-49eb-842b-a5e573c4ba96"
      },
      "execution_count": null,
      "outputs": [
        {
          "output_type": "execute_result",
          "data": {
            "text/plain": [
              "['e', 'd', 'd']"
            ]
          },
          "metadata": {},
          "execution_count": 39
        }
      ]
    },
    {
      "cell_type": "code",
      "source": [
        "l=['z', 'a', 'b', 'd', 'd', 'e']\n",
        "l[0:len(l):1]\n"
      ],
      "metadata": {
        "colab": {
          "base_uri": "https://localhost:8080/"
        },
        "id": "mtqiRk7CTZwD",
        "outputId": "a6fcf578-104c-4ad4-d40a-df1f53269c91"
      },
      "execution_count": null,
      "outputs": [
        {
          "output_type": "execute_result",
          "data": {
            "text/plain": [
              "['z', 'a', 'b', 'd', 'd', 'e']"
            ]
          },
          "metadata": {},
          "execution_count": 34
        }
      ]
    },
    {
      "cell_type": "code",
      "source": [
        "l=['z', 'a', 'b', 'd', 'd', 'e']\n",
        "l[::]"
      ],
      "metadata": {
        "colab": {
          "base_uri": "https://localhost:8080/"
        },
        "id": "unYCXvFRTf61",
        "outputId": "16fc96c0-2a6c-41f8-d03b-7bd35cfeb8dc"
      },
      "execution_count": null,
      "outputs": [
        {
          "output_type": "execute_result",
          "data": {
            "text/plain": [
              "['z', 'a', 'b', 'd', 'd', 'e']"
            ]
          },
          "metadata": {},
          "execution_count": 33
        }
      ]
    },
    {
      "cell_type": "code",
      "source": [
        "l=['z', 'a', 'b', 'd', 'd', 'e']\n",
        "l[-1:-(len(l)+1):-1]"
      ],
      "metadata": {
        "colab": {
          "base_uri": "https://localhost:8080/"
        },
        "id": "c-s10r7LDWmZ",
        "outputId": "4f902e68-4057-456a-8067-04d56f59a280"
      },
      "execution_count": null,
      "outputs": [
        {
          "output_type": "execute_result",
          "data": {
            "text/plain": [
              "['e', 'd', 'd', 'b', 'a', 'z']"
            ]
          },
          "metadata": {},
          "execution_count": 35
        }
      ]
    },
    {
      "cell_type": "code",
      "source": [
        "l=['z', 'a', 'b', 'd', 'd', 'e']\n",
        "l[::-1]"
      ],
      "metadata": {
        "colab": {
          "base_uri": "https://localhost:8080/"
        },
        "id": "zWZ3KbzWwbdd",
        "outputId": "968779bc-4c40-408d-9624-0325e48b1c16"
      },
      "execution_count": null,
      "outputs": [
        {
          "output_type": "execute_result",
          "data": {
            "text/plain": [
              "['e', 'd', 'd', 'b', 'a', 'z']"
            ]
          },
          "metadata": {},
          "execution_count": 38
        }
      ]
    },
    {
      "cell_type": "code",
      "source": [
        "l=['z', 'a', 'b', 'c', 'd', 'e']\n",
        "l[-2:2:-1]#second last till index 3"
      ],
      "metadata": {
        "colab": {
          "base_uri": "https://localhost:8080/"
        },
        "id": "66sdSQuEWMud",
        "outputId": "69043c31-b33c-4685-f313-5693cb91062e"
      },
      "execution_count": null,
      "outputs": [
        {
          "output_type": "execute_result",
          "data": {
            "text/plain": [
              "['d', 'c']"
            ]
          },
          "metadata": {},
          "execution_count": 41
        }
      ]
    },
    {
      "cell_type": "code",
      "source": [
        "l=['z', 'a', 'b', 'c', 'd', 'e']\n",
        "l[len(l)-1:3:-1]#last index till index 4"
      ],
      "metadata": {
        "colab": {
          "base_uri": "https://localhost:8080/"
        },
        "id": "9bbK_5yUDIWa",
        "outputId": "e312fc43-2dc6-4528-ecf8-fa4f9b003667"
      },
      "execution_count": null,
      "outputs": [
        {
          "output_type": "execute_result",
          "data": {
            "text/plain": [
              "['e', 'd']"
            ]
          },
          "metadata": {},
          "execution_count": 42
        }
      ]
    },
    {
      "cell_type": "code",
      "source": [
        "# builtin functions for tuple\n",
        "T=(1,'a',3,5,7,'a','c',1,'a')\n",
        "T"
      ],
      "metadata": {
        "colab": {
          "base_uri": "https://localhost:8080/"
        },
        "id": "uhBQ2lBnTLDA",
        "outputId": "9db814e7-aae6-4df7-c8c3-fe58b71d9b68"
      },
      "execution_count": null,
      "outputs": [
        {
          "output_type": "execute_result",
          "data": {
            "text/plain": [
              "(1, 'a', 3, 5, 7, 'a', 'c', 1, 'a')"
            ]
          },
          "metadata": {},
          "execution_count": 23
        }
      ]
    },
    {
      "cell_type": "code",
      "source": [
        "T[1]"
      ],
      "metadata": {
        "colab": {
          "base_uri": "https://localhost:8080/",
          "height": 36
        },
        "id": "cRZIDBpiUKkN",
        "outputId": "842b4d14-fb39-4f03-9a6e-efa200b6b4e8"
      },
      "execution_count": null,
      "outputs": [
        {
          "output_type": "execute_result",
          "data": {
            "text/plain": [
              "'a'"
            ],
            "application/vnd.google.colaboratory.intrinsic+json": {
              "type": "string"
            }
          },
          "metadata": {},
          "execution_count": 9
        }
      ]
    },
    {
      "cell_type": "code",
      "source": [
        "T[1:4]"
      ],
      "metadata": {
        "colab": {
          "base_uri": "https://localhost:8080/"
        },
        "id": "EUPJqycMUPts",
        "outputId": "e9ae3704-6e5a-4f1d-ff1d-abfb62bbb819"
      },
      "execution_count": null,
      "outputs": [
        {
          "output_type": "execute_result",
          "data": {
            "text/plain": [
              "('a', 3, 5)"
            ]
          },
          "metadata": {},
          "execution_count": 10
        }
      ]
    },
    {
      "cell_type": "code",
      "source": [
        "T[::-1]"
      ],
      "metadata": {
        "colab": {
          "base_uri": "https://localhost:8080/"
        },
        "id": "OxmQ7P76UY_e",
        "outputId": "a21af579-4048-4d02-8e2e-a25fc7b4006b"
      },
      "execution_count": null,
      "outputs": [
        {
          "output_type": "execute_result",
          "data": {
            "text/plain": [
              "('a', 1, 'c', 'a', 7, 5, 3, 'a', 1)"
            ]
          },
          "metadata": {},
          "execution_count": 11
        }
      ]
    },
    {
      "cell_type": "code",
      "source": [
        "T.count('a')"
      ],
      "metadata": {
        "colab": {
          "base_uri": "https://localhost:8080/"
        },
        "id": "gSZv5jeeTj0U",
        "outputId": "72f81fb0-4146-439e-a3b2-e0e5c6900c57"
      },
      "execution_count": null,
      "outputs": [
        {
          "output_type": "execute_result",
          "data": {
            "text/plain": [
              "3"
            ]
          },
          "metadata": {},
          "execution_count": 6
        }
      ]
    },
    {
      "cell_type": "code",
      "source": [
        "T.index('c')"
      ],
      "metadata": {
        "colab": {
          "base_uri": "https://localhost:8080/"
        },
        "id": "iQR03W9FT2Gm",
        "outputId": "a78a7adf-310b-4138-9644-917c68addd6e"
      },
      "execution_count": null,
      "outputs": [
        {
          "output_type": "execute_result",
          "data": {
            "text/plain": [
              "6"
            ]
          },
          "metadata": {},
          "execution_count": 8
        }
      ]
    },
    {
      "cell_type": "code",
      "source": [
        "len(T)"
      ],
      "metadata": {
        "colab": {
          "base_uri": "https://localhost:8080/"
        },
        "id": "nAs5VsNnUyk9",
        "outputId": "d48e5e6b-0d16-43f0-b621-199875b2409b"
      },
      "execution_count": null,
      "outputs": [
        {
          "output_type": "execute_result",
          "data": {
            "text/plain": [
              "9"
            ]
          },
          "metadata": {},
          "execution_count": 13
        }
      ]
    },
    {
      "cell_type": "code",
      "source": [
        "T1=(1,2,3,4,5)\n",
        "max(T1)\n",
        "min(T1)"
      ],
      "metadata": {
        "colab": {
          "base_uri": "https://localhost:8080/"
        },
        "id": "wCfgF0rGU6Th",
        "outputId": "f7de61c2-a253-426c-e17b-b74284d46ce3"
      },
      "execution_count": null,
      "outputs": [
        {
          "output_type": "execute_result",
          "data": {
            "text/plain": [
              "1"
            ]
          },
          "metadata": {},
          "execution_count": 16
        }
      ]
    },
    {
      "cell_type": "code",
      "source": [
        "L=[1,2,3]\n",
        "T=tuple(L)\n",
        "T"
      ],
      "metadata": {
        "colab": {
          "base_uri": "https://localhost:8080/"
        },
        "id": "3XI8cgngVSrN",
        "outputId": "269081d8-6d4d-405e-ff03-d61b36398414"
      },
      "execution_count": null,
      "outputs": [
        {
          "output_type": "execute_result",
          "data": {
            "text/plain": [
              "(1, 2, 3)"
            ]
          },
          "metadata": {},
          "execution_count": 18
        }
      ]
    },
    {
      "cell_type": "code",
      "source": [
        "#builtin functions for Set\n",
        "S={1,3,5,7,9,True,'a',3}\n",
        "S.add('b')\n",
        "S"
      ],
      "metadata": {
        "colab": {
          "base_uri": "https://localhost:8080/"
        },
        "id": "yGF3FNDgVmVQ",
        "outputId": "75db66a4-2ea1-4fa1-cada-94985c0eaf19"
      },
      "execution_count": null,
      "outputs": [
        {
          "output_type": "execute_result",
          "data": {
            "text/plain": [
              "{1, 3, 5, 7, 9, 'a', 'b'}"
            ]
          },
          "metadata": {},
          "execution_count": 47
        }
      ]
    },
    {
      "cell_type": "code",
      "source": [
        "S.clear()\n",
        "S"
      ],
      "metadata": {
        "colab": {
          "base_uri": "https://localhost:8080/"
        },
        "id": "KOW_AZ1kWF-X",
        "outputId": "f03e3ad8-7f39-4df2-80c3-f6d1586fa755"
      },
      "execution_count": null,
      "outputs": [
        {
          "output_type": "execute_result",
          "data": {
            "text/plain": [
              "set()"
            ]
          },
          "metadata": {},
          "execution_count": 26
        }
      ]
    },
    {
      "cell_type": "code",
      "source": [
        "S={1,3,5,7,9,True,'a'}\n",
        "S1=S.copy()#creates a new copy of S in memory.So change in S1 has no effect on S\n",
        "S1\n",
        "S1.add('b')\n",
        "print('S1 is: ',S1)\n",
        "print('S is: ',S)"
      ],
      "metadata": {
        "colab": {
          "base_uri": "https://localhost:8080/"
        },
        "id": "nkPs-g-1WP5e",
        "outputId": "243ce9d3-07e3-452d-e7da-15f90e626871"
      },
      "execution_count": null,
      "outputs": [
        {
          "output_type": "stream",
          "name": "stdout",
          "text": [
            "S1 is:  {1, 3, 5, 'b', 7, 9, 'a'}\n",
            "S is:  {1, 3, 5, 7, 9, 'a'}\n"
          ]
        }
      ]
    },
    {
      "cell_type": "code",
      "source": [
        "S={1,3,5,7,9,True,'a'}\n",
        "S.remove(1)\n",
        "print(S)"
      ],
      "metadata": {
        "colab": {
          "base_uri": "https://localhost:8080/"
        },
        "id": "iIYKCPmpX9Ud",
        "outputId": "b4abe3e1-b090-47cf-b049-c32716b9893a"
      },
      "execution_count": null,
      "outputs": [
        {
          "output_type": "stream",
          "name": "stdout",
          "text": [
            "{3, 5, 7, 9, 'a'}\n"
          ]
        }
      ]
    },
    {
      "cell_type": "code",
      "source": [
        "s={1,2,3}\n",
        "s.pop()#removes and returns the arbitrary ele as set is not ordered.\n",
        "s # popped set"
      ],
      "metadata": {
        "colab": {
          "base_uri": "https://localhost:8080/"
        },
        "id": "JFFdb9mMYQ3n",
        "outputId": "62f107bb-9c8f-4190-d232-c72828c1b9ef"
      },
      "execution_count": null,
      "outputs": [
        {
          "output_type": "execute_result",
          "data": {
            "text/plain": [
              "{2, 3}"
            ]
          },
          "metadata": {},
          "execution_count": 49
        }
      ]
    },
    {
      "cell_type": "code",
      "source": [
        "S1.difference(S)#returns a new  set S1-S\n"
      ],
      "metadata": {
        "colab": {
          "base_uri": "https://localhost:8080/"
        },
        "id": "v_tEXFKCW4zk",
        "outputId": "884433f9-57ef-4cc3-8053-f81593bb4061"
      },
      "execution_count": null,
      "outputs": [
        {
          "output_type": "execute_result",
          "data": {
            "text/plain": [
              "{'b'}"
            ]
          },
          "metadata": {},
          "execution_count": 65
        }
      ]
    },
    {
      "cell_type": "code",
      "source": [
        "S={1, 3, 5, 'b', 7, 9, 'a'}\n",
        "S1={1,3}\n",
        "S.difference_update(S1)#updates the original set, returns nothing\n",
        "S\n"
      ],
      "metadata": {
        "colab": {
          "base_uri": "https://localhost:8080/"
        },
        "id": "iufdMNAZXXbL",
        "outputId": "0365f9e0-d7c4-43da-bdb6-e54ca27dc62c"
      },
      "execution_count": null,
      "outputs": [
        {
          "output_type": "execute_result",
          "data": {
            "text/plain": [
              "{5, 7, 9, 'a', 'b'}"
            ]
          },
          "metadata": {},
          "execution_count": 69
        }
      ]
    },
    {
      "cell_type": "code",
      "source": [
        "S.discard(5)#updates set with discarding the arg, returns nothing\n",
        "S"
      ],
      "metadata": {
        "colab": {
          "base_uri": "https://localhost:8080/"
        },
        "id": "8Soq2NmuevNT",
        "outputId": "8de1ecbc-6a92-4d36-ae3b-0c18dc48bad0"
      },
      "execution_count": null,
      "outputs": [
        {
          "output_type": "execute_result",
          "data": {
            "text/plain": [
              "{7, 9, 'a', 'b'}"
            ]
          },
          "metadata": {},
          "execution_count": 71
        }
      ]
    },
    {
      "cell_type": "code",
      "source": [
        "S1={7,'c'}\n",
        "S.intersection(S1)#returns the intersection"
      ],
      "metadata": {
        "colab": {
          "base_uri": "https://localhost:8080/"
        },
        "id": "JSMoy6e9fU_w",
        "outputId": "17c5f238-9224-4c31-b7ef-165879697eb3"
      },
      "execution_count": null,
      "outputs": [
        {
          "output_type": "execute_result",
          "data": {
            "text/plain": [
              "{7}"
            ]
          },
          "metadata": {},
          "execution_count": 74
        }
      ]
    },
    {
      "cell_type": "code",
      "source": [
        "S.intersection_update(S1)#updates the set as intersection, returns nothing\n",
        "S"
      ],
      "metadata": {
        "colab": {
          "base_uri": "https://localhost:8080/"
        },
        "id": "estOQ4h0fuAC",
        "outputId": "b6352b0b-e75b-4664-a9b8-c09e002be14e"
      },
      "execution_count": null,
      "outputs": [
        {
          "output_type": "execute_result",
          "data": {
            "text/plain": [
              "{7}"
            ]
          },
          "metadata": {},
          "execution_count": 76
        }
      ]
    },
    {
      "cell_type": "code",
      "source": [
        "S.isdisjoint(S1)#boolean"
      ],
      "metadata": {
        "colab": {
          "base_uri": "https://localhost:8080/"
        },
        "id": "ATelWiQngO_q",
        "outputId": "cf34dcf9-cb64-401f-db1a-65417d29cffa"
      },
      "execution_count": null,
      "outputs": [
        {
          "output_type": "execute_result",
          "data": {
            "text/plain": [
              "False"
            ]
          },
          "metadata": {},
          "execution_count": 77
        }
      ]
    },
    {
      "cell_type": "code",
      "source": [
        "S.issubset(S1)#boolean"
      ],
      "metadata": {
        "colab": {
          "base_uri": "https://localhost:8080/"
        },
        "id": "v3_NYaAlgdck",
        "outputId": "ced4e245-f5ae-4610-83df-ce1f5f93ab88"
      },
      "execution_count": null,
      "outputs": [
        {
          "output_type": "execute_result",
          "data": {
            "text/plain": [
              "True"
            ]
          },
          "metadata": {},
          "execution_count": 78
        }
      ]
    },
    {
      "cell_type": "code",
      "source": [
        "S.issuperset(S1)#boolean"
      ],
      "metadata": {
        "colab": {
          "base_uri": "https://localhost:8080/"
        },
        "id": "QxSSqCtngkTJ",
        "outputId": "ddd6509c-fd6f-4507-e393-7b88eac42fc7"
      },
      "execution_count": null,
      "outputs": [
        {
          "output_type": "execute_result",
          "data": {
            "text/plain": [
              "False"
            ]
          },
          "metadata": {},
          "execution_count": 79
        }
      ]
    },
    {
      "cell_type": "code",
      "source": [
        "S={1, 3, 5, 'b', 7, 9, 'a'}\n",
        "S1={1,10,11}\n",
        "S.symmetric_difference(S1)#Returns So+S1o"
      ],
      "metadata": {
        "colab": {
          "base_uri": "https://localhost:8080/"
        },
        "id": "XutbBVkXiLIU",
        "outputId": "aedf29c8-890b-406e-cf15-3d29973eb87d"
      },
      "execution_count": null,
      "outputs": [
        {
          "output_type": "execute_result",
          "data": {
            "text/plain": [
              "{10, 11, 3, 5, 7, 9, 'a', 'b'}"
            ]
          },
          "metadata": {},
          "execution_count": 95
        }
      ]
    },
    {
      "cell_type": "code",
      "source": [
        "S.symmetric_difference_update(S1) #updates set with So+S1o and returns nothing\n",
        "S"
      ],
      "metadata": {
        "colab": {
          "base_uri": "https://localhost:8080/"
        },
        "id": "psEJkt22jCD3",
        "outputId": "85eec093-7779-4796-e866-b86fbd2556e1"
      },
      "execution_count": null,
      "outputs": [
        {
          "output_type": "execute_result",
          "data": {
            "text/plain": [
              "{1, 3, 5, 7, 9, 'a', 'b'}"
            ]
          },
          "metadata": {},
          "execution_count": 97
        }
      ]
    },
    {
      "cell_type": "code",
      "source": [
        "S.union(S1)"
      ],
      "metadata": {
        "colab": {
          "base_uri": "https://localhost:8080/"
        },
        "id": "7aFs3GGCqq_c",
        "outputId": "62be2080-4d98-4c84-9016-3d3a3b59c045"
      },
      "execution_count": null,
      "outputs": [
        {
          "output_type": "execute_result",
          "data": {
            "text/plain": [
              "{1, 10, 11, 3, 5, 7, 9, 'a', 'b'}"
            ]
          },
          "metadata": {},
          "execution_count": 98
        }
      ]
    },
    {
      "cell_type": "code",
      "source": [
        "S.update({'a','e','i','o','u'})#updates and returns nothing\n",
        "S"
      ],
      "metadata": {
        "colab": {
          "base_uri": "https://localhost:8080/"
        },
        "id": "FwcWTbwNqv2R",
        "outputId": "94c693b7-ce8f-41c5-db1a-029ecbe77372"
      },
      "execution_count": null,
      "outputs": [
        {
          "output_type": "execute_result",
          "data": {
            "text/plain": [
              "{1, 3, 5, 7, 9, 'a', 'b', 'e', 'i', 'o', 'u'}"
            ]
          },
          "metadata": {},
          "execution_count": 100
        }
      ]
    },
    {
      "cell_type": "code",
      "source": [
        "#BUILTIN METHODS FOR DICTIONARY\n",
        "D={'1':'a','2':'b','3':'c','4':'d','5':'e'}\n",
        "D1=D.copy()"
      ],
      "metadata": {
        "id": "Tqrd-hmdLXbC"
      },
      "execution_count": null,
      "outputs": []
    },
    {
      "cell_type": "code",
      "source": [
        "D1.clear()\n",
        "D1"
      ],
      "metadata": {
        "colab": {
          "base_uri": "https://localhost:8080/"
        },
        "id": "uTMMNWJ9NZGT",
        "outputId": "f3696d83-8666-4c2d-a748-0258a0ba62d1"
      },
      "execution_count": null,
      "outputs": [
        {
          "output_type": "execute_result",
          "data": {
            "text/plain": [
              "{}"
            ]
          },
          "metadata": {},
          "execution_count": 9
        }
      ]
    },
    {
      "cell_type": "code",
      "source": [
        "D.get(1)\n"
      ],
      "metadata": {
        "colab": {
          "base_uri": "https://localhost:8080/",
          "height": 36
        },
        "id": "APQMdl8NNlCc",
        "outputId": "b3fccea3-b5a8-414f-8b36-01db5e63698a"
      },
      "execution_count": null,
      "outputs": [
        {
          "output_type": "execute_result",
          "data": {
            "text/plain": [
              "'a'"
            ],
            "application/vnd.google.colaboratory.intrinsic+json": {
              "type": "string"
            }
          },
          "metadata": {},
          "execution_count": 15
        }
      ]
    },
    {
      "cell_type": "code",
      "source": [
        "#D.append() No append() as D is unordered\n",
        "D['6']='b' # if key '6' already exists, it updates the value.\n",
        "D"
      ],
      "metadata": {
        "colab": {
          "base_uri": "https://localhost:8080/"
        },
        "id": "akNqv1cBOCBd",
        "outputId": "d7c2444a-a5a8-46b7-cab0-8d580b2b9a1c"
      },
      "execution_count": null,
      "outputs": [
        {
          "output_type": "execute_result",
          "data": {
            "text/plain": [
              "{'1': 'a', '2': 'b', '3': 'c', '4': 'd', '5': 'e', '6': 'b'}"
            ]
          },
          "metadata": {},
          "execution_count": 20
        }
      ]
    },
    {
      "cell_type": "code",
      "source": [
        "del D['6']\n",
        "D"
      ],
      "metadata": {
        "colab": {
          "base_uri": "https://localhost:8080/"
        },
        "id": "4vn7X1OnO-qF",
        "outputId": "53fd93ab-af90-424c-fe56-07b9a787ebeb"
      },
      "execution_count": null,
      "outputs": [
        {
          "output_type": "execute_result",
          "data": {
            "text/plain": [
              "{'1': 'a', '2': 'b', '3': 'c', '4': 'd', '5': 'e'}"
            ]
          },
          "metadata": {},
          "execution_count": 21
        }
      ]
    },
    {
      "cell_type": "code",
      "source": [
        "D.update({'6':'b','7':'c'})\n",
        "D"
      ],
      "metadata": {
        "colab": {
          "base_uri": "https://localhost:8080/"
        },
        "id": "4OkNxlzRPGEd",
        "outputId": "76479b61-a6f3-4fbf-a739-8bcf8d5cec0a"
      },
      "execution_count": null,
      "outputs": [
        {
          "output_type": "execute_result",
          "data": {
            "text/plain": [
              "{'1': 'a', '2': 'b', '3': 'c', '4': 'd', '5': 'e', '6': 'b', '7': 'c'}"
            ]
          },
          "metadata": {},
          "execution_count": 23
        }
      ]
    },
    {
      "cell_type": "code",
      "source": [
        "D.keys()"
      ],
      "metadata": {
        "colab": {
          "base_uri": "https://localhost:8080/"
        },
        "id": "N9D0JuClPpjs",
        "outputId": "10ab72dc-1298-4410-eedb-4362bd1ece88"
      },
      "execution_count": null,
      "outputs": [
        {
          "output_type": "execute_result",
          "data": {
            "text/plain": [
              "dict_keys(['1', '2', '3', '4', '5', '6', '7'])"
            ]
          },
          "metadata": {},
          "execution_count": 25
        }
      ]
    },
    {
      "cell_type": "code",
      "source": [
        "D.values()"
      ],
      "metadata": {
        "colab": {
          "base_uri": "https://localhost:8080/"
        },
        "id": "vlXw4rNDPiZ3",
        "outputId": "c414f5e9-b703-4561-b323-639b652866ee"
      },
      "execution_count": null,
      "outputs": [
        {
          "output_type": "execute_result",
          "data": {
            "text/plain": [
              "dict_values(['a', 'b', 'c', 'd', 'e', 'b', 'c'])"
            ]
          },
          "metadata": {},
          "execution_count": 24
        }
      ]
    },
    {
      "cell_type": "code",
      "source": [
        "D={'1': 'a', '2': 'b', '3': 'c', '4': 'd', '5': 'e', '6': 'b'}\n",
        "print(D.pop('5'))# removes and returns the value\n",
        "# D.pop('7')#KeyError\n",
        "print(D)"
      ],
      "metadata": {
        "colab": {
          "base_uri": "https://localhost:8080/"
        },
        "id": "NXhIyuLMPzQd",
        "outputId": "24fea220-217f-4f63-9ef0-672d991c4eba"
      },
      "execution_count": null,
      "outputs": [
        {
          "output_type": "stream",
          "name": "stdout",
          "text": [
            "e\n",
            "{'1': 'a', '2': 'b', '3': 'c', '4': 'd', '6': 'b'}\n"
          ]
        }
      ]
    },
    {
      "cell_type": "code",
      "source": [
        "D.popitem()#remove and return an arbitrary (key, value) pair as a tuple."
      ],
      "metadata": {
        "colab": {
          "base_uri": "https://localhost:8080/"
        },
        "id": "o_C-PayoRK8S",
        "outputId": "20e35902-1cd1-4465-b46d-9161ede4656e"
      },
      "execution_count": null,
      "outputs": [
        {
          "output_type": "execute_result",
          "data": {
            "text/plain": [
              "('6', 'b')"
            ]
          },
          "metadata": {},
          "execution_count": 41
        }
      ]
    },
    {
      "cell_type": "code",
      "source": [
        "L=['a','b','c']\n",
        "dict.fromkeys(L,1)#creates a new dictionary with keys from an iterable and assigns the default value to each key.\n",
        "dict.fromkeys(L)#None val is assigned to each key"
      ],
      "metadata": {
        "colab": {
          "base_uri": "https://localhost:8080/"
        },
        "id": "YEDD8znWR6w8",
        "outputId": "df659d29-6ab7-40aa-a32d-ce8afeaef707"
      },
      "execution_count": null,
      "outputs": [
        {
          "output_type": "execute_result",
          "data": {
            "text/plain": [
              "{'a': None, 'b': None, 'c': None}"
            ]
          },
          "metadata": {},
          "execution_count": 45
        }
      ]
    },
    {
      "cell_type": "code",
      "source": [
        "D={'a':1,'b':2}\n",
        "print(D.setdefault('c', 3)) # returns a value associated with a given key and updates the D.\n",
        "D\n",
        "#D.setdefault('b', 3)# If the key is present in the dictionary, it returns the original value."
      ],
      "metadata": {
        "colab": {
          "base_uri": "https://localhost:8080/"
        },
        "id": "ygdKdRlgTbfn",
        "outputId": "5aab06fb-27a6-4336-eeec-c5c60bbdaf5b"
      },
      "execution_count": null,
      "outputs": [
        {
          "output_type": "stream",
          "name": "stdout",
          "text": [
            "3\n"
          ]
        },
        {
          "output_type": "execute_result",
          "data": {
            "text/plain": [
              "{'a': 1, 'b': 2, 'c': 3}"
            ]
          },
          "metadata": {},
          "execution_count": 51
        }
      ]
    },
    {
      "cell_type": "code",
      "source": [
        "# POSITIVE AND NEGATIVE INDEXING IN L AND T(slicing list=creates a new copy but not in np)\n",
        "l=[0,1,2,3,4,5,6,7,8,9]\n",
        "print(l[::])\n",
        "print(l[:5:2])\n",
        "print(l[::-1])\n",
        "print(l[-1:-11:-1])\n",
        "print(l[-1:-(len(l)+1):-1])#default index\n",
        "print(l[-6::-1])\n",
        "print(l[-6:-8:-1])\n",
        "print(l[-len(l)])#accesses ele at -10 index\n"
      ],
      "metadata": {
        "colab": {
          "base_uri": "https://localhost:8080/"
        },
        "id": "YOCQe-4ezrda",
        "outputId": "e1356c4e-716b-40b6-e7ea-3337b077d5b5"
      },
      "execution_count": null,
      "outputs": [
        {
          "output_type": "stream",
          "name": "stdout",
          "text": [
            "[0, 1, 2, 3, 4, 5, 6, 7, 8, 9]\n",
            "[0, 2, 4]\n",
            "[9, 8, 7, 6, 5, 4, 3, 2, 1, 0]\n",
            "[9, 8, 7, 6, 5, 4, 3, 2, 1, 0]\n",
            "[9, 8, 7, 6, 5, 4, 3, 2, 1, 0]\n",
            "[4, 3, 2, 1, 0]\n",
            "[4, 3]\n",
            "0\n"
          ]
        }
      ]
    },
    {
      "cell_type": "code",
      "source": [
        "l=[0,1,2,3,4,5,6,7,8,9]\n",
        "# POSITIVE SLICING\n",
        "# 1. positive indexing\n",
        "print(l[1::2])\n",
        "# 2. negative indexing\n",
        "print(l[-6::2])\n",
        "\n",
        "# NEGATIVE SLICING\n",
        "# 1.negative indexing\n",
        "print(l[-1:-4:-1])\n",
        "# 2. positive indexing\n",
        "print(l[4:1:-1])# 5th to 3rd index in reverse\n",
        "print(l[:2:-1])# last to 4th index in reverse."
      ],
      "metadata": {
        "colab": {
          "base_uri": "https://localhost:8080/"
        },
        "id": "Q7_KtDXN9ojg",
        "outputId": "51df3169-1416-437f-ab59-a67652556691"
      },
      "execution_count": null,
      "outputs": [
        {
          "output_type": "stream",
          "name": "stdout",
          "text": [
            "[1, 3, 5, 7, 9]\n",
            "[4, 6, 8]\n",
            "[9, 8, 7]\n",
            "[4, 3, 2]\n",
            "[9, 8, 7, 6, 5, 4, 3]\n"
          ]
        }
      ]
    },
    {
      "cell_type": "code",
      "source": [
        "# RANDOM MODULE\n",
        "import random\n",
        "random_number = random.randint(1, 10)# returns random integer between a and b.\n",
        "print(random_number)"
      ],
      "metadata": {
        "colab": {
          "base_uri": "https://localhost:8080/"
        },
        "id": "R5QsE_69I--Y",
        "outputId": "c3094950-422c-419c-9abe-b862c5bde37f"
      },
      "execution_count": null,
      "outputs": [
        {
          "output_type": "stream",
          "name": "stdout",
          "text": [
            "7\n"
          ]
        }
      ]
    },
    {
      "cell_type": "code",
      "source": [
        "import random\n",
        "random_number = random.random()# returns random float between 0 & 1\n",
        "print(random_number)"
      ],
      "metadata": {
        "id": "qz_CQUpFJTPt"
      },
      "execution_count": null,
      "outputs": []
    },
    {
      "cell_type": "code",
      "source": [
        "import random\n",
        "random_float = random.uniform(1.5, 5.5)## returns random float between a & b\n",
        "print(random_float)"
      ],
      "metadata": {
        "id": "UG4j0w3kJ8VT"
      },
      "execution_count": null,
      "outputs": []
    },
    {
      "cell_type": "code",
      "source": [
        "import random\n",
        "my_list = [1, 2, 3, 4, 5]\n",
        "random_choice = random.choice(my_list)#returns random no from the list\n",
        "print(random_choice)"
      ],
      "metadata": {
        "id": "u8PfBfKCKICb"
      },
      "execution_count": null,
      "outputs": []
    },
    {
      "cell_type": "code",
      "source": [
        "import random\n",
        "my_list = [1, 2, 3, 4, 5]\n",
        "random.shuffle(my_list)# returns the randomly shuffled list.\n",
        "print(my_list)"
      ],
      "metadata": {
        "colab": {
          "base_uri": "https://localhost:8080/"
        },
        "id": "wxcCGrWoKeLE",
        "outputId": "3a975739-f4ef-4724-a521-805969215075"
      },
      "execution_count": null,
      "outputs": [
        {
          "output_type": "stream",
          "name": "stdout",
          "text": [
            "[4, 5, 1, 3, 2]\n"
          ]
        }
      ]
    },
    {
      "cell_type": "code",
      "source": [
        "import random\n",
        "my_list = [1, 2, 3, 4, 5]\n",
        "random_samples = random.sample(my_list, 3)#returns the random sample list with given len\n",
        "print(random_samples)"
      ],
      "metadata": {
        "colab": {
          "base_uri": "https://localhost:8080/"
        },
        "id": "dhYsxD6AK8gT",
        "outputId": "00f3a1ff-eddc-492a-9dd1-0726f2ff115c"
      },
      "execution_count": null,
      "outputs": [
        {
          "output_type": "stream",
          "name": "stdout",
          "text": [
            "[2, 4, 3]\n"
          ]
        }
      ]
    },
    {
      "cell_type": "code",
      "source": [
        "    # MATH MODULES\n",
        "    #math.constants\n",
        "import math\n",
        "print(math.inf)\n",
        "print(math.nan)\n",
        "print(math.pi)\n",
        "print(math.tau)\n",
        "print(math.e)\n",
        "print(math.sin(0))#accepts only radian values\n",
        "print(math.radians(90))\n",
        "print(math.exp(math.log(2)))\n",
        "print(math.ceil(10.1))\n",
        "print(math.floor(10.1))\n",
        "print(math.trunc(10.12))\n",
        "print(math.factorial(10))\n",
        "print(math.gcd(10,15))\n",
        "# Built-in Functions like abs(), min(), max(), round(), sum(), len(),\n",
        "# type(), int(), float(), str(), list(), tuple(), and dict()\n",
        "# are available without importing any module.\n",
        "\n"
      ],
      "metadata": {
        "colab": {
          "base_uri": "https://localhost:8080/"
        },
        "id": "sFkyOIUtLnHw",
        "outputId": "2030f335-8eb7-4ef4-8645-9c80a354a2db"
      },
      "execution_count": null,
      "outputs": [
        {
          "output_type": "stream",
          "name": "stdout",
          "text": [
            "inf\n",
            "nan\n",
            "3.141592653589793\n",
            "6.283185307179586\n",
            "2.718281828459045\n",
            "0.0\n",
            "1.5707963267948966\n",
            "2.0\n",
            "11\n",
            "10\n",
            "10\n",
            "3628800\n",
            "5\n"
          ]
        }
      ]
    },
    {
      "cell_type": "code",
      "source": [
        "#list() method: creates a new list from ite obj\n",
        "l=list()#creates an empty list\n",
        "l=[]#creates an empty list\n",
        "my_tuple = (1, 2, 3)\n",
        "list_from_tuple = list(my_tuple)\n",
        "print(list_from_tuple)\n",
        "\n",
        "my_string = \"hello\"\n",
        "list_from_string = list(my_string)\n",
        "print(list_from_string)\n",
        "\n",
        "my_dict = {'a': 1, 'b': 2}\n",
        "list_from_dict = list(my_dict)\n",
        "print(list_from_dict)  # Output: ['a', 'b']"
      ],
      "metadata": {
        "colab": {
          "base_uri": "https://localhost:8080/"
        },
        "id": "_RspJDQ1i1oh",
        "outputId": "33b4a6f1-6fae-44c5-fd13-7d83b749e57b"
      },
      "execution_count": null,
      "outputs": [
        {
          "output_type": "stream",
          "name": "stdout",
          "text": [
            "[1, 2, 3]\n",
            "['h', 'e', 'l', 'l', 'o']\n",
            "['a', 'b']\n"
          ]
        }
      ]
    },
    {
      "cell_type": "code",
      "source": [
        "#zip(list1,list2,list3): gives a list of tuple combing multiple ite elementwise\n",
        "list1 = [1, 2, 3]\n",
        "list2 = ['a', 'b', 'c']\n",
        "print(list(zip(list1, list2)))"
      ],
      "metadata": {
        "colab": {
          "base_uri": "https://localhost:8080/"
        },
        "id": "sx9OJQiykdyq",
        "outputId": "74466448-7930-4ef0-f7b3-5841104dc6a0"
      },
      "execution_count": null,
      "outputs": [
        {
          "output_type": "stream",
          "name": "stdout",
          "text": [
            "[(1, 'a'), (2, 'b'), (3, 'c')]\n"
          ]
        }
      ]
    },
    {
      "cell_type": "code",
      "source": [
        "#dict() method: creates a new dict from other iterable obj\n",
        "my_dict = dict()# OR my_dict = {}\n",
        "# Creating a dictionary with list of key-value tuple\n",
        "new_dict = dict([('a', 1), ('b', 2), ('c', 3)])\n",
        "print(new_dict)\n"
      ],
      "metadata": {
        "colab": {
          "base_uri": "https://localhost:8080/"
        },
        "id": "2QZD_Owvls0K",
        "outputId": "95dc0cc8-d4dd-469b-848a-cfdfd50d148a"
      },
      "execution_count": null,
      "outputs": [
        {
          "output_type": "stream",
          "name": "stdout",
          "text": [
            "{'a': 1, 'b': 2, 'c': 3}\n"
          ]
        }
      ]
    },
    {
      "cell_type": "code",
      "source": [
        "keys = ['a', 'b', 'c']\n",
        "values = [1, 2, 3]\n",
        "\n",
        "# Creating a dictionary using dictionary comprehension\n",
        "my_dict = {k: v for k, v in zip(keys, values)}\n",
        "print(my_dict)\n"
      ],
      "metadata": {
        "colab": {
          "base_uri": "https://localhost:8080/"
        },
        "id": "lPZQj-EhneWk",
        "outputId": "a7eaddbe-21c2-49ed-b21a-20f1931eac36"
      },
      "execution_count": null,
      "outputs": [
        {
          "output_type": "stream",
          "name": "stdout",
          "text": [
            "{'a': 1, 'b': 2, 'c': 3}\n"
          ]
        }
      ]
    },
    {
      "cell_type": "code",
      "source": [
        "# Creating a dictionary using keyword arguments\n",
        "keyword_dict = dict(a=1, b=2, c=3)\n",
        "print(keyword_dict)  # Output: {'a': 1, 'b': 2, 'c': 3}"
      ],
      "metadata": {
        "colab": {
          "base_uri": "https://localhost:8080/"
        },
        "id": "LeCTEPYLmVWP",
        "outputId": "eb80651e-4413-490c-ab7a-2e48b3afacbb"
      },
      "execution_count": null,
      "outputs": [
        {
          "output_type": "stream",
          "name": "stdout",
          "text": [
            "{'a': 1, 'b': 2, 'c': 3}\n"
          ]
        }
      ]
    },
    {
      "cell_type": "markdown",
      "source": [
        "  "
      ],
      "metadata": {
        "id": "4cwL9AOe9qHx"
      }
    },
    {
      "cell_type": "code",
      "source": [
        "# Python operators: Arithmetic,Assignment,logical,Comparision Operator\n",
        "\n",
        "# Arithmetic Operator\n",
        "a=10\n",
        "b=3\n",
        "print(a+b)\n",
        "print(a-b)\n",
        "print(a*b)\n",
        "print(a/b)\n",
        "print(a//b)# floor division=quotient\n",
        "print(a%b)# modulus= remainder\n",
        "print(a**b)# exponential= power"
      ],
      "metadata": {
        "colab": {
          "base_uri": "https://localhost:8080/"
        },
        "id": "7eVRtpPXEJR6",
        "outputId": "bc78a414-7538-4ac2-8c1b-7187f53b38a9"
      },
      "execution_count": null,
      "outputs": [
        {
          "output_type": "stream",
          "name": "stdout",
          "text": [
            "13\n",
            "7\n",
            "30\n",
            "3.3333333333333335\n",
            "3\n",
            "1\n",
            "1000\n"
          ]
        }
      ]
    },
    {
      "cell_type": "code",
      "source": [
        "# Assignment Operator\n",
        "a=10\n",
        "b=2\n",
        "a+=b\n",
        "print(a)\n",
        "\n",
        "a=10\n",
        "b=2\n",
        "a-=b\n",
        "print(a)\n",
        "\n",
        "a=10\n",
        "b=2\n",
        "a*=b\n",
        "print(a)\n",
        "\n",
        "a=10\n",
        "b=2\n",
        "a/=b\n",
        "print(a)\n",
        "\n",
        "\n",
        "a=10\n",
        "b=2\n",
        "a%=b\n",
        "print(a)\n",
        "\n",
        "a=10\n",
        "b=2\n",
        "a//=b\n",
        "print(a)\n",
        "\n",
        "a=10\n",
        "b=2\n",
        "a**=b\n",
        "print(a)\n",
        "\n"
      ],
      "metadata": {
        "colab": {
          "base_uri": "https://localhost:8080/"
        },
        "id": "6G50GeoDHyde",
        "outputId": "ae3bb4e2-7cd2-4013-9318-772441c4c17d"
      },
      "execution_count": null,
      "outputs": [
        {
          "output_type": "stream",
          "name": "stdout",
          "text": [
            "12\n",
            "8\n",
            "20\n",
            "5.0\n",
            "0\n",
            "5\n",
            "100\n"
          ]
        }
      ]
    },
    {
      "cell_type": "code",
      "source": [
        "# BITWISE AND OPERATOR\n",
        "a=10 #1010\n",
        "b=2 #0010\n",
        "a &= b\n",
        "print(a)# 0010 in binary=2\n",
        "# 1&1=1\n",
        "# 1&0=0\n",
        "# 0&0=0"
      ],
      "metadata": {
        "colab": {
          "base_uri": "https://localhost:8080/"
        },
        "id": "JtWCE4sKpOx5",
        "outputId": "252d03df-15fe-4c6b-dda2-8006292664e1"
      },
      "execution_count": null,
      "outputs": [
        {
          "output_type": "stream",
          "name": "stdout",
          "text": [
            "2\n"
          ]
        }
      ]
    },
    {
      "cell_type": "code",
      "source": [
        "#BITWISE OR OPERATOR\n",
        "a=10\n",
        "b=2\n",
        "a|=b\n",
        "print(a)\n",
        "# 1|1=1\n",
        "# 1|0=1\n",
        "# 0|0=0"
      ],
      "metadata": {
        "colab": {
          "base_uri": "https://localhost:8080/"
        },
        "id": "9FyaPFPRq5E1",
        "outputId": "1379e410-c861-438c-a9ec-ceb125e6daa3"
      },
      "execution_count": null,
      "outputs": [
        {
          "output_type": "stream",
          "name": "stdout",
          "text": [
            "10\n"
          ]
        }
      ]
    },
    {
      "cell_type": "code",
      "source": [
        "#LEFT AND RIGHT SHIFTING OF BINARY\n",
        "#1010 << 2 means shifting 1010 two positions to the left: 101000\n",
        "#1010 >> 2 means shifting 1010 two positions to the right: 10\n",
        "a=1010\n",
        "b=2\n",
        "a>>=b\n",
        "print(a)"
      ],
      "metadata": {
        "colab": {
          "base_uri": "https://localhost:8080/"
        },
        "id": "fJq-j_tdrk2P",
        "outputId": "d413246f-5baa-40be-800d-57c83b51fd21"
      },
      "execution_count": null,
      "outputs": [
        {
          "output_type": "stream",
          "name": "stdout",
          "text": [
            "252\n"
          ]
        }
      ]
    },
    {
      "cell_type": "code",
      "source": [
        "#EXCLUSIVE OR OPERATION\n",
        "a=10\n",
        "b=2\n",
        "a^=b\n",
        "print(a)\n",
        "# 1^1=0\n",
        "# 0^0=0\n",
        "# 0^1=1"
      ],
      "metadata": {
        "colab": {
          "base_uri": "https://localhost:8080/"
        },
        "id": "GznXwp2nuWPK",
        "outputId": "b751e820-fa1c-4520-f47b-71661716ef46"
      },
      "execution_count": null,
      "outputs": [
        {
          "output_type": "stream",
          "name": "stdout",
          "text": [
            "8\n"
          ]
        }
      ]
    },
    {
      "cell_type": "code",
      "source": [
        "#COMPARISION OPERATOR\n",
        "a=10\n",
        "b=5\n",
        "print(a==b)"
      ],
      "metadata": {
        "colab": {
          "base_uri": "https://localhost:8080/"
        },
        "id": "TtEl3FynMBb0",
        "outputId": "c2a698c8-13c7-427f-9b80-ece7d03a9680"
      },
      "execution_count": null,
      "outputs": [
        {
          "output_type": "stream",
          "name": "stdout",
          "text": [
            "False\n"
          ]
        }
      ]
    },
    {
      "cell_type": "code",
      "source": [
        "a=10\n",
        "b=5\n",
        "print(a!=b)"
      ],
      "metadata": {
        "colab": {
          "base_uri": "https://localhost:8080/"
        },
        "id": "6B9ZDE3oMV20",
        "outputId": "0bdbbec6-8f40-4937-f6b4-d48f7c15e777"
      },
      "execution_count": null,
      "outputs": [
        {
          "output_type": "stream",
          "name": "stdout",
          "text": [
            "True\n"
          ]
        }
      ]
    },
    {
      "cell_type": "code",
      "source": [
        "a=10\n",
        "b=5\n",
        "print(a>b)"
      ],
      "metadata": {
        "colab": {
          "base_uri": "https://localhost:8080/"
        },
        "id": "2JB_BIk3MJbd",
        "outputId": "d9940531-a00b-4cb0-9980-af0133d10427"
      },
      "execution_count": null,
      "outputs": [
        {
          "output_type": "stream",
          "name": "stdout",
          "text": [
            "True\n"
          ]
        }
      ]
    },
    {
      "cell_type": "code",
      "source": [
        "a=10\n",
        "b=5\n",
        "print(a<b)"
      ],
      "metadata": {
        "colab": {
          "base_uri": "https://localhost:8080/"
        },
        "id": "ugDuSW1-MMrW",
        "outputId": "bd0ac705-6a82-4d18-a872-e242133b4647"
      },
      "execution_count": null,
      "outputs": [
        {
          "output_type": "stream",
          "name": "stdout",
          "text": [
            "False\n"
          ]
        }
      ]
    },
    {
      "cell_type": "code",
      "source": [
        "a=10\n",
        "b=5\n",
        "print(a<=b)"
      ],
      "metadata": {
        "colab": {
          "base_uri": "https://localhost:8080/"
        },
        "id": "zq1pQBvNMPBk",
        "outputId": "979c83b0-1f0b-4056-89e4-7f81fba38935"
      },
      "execution_count": null,
      "outputs": [
        {
          "output_type": "stream",
          "name": "stdout",
          "text": [
            "False\n"
          ]
        }
      ]
    },
    {
      "cell_type": "code",
      "source": [
        "a=10\n",
        "b=5\n",
        "print(a>=b)"
      ],
      "metadata": {
        "colab": {
          "base_uri": "https://localhost:8080/"
        },
        "id": "zOCAVazGMRNE",
        "outputId": "180a82dc-7771-4ed7-d52d-edda3fbbc3da"
      },
      "execution_count": null,
      "outputs": [
        {
          "output_type": "stream",
          "name": "stdout",
          "text": [
            "True\n"
          ]
        }
      ]
    },
    {
      "cell_type": "code",
      "source": [
        "a=5\n",
        "b=8\n",
        "c=10\n",
        "print(a<b and a<c)\n",
        "print(a<b and c<a)\n",
        "print(b<a and a<c)\n"
      ],
      "metadata": {
        "colab": {
          "base_uri": "https://localhost:8080/"
        },
        "id": "KrRf4T85Mhac",
        "outputId": "e1e4f7b6-7bd1-4f5e-a3e6-723dcb09601b"
      },
      "execution_count": null,
      "outputs": [
        {
          "output_type": "stream",
          "name": "stdout",
          "text": [
            "True\n",
            "False\n",
            "False\n"
          ]
        }
      ]
    },
    {
      "cell_type": "code",
      "source": [
        "a=5\n",
        "b=8\n",
        "c=10\n",
        "print(a<b or a<c)\n",
        "print(a<b or c<a)\n",
        "print(b<a or a<c)\n",
        "print(b<a or c<a)\n"
      ],
      "metadata": {
        "colab": {
          "base_uri": "https://localhost:8080/"
        },
        "id": "n_AbbBKgMt5_",
        "outputId": "cc34559b-911c-4b86-c55a-20e832331f59"
      },
      "execution_count": null,
      "outputs": [
        {
          "output_type": "stream",
          "name": "stdout",
          "text": [
            "True\n",
            "True\n",
            "True\n"
          ]
        }
      ]
    },
    {
      "cell_type": "code",
      "source": [
        "a=5\n",
        "b=8\n",
        "c=10\n",
        "print(not(a<b and a<c))\n"
      ],
      "metadata": {
        "colab": {
          "base_uri": "https://localhost:8080/"
        },
        "id": "N42QLboAMw4b",
        "outputId": "0b711769-f61a-4995-83a3-130bd8dc357d"
      },
      "execution_count": null,
      "outputs": [
        {
          "output_type": "stream",
          "name": "stdout",
          "text": [
            "False\n"
          ]
        }
      ]
    },
    {
      "cell_type": "code",
      "source": [
        "#IF-ELSE CONDITIONS\n",
        "a = 10\n",
        "b = 20\n",
        "\n",
        "if a > b: # False\n",
        "  print('a is greater than b')\n",
        "else:\n",
        "  print('a is not grater than b')"
      ],
      "metadata": {
        "id": "cEV85du7DOuX"
      },
      "execution_count": null,
      "outputs": []
    },
    {
      "cell_type": "code",
      "source": [
        "a = 10\n",
        "b = 20\n",
        "c = 30\n",
        "\n",
        "if (a < b) and (c < a):\n",
        "  print(\"condition is True\")\n",
        "else:\n",
        "  print('print condition is not true')"
      ],
      "metadata": {
        "colab": {
          "base_uri": "https://localhost:8080/"
        },
        "id": "K-grJenjDVn2",
        "outputId": "6accf530-b1e7-41b7-8c38-221135d1280b"
      },
      "execution_count": null,
      "outputs": [
        {
          "output_type": "stream",
          "name": "stdout",
          "text": [
            "condition is True\n"
          ]
        }
      ]
    },
    {
      "cell_type": "code",
      "source": [
        "a = 10\n",
        "b = 20\n",
        "c = 30\n",
        "\n",
        "if (a < b) or (b > c) and (a>c):\n",
        "  print(\"condition is True\")"
      ],
      "metadata": {
        "colab": {
          "base_uri": "https://localhost:8080/"
        },
        "id": "CKUB1FuVDY6C",
        "outputId": "e57245a1-3c05-4576-dcb7-fdebb656f77f"
      },
      "execution_count": null,
      "outputs": [
        {
          "output_type": "stream",
          "name": "stdout",
          "text": [
            "condition is True\n"
          ]
        }
      ]
    },
    {
      "cell_type": "code",
      "source": [
        "a = 10\n",
        "b = 20\n",
        "c = 30\n",
        "\n",
        "if (a < b) and ((b > c) and (a>c)):\n",
        "  print(\"condition is True\")\n",
        "else:\n",
        "  print('the above condition did not meet')"
      ],
      "metadata": {
        "colab": {
          "base_uri": "https://localhost:8080/"
        },
        "id": "qbggVkPhE9YN",
        "outputId": "ce312bde-9718-4033-902d-1d8d4d0b7f3d"
      },
      "execution_count": null,
      "outputs": [
        {
          "output_type": "stream",
          "name": "stdout",
          "text": [
            "the above condition did not meet\n"
          ]
        }
      ]
    },
    {
      "cell_type": "code",
      "source": [
        "a = 10\n",
        "b = 20\n",
        "c = 30\n",
        "\n",
        "if (a > b):\n",
        "  print('b>c')\n",
        "elif (a>c):\n",
        "  print('a>c')\n",
        "elif(b>c):\n",
        "  print('a>c')\n",
        "else:\n",
        "  print('none of the condition is true')\n"
      ],
      "metadata": {
        "colab": {
          "base_uri": "https://localhost:8080/"
        },
        "id": "Y03PtE0qGKEe",
        "outputId": "6569fd8c-a378-415a-cec2-b8fe2392202c"
      },
      "execution_count": null,
      "outputs": [
        {
          "output_type": "stream",
          "name": "stdout",
          "text": [
            "none of the condition is true\n"
          ]
        }
      ]
    },
    {
      "cell_type": "code",
      "source": [
        "age = 70\n",
        "if (age < 21):\n",
        "  print('you are too young to buy a beer')\n",
        "elif (age>=21)and (age<=60):\n",
        "  print('You are an adult, you can buy a beer')\n",
        "elif(age>60) and (age<+80):\n",
        "  print('you are ageing, limit the alcohol consumption!')\n",
        "else:\n",
        "  print('Please, dont drink!')\n",
        "print('This is ourside the loop.')\n"
      ],
      "metadata": {
        "colab": {
          "base_uri": "https://localhost:8080/"
        },
        "id": "OL8UJx5zHLDx",
        "outputId": "7e61013c-5258-4d16-c3fb-e8548ff8a1fe"
      },
      "execution_count": null,
      "outputs": [
        {
          "output_type": "stream",
          "name": "stdout",
          "text": [
            "you are ageing, limit the alcohol consumption!\n",
            "This is ourside the loop.\n"
          ]
        }
      ]
    },
    {
      "cell_type": "code",
      "source": [
        "#NESTED IF CONDITIOINS\n",
        "a = 65\n",
        "if a < 100:\n",
        "  print('a < 100')\n",
        "  if a < 90:\n",
        "    print('a < 90')\n",
        "    if a < 70:\n",
        "      print('a < 70')\n",
        "      if a < 60:\n",
        "        print('a < 60')\n",
        "      else:\n",
        "        print('a>=60')\n",
        "    else:\n",
        "      print('a>=70')\n",
        "  else:\n",
        "    print('a >=90')\n",
        "else:\n",
        "  print('a>= 100')"
      ],
      "metadata": {
        "colab": {
          "base_uri": "https://localhost:8080/"
        },
        "id": "4iLqTXxbIRRa",
        "outputId": "37857ec7-4a63-4e6a-e7c5-4ece93f6c762"
      },
      "execution_count": null,
      "outputs": [
        {
          "output_type": "stream",
          "name": "stdout",
          "text": [
            "a < 100\n",
            "a < 90\n",
            "a < 70\n",
            "a>=60\n"
          ]
        }
      ]
    },
    {
      "cell_type": "code",
      "source": [
        "a =90\n",
        "if a < 100:\n",
        "  print('a < 100')\n",
        "  if a < 85:\n",
        "    print('a < 85')\n",
        "    if a < 70:\n",
        "      print('a < 70')\n",
        "      if a < 55:\n",
        "        print('a < 55')\n",
        "      else:\n",
        "        print('else of a < 55')\n",
        "    else:\n",
        "      print('else of a < 70')\n",
        "  else:\n",
        "    print('else of a < 85')\n",
        "else:\n",
        "  print('else of a < 100')"
      ],
      "metadata": {
        "colab": {
          "base_uri": "https://localhost:8080/"
        },
        "id": "7KZ1WyllKdqc",
        "outputId": "306e0268-b034-4b63-d735-1dd42df50ed9"
      },
      "execution_count": null,
      "outputs": [
        {
          "output_type": "stream",
          "name": "stdout",
          "text": [
            "a < 100\n",
            "else of a < 85\n"
          ]
        }
      ]
    },
    {
      "cell_type": "code",
      "source": [
        "a = 50\n",
        "if a < 100:\n",
        "  print('a < 100')\n",
        "  if a < 85:\n",
        "    print('a < 85')\n",
        "    if a < 70:\n",
        "      print('a < 70')\n",
        "      if a < 55:\n",
        "        print('a < 55')\n",
        "      else:\n",
        "        print('else of a < 55')\n",
        "    else:\n",
        "      print('else of a < 70')\n",
        "  else:\n",
        "    print('else of a < 85')\n",
        "else:\n",
        "  print('else of a < 100')"
      ],
      "metadata": {
        "colab": {
          "base_uri": "https://localhost:8080/"
        },
        "id": "SonrsB1JKvSH",
        "outputId": "9d0b2ec5-6b07-46e2-e859-5a36bd4afd60"
      },
      "execution_count": null,
      "outputs": [
        {
          "output_type": "stream",
          "name": "stdout",
          "text": [
            "a < 100\n",
            "a < 85\n",
            "a < 70\n",
            "a < 55\n"
          ]
        }
      ]
    },
    {
      "cell_type": "code",
      "source": [
        "a = 100\n",
        "if a < 100:\n",
        "  print('a < 100')\n",
        "  if a < 85:\n",
        "    print('a < 85')\n",
        "    if a < 70:\n",
        "      print('a < 70')\n",
        "      if a < 55:\n",
        "        print('a < 55')\n",
        "      else:\n",
        "        print('else of a < 55')\n",
        "    else:\n",
        "      print('else of a < 70')\n",
        "  else:\n",
        "    print('else of a < 85')\n",
        "else:\n",
        "  print('else of a < 100')"
      ],
      "metadata": {
        "colab": {
          "base_uri": "https://localhost:8080/"
        },
        "id": "O_wKTYEhK3ck",
        "outputId": "3a0f4bb7-e812-44bc-e457-ef2c0ce039a5"
      },
      "execution_count": null,
      "outputs": [
        {
          "output_type": "stream",
          "name": "stdout",
          "text": [
            "else of a < 100\n"
          ]
        }
      ]
    },
    {
      "cell_type": "code",
      "source": [
        "#LOOP\n",
        "sum = 0\n",
        "for i in range(1, 101, 1):\n",
        "  sum += i\n",
        "print(sum)"
      ],
      "metadata": {
        "colab": {
          "base_uri": "https://localhost:8080/"
        },
        "id": "gEGHQuNOPM3m",
        "outputId": "b17f9f93-3559-491f-97d4-c26a374cb6b2"
      },
      "execution_count": null,
      "outputs": [
        {
          "output_type": "stream",
          "name": "stdout",
          "text": [
            "5050\n"
          ]
        }
      ]
    },
    {
      "cell_type": "code",
      "source": [
        "sum = 0\n",
        "for i in range(100, 0, -1):\n",
        "  sum += i\n",
        "print(sum)"
      ],
      "metadata": {
        "colab": {
          "base_uri": "https://localhost:8080/"
        },
        "id": "f1KCtDFMQj7J",
        "outputId": "9d5fc79e-d2c2-45d1-dcde-45ffdc1b61f0"
      },
      "execution_count": null,
      "outputs": [
        {
          "output_type": "stream",
          "name": "stdout",
          "text": [
            "5050\n"
          ]
        }
      ]
    },
    {
      "cell_type": "code",
      "source": [
        "i = 1\n",
        "sum = 0\n",
        "\n",
        "while i < 101:\n",
        "  sum += i\n",
        "  i += 1\n",
        "print (sum)"
      ],
      "metadata": {
        "colab": {
          "base_uri": "https://localhost:8080/"
        },
        "id": "VOdTHN7wO1Q1",
        "outputId": "fd244a16-6fb0-4a92-9c45-9a4d4183b059"
      },
      "execution_count": null,
      "outputs": [
        {
          "output_type": "stream",
          "name": "stdout",
          "text": [
            "5050\n"
          ]
        }
      ]
    },
    {
      "cell_type": "code",
      "source": [
        "i = 100\n",
        "sum = 0\n",
        "\n",
        "while i > 0:\n",
        "  sum += i\n",
        "  i -= 1\n",
        "print (sum)"
      ],
      "metadata": {
        "colab": {
          "base_uri": "https://localhost:8080/"
        },
        "id": "dOWYG2zTQd_g",
        "outputId": "8f849f04-af38-457d-e938-374f6d2cdbc0"
      },
      "execution_count": null,
      "outputs": [
        {
          "output_type": "stream",
          "name": "stdout",
          "text": [
            "5050\n"
          ]
        }
      ]
    },
    {
      "cell_type": "code",
      "source": [
        "for i in range(1, 11, 1):\n",
        "    if i%2==0:\n",
        "      print(i, 'is even number')\n",
        "    else:\n",
        "      print(i,\"is odd number\")\n"
      ],
      "metadata": {
        "colab": {
          "base_uri": "https://localhost:8080/"
        },
        "id": "mW-1-eFLUp2h",
        "outputId": "78d1260f-1a3f-4ee4-ce7c-2e8696828483"
      },
      "execution_count": null,
      "outputs": [
        {
          "output_type": "stream",
          "name": "stdout",
          "text": [
            "1 is odd number\n",
            "2 is even number\n",
            "3 is odd number\n",
            "4 is even number\n",
            "5 is odd number\n",
            "6 is even number\n",
            "7 is odd number\n",
            "8 is even number\n",
            "9 is odd number\n",
            "10 is even number\n"
          ]
        }
      ]
    },
    {
      "cell_type": "code",
      "source": [
        "sum=0\n",
        "for i in range(1, 11, 1):\n",
        "  sum+=i\n",
        "  print(sum)\n",
        "else:\n",
        "  print(\"we are in else part\")"
      ],
      "metadata": {
        "colab": {
          "base_uri": "https://localhost:8080/"
        },
        "id": "llL0-sdAWH7v",
        "outputId": "a2058c9c-c458-4fac-9fc3-0a1a182811fe"
      },
      "execution_count": null,
      "outputs": [
        {
          "output_type": "stream",
          "name": "stdout",
          "text": [
            "1\n",
            "3\n",
            "6\n",
            "10\n",
            "15\n",
            "21\n",
            "28\n",
            "36\n",
            "45\n",
            "55\n",
            "we are in else part\n"
          ]
        }
      ]
    },
    {
      "cell_type": "code",
      "source": [
        "i = 10\n",
        "sum = 0\n",
        "while i >5:\n",
        "  sum += i\n",
        "  print(sum)\n",
        "  i -= 1\n",
        "else:\n",
        "  print ('we are in else part')"
      ],
      "metadata": {
        "colab": {
          "base_uri": "https://localhost:8080/"
        },
        "id": "IZtIUemjBK-c",
        "outputId": "0099b50b-a0e5-4494-c789-3cd33b51db86"
      },
      "execution_count": null,
      "outputs": [
        {
          "output_type": "stream",
          "name": "stdout",
          "text": [
            "10\n",
            "19\n",
            "27\n",
            "34\n",
            "40\n",
            "we are in else part\n"
          ]
        }
      ]
    },
    {
      "cell_type": "code",
      "source": [
        "#Nested for loop\n",
        "for i in range(10):\n",
        "  for j in range(20):\n",
        "    print('*', end=' ')# inner loop prints 20 * on the same line with a space inbetween\n",
        "  print('')# adds new line as *s are printed on same line\n",
        "print('Nested for loop is done printing a rectangle')"
      ],
      "metadata": {
        "colab": {
          "base_uri": "https://localhost:8080/"
        },
        "id": "R66HzJAvGxDt",
        "outputId": "634b7ef0-7b87-4d8f-8424-60339b8d4f3d"
      },
      "execution_count": null,
      "outputs": [
        {
          "output_type": "stream",
          "name": "stdout",
          "text": [
            "* * * * * * * * * * * * * * * * * * * * \n",
            "* * * * * * * * * * * * * * * * * * * * \n",
            "* * * * * * * * * * * * * * * * * * * * \n",
            "* * * * * * * * * * * * * * * * * * * * \n",
            "* * * * * * * * * * * * * * * * * * * * \n",
            "* * * * * * * * * * * * * * * * * * * * \n",
            "* * * * * * * * * * * * * * * * * * * * \n",
            "* * * * * * * * * * * * * * * * * * * * \n",
            "* * * * * * * * * * * * * * * * * * * * \n",
            "* * * * * * * * * * * * * * * * * * * * \n"
          ]
        }
      ]
    },
    {
      "cell_type": "code",
      "source": [
        "#print triangle with 10 *\n",
        "for i in range(10):\n",
        "  for j in range(i+1):\n",
        "    print('*' ,end=' ' )\n",
        "  print('')\n",
        "print('Nested for loop is done printing a triangle')"
      ],
      "metadata": {
        "colab": {
          "base_uri": "https://localhost:8080/"
        },
        "id": "fVA8GHkyPcfB",
        "outputId": "4c0e216d-8716-4f71-8c95-30956a416270"
      },
      "execution_count": null,
      "outputs": [
        {
          "output_type": "stream",
          "name": "stdout",
          "text": [
            "* \n",
            "* * \n",
            "* * * \n",
            "* * * * \n",
            "* * * * * \n",
            "* * * * * * \n",
            "* * * * * * * \n",
            "* * * * * * * * \n",
            "* * * * * * * * * \n",
            "* * * * * * * * * * \n",
            "Nested for loop is done printing a triangle\n"
          ]
        }
      ]
    },
    {
      "cell_type": "code",
      "source": [
        "# print pyramid\n",
        "for i in range(10):\n",
        "  for j in range(10-i):\n",
        "    print('',end=' ' )# for i=0, it prints 10 ''\n",
        "  k=0\n",
        "  for k in range(i+1):# for i=0, it prints 1 '*'\n",
        "    print('*' ,end=' ' )\n",
        "  print('')\n",
        "print('Nested for loop is done printing a pyramid')"
      ],
      "metadata": {
        "colab": {
          "base_uri": "https://localhost:8080/"
        },
        "id": "evXCgr8pRoy6",
        "outputId": "d4e735b7-7e6c-4e66-b2b4-5f935488ede3"
      },
      "execution_count": null,
      "outputs": [
        {
          "output_type": "stream",
          "name": "stdout",
          "text": [
            "          * \n",
            "         * * \n",
            "        * * * \n",
            "       * * * * \n",
            "      * * * * * \n",
            "     * * * * * * \n",
            "    * * * * * * * \n",
            "   * * * * * * * * \n",
            "  * * * * * * * * * \n",
            " * * * * * * * * * * \n",
            "Nested for loop is done printing a pyramid\n"
          ]
        }
      ]
    },
    {
      "cell_type": "code",
      "source": [
        "i=0\n",
        "while i<10:\n",
        "  j=0\n",
        "  while j<20:\n",
        "    print('*', end=' ')# prints on the same line with a space\n",
        "    j+=1\n",
        "  print('')\n",
        "  i+=1\n",
        "\n"
      ],
      "metadata": {
        "colab": {
          "base_uri": "https://localhost:8080/"
        },
        "id": "k-Y9ipvqV-7Y",
        "outputId": "a60092cf-9235-4a6d-af15-82ecb1b88423"
      },
      "execution_count": null,
      "outputs": [
        {
          "output_type": "stream",
          "name": "stdout",
          "text": [
            "* * * * * * * * * * * * * * * * * * * * \n",
            "* * * * * * * * * * * * * * * * * * * * \n",
            "* * * * * * * * * * * * * * * * * * * * \n",
            "* * * * * * * * * * * * * * * * * * * * \n",
            "* * * * * * * * * * * * * * * * * * * * \n",
            "* * * * * * * * * * * * * * * * * * * * \n",
            "* * * * * * * * * * * * * * * * * * * * \n",
            "* * * * * * * * * * * * * * * * * * * * \n",
            "* * * * * * * * * * * * * * * * * * * * \n",
            "* * * * * * * * * * * * * * * * * * * * \n"
          ]
        }
      ]
    },
    {
      "cell_type": "code",
      "source": [
        "i=0\n",
        "while i<10:\n",
        "  j=0\n",
        "  while j<i+1:\n",
        "    print('*' ,end=' ' )\n",
        "    j+=1\n",
        "  i+=1\n",
        "  print('')\n"
      ],
      "metadata": {
        "colab": {
          "base_uri": "https://localhost:8080/"
        },
        "id": "C2ExnjAoYGex",
        "outputId": "76b562d2-b819-4a8c-b53b-873239412219"
      },
      "execution_count": null,
      "outputs": [
        {
          "output_type": "stream",
          "name": "stdout",
          "text": [
            "* \n",
            "* * \n",
            "* * * \n",
            "* * * * \n",
            "* * * * * \n",
            "* * * * * * \n",
            "* * * * * * * \n",
            "* * * * * * * * \n",
            "* * * * * * * * * \n",
            "* * * * * * * * * * \n"
          ]
        }
      ]
    },
    {
      "cell_type": "code",
      "source": [
        "i=0\n",
        "while i <10:\n",
        "  j=0\n",
        "  while j< 10-i:\n",
        "    print('',end=' ' )\n",
        "    j+=1\n",
        "  k=0\n",
        "  while k<i+1:\n",
        "    print('*' ,end=' ' )\n",
        "    k+=1\n",
        "  print('')\n",
        "  i+=1\n"
      ],
      "metadata": {
        "colab": {
          "base_uri": "https://localhost:8080/"
        },
        "id": "JJiFYddHYql1",
        "outputId": "16769666-583a-420a-ef4c-4f2f80e5a236"
      },
      "execution_count": null,
      "outputs": [
        {
          "output_type": "stream",
          "name": "stdout",
          "text": [
            "          * \n",
            "         * * \n",
            "        * * * \n",
            "       * * * * \n",
            "      * * * * * \n",
            "     * * * * * * \n",
            "    * * * * * * * \n",
            "   * * * * * * * * \n",
            "  * * * * * * * * * \n",
            " * * * * * * * * * * \n"
          ]
        }
      ]
    },
    {
      "cell_type": "code",
      "source": [
        "for i in range (0,10,1):\n",
        "    for j in range (0,10,1):\n",
        "        print(\"[\",i,'-',j,\"]\",end='')\n",
        "    print()\n"
      ],
      "metadata": {
        "colab": {
          "base_uri": "https://localhost:8080/"
        },
        "id": "bzZZrceHnhvf",
        "outputId": "fc81d88c-b2b9-411c-86a3-95eaaf062474"
      },
      "execution_count": null,
      "outputs": [
        {
          "output_type": "stream",
          "name": "stdout",
          "text": [
            "[ 0 - 0 ][ 0 - 1 ][ 0 - 2 ][ 0 - 3 ][ 0 - 4 ][ 0 - 5 ][ 0 - 6 ][ 0 - 7 ][ 0 - 8 ][ 0 - 9 ]\n",
            "[ 1 - 0 ][ 1 - 1 ][ 1 - 2 ][ 1 - 3 ][ 1 - 4 ][ 1 - 5 ][ 1 - 6 ][ 1 - 7 ][ 1 - 8 ][ 1 - 9 ]\n",
            "[ 2 - 0 ][ 2 - 1 ][ 2 - 2 ][ 2 - 3 ][ 2 - 4 ][ 2 - 5 ][ 2 - 6 ][ 2 - 7 ][ 2 - 8 ][ 2 - 9 ]\n",
            "[ 3 - 0 ][ 3 - 1 ][ 3 - 2 ][ 3 - 3 ][ 3 - 4 ][ 3 - 5 ][ 3 - 6 ][ 3 - 7 ][ 3 - 8 ][ 3 - 9 ]\n",
            "[ 4 - 0 ][ 4 - 1 ][ 4 - 2 ][ 4 - 3 ][ 4 - 4 ][ 4 - 5 ][ 4 - 6 ][ 4 - 7 ][ 4 - 8 ][ 4 - 9 ]\n",
            "[ 5 - 0 ][ 5 - 1 ][ 5 - 2 ][ 5 - 3 ][ 5 - 4 ][ 5 - 5 ][ 5 - 6 ][ 5 - 7 ][ 5 - 8 ][ 5 - 9 ]\n",
            "[ 6 - 0 ][ 6 - 1 ][ 6 - 2 ][ 6 - 3 ][ 6 - 4 ][ 6 - 5 ][ 6 - 6 ][ 6 - 7 ][ 6 - 8 ][ 6 - 9 ]\n",
            "[ 7 - 0 ][ 7 - 1 ][ 7 - 2 ][ 7 - 3 ][ 7 - 4 ][ 7 - 5 ][ 7 - 6 ][ 7 - 7 ][ 7 - 8 ][ 7 - 9 ]\n",
            "[ 8 - 0 ][ 8 - 1 ][ 8 - 2 ][ 8 - 3 ][ 8 - 4 ][ 8 - 5 ][ 8 - 6 ][ 8 - 7 ][ 8 - 8 ][ 8 - 9 ]\n",
            "[ 9 - 0 ][ 9 - 1 ][ 9 - 2 ][ 9 - 3 ][ 9 - 4 ][ 9 - 5 ][ 9 - 6 ][ 9 - 7 ][ 9 - 8 ][ 9 - 9 ]\n"
          ]
        }
      ]
    },
    {
      "cell_type": "code",
      "source": [
        "i=0\n",
        "while i<10:\n",
        "    j=0\n",
        "    while j<10:\n",
        "        print(\"[\",i,'-',j,\"]\",end='')\n",
        "        j+=1\n",
        "    print()\n",
        "    i+=1"
      ],
      "metadata": {
        "colab": {
          "base_uri": "https://localhost:8080/"
        },
        "id": "Bq918ukNoDSS",
        "outputId": "b0c48852-bd85-4684-d7c7-e90c13a56874"
      },
      "execution_count": null,
      "outputs": [
        {
          "output_type": "stream",
          "name": "stdout",
          "text": [
            "[ 0 - 0 ][ 0 - 1 ][ 0 - 2 ][ 0 - 3 ][ 0 - 4 ][ 0 - 5 ][ 0 - 6 ][ 0 - 7 ][ 0 - 8 ][ 0 - 9 ]\n",
            "[ 1 - 0 ][ 1 - 1 ][ 1 - 2 ][ 1 - 3 ][ 1 - 4 ][ 1 - 5 ][ 1 - 6 ][ 1 - 7 ][ 1 - 8 ][ 1 - 9 ]\n",
            "[ 2 - 0 ][ 2 - 1 ][ 2 - 2 ][ 2 - 3 ][ 2 - 4 ][ 2 - 5 ][ 2 - 6 ][ 2 - 7 ][ 2 - 8 ][ 2 - 9 ]\n",
            "[ 3 - 0 ][ 3 - 1 ][ 3 - 2 ][ 3 - 3 ][ 3 - 4 ][ 3 - 5 ][ 3 - 6 ][ 3 - 7 ][ 3 - 8 ][ 3 - 9 ]\n",
            "[ 4 - 0 ][ 4 - 1 ][ 4 - 2 ][ 4 - 3 ][ 4 - 4 ][ 4 - 5 ][ 4 - 6 ][ 4 - 7 ][ 4 - 8 ][ 4 - 9 ]\n",
            "[ 5 - 0 ][ 5 - 1 ][ 5 - 2 ][ 5 - 3 ][ 5 - 4 ][ 5 - 5 ][ 5 - 6 ][ 5 - 7 ][ 5 - 8 ][ 5 - 9 ]\n",
            "[ 6 - 0 ][ 6 - 1 ][ 6 - 2 ][ 6 - 3 ][ 6 - 4 ][ 6 - 5 ][ 6 - 6 ][ 6 - 7 ][ 6 - 8 ][ 6 - 9 ]\n",
            "[ 7 - 0 ][ 7 - 1 ][ 7 - 2 ][ 7 - 3 ][ 7 - 4 ][ 7 - 5 ][ 7 - 6 ][ 7 - 7 ][ 7 - 8 ][ 7 - 9 ]\n",
            "[ 8 - 0 ][ 8 - 1 ][ 8 - 2 ][ 8 - 3 ][ 8 - 4 ][ 8 - 5 ][ 8 - 6 ][ 8 - 7 ][ 8 - 8 ][ 8 - 9 ]\n",
            "[ 9 - 0 ][ 9 - 1 ][ 9 - 2 ][ 9 - 3 ][ 9 - 4 ][ 9 - 5 ][ 9 - 6 ][ 9 - 7 ][ 9 - 8 ][ 9 - 9 ]\n"
          ]
        }
      ]
    },
    {
      "cell_type": "code",
      "source": [
        "#PYTHON BUILT IN FUNCTIONS\n",
        "a=int(input('Enter your marks in Math: '))\n",
        "b=int(input('Enter your marks in Science: '))\n",
        "print(a+b)"
      ],
      "metadata": {
        "colab": {
          "base_uri": "https://localhost:8080/"
        },
        "id": "dxyckxJltA02",
        "outputId": "f95080b6-500b-47f3-fcca-6ac3f5e2afb9"
      },
      "execution_count": null,
      "outputs": [
        {
          "output_type": "stream",
          "name": "stdout",
          "text": [
            "Enter your marks in Math: 100\n",
            "Enter your marks in Science: 90\n",
            "190\n"
          ]
        }
      ]
    },
    {
      "cell_type": "code",
      "source": [
        "a=float(input('Enter your marks in Math: '))\n",
        "b=float(input('Enter your marks in Science: '))\n",
        "print(a+b)"
      ],
      "metadata": {
        "colab": {
          "base_uri": "https://localhost:8080/"
        },
        "id": "v3O8oUu6tS9-",
        "outputId": "55070b0b-1703-4967-f6e9-2d0d4cfddf82"
      },
      "execution_count": null,
      "outputs": [
        {
          "output_type": "stream",
          "name": "stdout",
          "text": [
            "Enter your marks in Math90\n",
            "Enter your marks in Science90\n",
            "180.0\n"
          ]
        }
      ]
    },
    {
      "cell_type": "code",
      "source": [
        "a=complex(input('Enter your marks in Math: '))\n",
        "b=complex(input('Enter your marks in Science: '))\n",
        "print(a+b)"
      ],
      "metadata": {
        "id": "EmiAFVMTtTq2",
        "colab": {
          "base_uri": "https://localhost:8080/"
        },
        "outputId": "39d4a8c3-4930-4a69-f9b1-bdc76f369799"
      },
      "execution_count": null,
      "outputs": [
        {
          "output_type": "stream",
          "name": "stdout",
          "text": [
            "Enter your marks in Math: 2j\n",
            "Enter your marks in Science: 3j\n",
            "5j\n"
          ]
        }
      ]
    },
    {
      "cell_type": "code",
      "source": [
        "a=str(200)\n",
        "print (a)"
      ],
      "metadata": {
        "colab": {
          "base_uri": "https://localhost:8080/"
        },
        "id": "IrJayT2bvjmk",
        "outputId": "ab5c48b8-3de1-4e0e-8d3f-ed6f0479b5e7"
      },
      "execution_count": null,
      "outputs": [
        {
          "output_type": "stream",
          "name": "stdout",
          "text": [
            "200\n"
          ]
        }
      ]
    },
    {
      "cell_type": "code",
      "source": [
        "str1='pushpa'\n",
        "print(list(str1))\n",
        "print(tuple(str1))\n",
        "print(set(str1))"
      ],
      "metadata": {
        "colab": {
          "base_uri": "https://localhost:8080/"
        },
        "id": "FB_2bn83wFRs",
        "outputId": "7641cf1e-e1c7-4a8c-c8c1-687eae082a29"
      },
      "execution_count": null,
      "outputs": [
        {
          "output_type": "stream",
          "name": "stdout",
          "text": [
            "['p', 'u', 's', 'h', 'p', 'a']\n",
            "('p', 'u', 's', 'h', 'p', 'a')\n",
            "{'p', 'u', 'a', 'h', 's'}\n"
          ]
        }
      ]
    },
    {
      "cell_type": "code",
      "source": [
        "list_tup1=[(1,'a'),(2,'b'),(3,'c')]\n",
        "print(dict(list_tup1))"
      ],
      "metadata": {
        "colab": {
          "base_uri": "https://localhost:8080/"
        },
        "id": "w51FdZ2twqQf",
        "outputId": "ce20d3e8-5b65-446d-c0d6-7fa045b3c1e4"
      },
      "execution_count": null,
      "outputs": [
        {
          "output_type": "stream",
          "name": "stdout",
          "text": [
            "{1: 'a', 2: 'b', 3: 'c'}\n"
          ]
        }
      ]
    },
    {
      "cell_type": "code",
      "source": [
        "list_list1=[[1,'a'],[2,'b'],[3,'c']]\n",
        "print(dict(list1))"
      ],
      "metadata": {
        "colab": {
          "base_uri": "https://localhost:8080/"
        },
        "id": "YqeU24buxzjF",
        "outputId": "cf5e38d4-fd56-4d1d-e04d-5a53056c3eab"
      },
      "execution_count": null,
      "outputs": [
        {
          "output_type": "stream",
          "name": "stdout",
          "text": [
            "{1: 'a', 2: 'b', 3: 'c'}\n"
          ]
        }
      ]
    },
    {
      "cell_type": "code",
      "source": [
        "tup_tup1=((1,'a'),(2,'b'),(3,'c'))\n",
        "print(dict(list_tup1))"
      ],
      "metadata": {
        "colab": {
          "base_uri": "https://localhost:8080/"
        },
        "id": "UNk6i-nhw-Z9",
        "outputId": "6e24228f-3d00-4f58-a75d-5ddce45aa637"
      },
      "execution_count": null,
      "outputs": [
        {
          "output_type": "stream",
          "name": "stdout",
          "text": [
            "{1: 'a', 2: 'b', 3: 'c'}\n"
          ]
        }
      ]
    },
    {
      "cell_type": "code",
      "source": [
        "tup_list1=([1,'a'],[2,'b'],[3,'c'])\n",
        "print(dict(tup_list1))"
      ],
      "metadata": {
        "colab": {
          "base_uri": "https://localhost:8080/"
        },
        "id": "Fn9EhiYOx7Bo",
        "outputId": "62e559db-79c0-4c7e-84ae-5f777203f4d9"
      },
      "execution_count": null,
      "outputs": [
        {
          "output_type": "stream",
          "name": "stdout",
          "text": [
            "{1: 'a', 2: 'b', 3: 'c'}\n"
          ]
        }
      ]
    },
    {
      "cell_type": "code",
      "source": [
        "# set_list1={[1,'a'],[2,'b'],[3,'c']}\n",
        "# print(dict(set_list1)) Gives error as  dictionary keys cannot be mutable but list are mutable"
      ],
      "metadata": {
        "id": "k0Urbp34yIz3"
      },
      "execution_count": null,
      "outputs": []
    },
    {
      "cell_type": "code",
      "source": [
        "set_tup1={(1,'a'),(2,'b'),(3,'c')}\n",
        "print(dict(set_tup1))"
      ],
      "metadata": {
        "colab": {
          "base_uri": "https://localhost:8080/"
        },
        "id": "pWuGHW0rxG1_",
        "outputId": "e22f04c4-63b4-4b6a-d2f8-f0183abf8e63"
      },
      "execution_count": null,
      "outputs": [
        {
          "output_type": "stream",
          "name": "stdout",
          "text": [
            "{2: 'b', 1: 'a', 3: 'c'}\n"
          ]
        }
      ]
    },
    {
      "cell_type": "markdown",
      "source": [],
      "metadata": {
        "id": "H9oc1IST1Ukl"
      }
    },
    {
      "cell_type": "code",
      "source": [
        "#NUMBER FORMAT\n",
        "for i in range(0,100,1):\n",
        "    print('Decimal: ',i)#base-10\n",
        "    print('Binary: ',bin(i))# base-2\n",
        "    print('Octa Decimal: ',oct(i))# base-8\n",
        "    print('Hexa Decimal: ',hex(i))#base-16"
      ],
      "metadata": {
        "colab": {
          "base_uri": "https://localhost:8080/"
        },
        "id": "EGGCNwAbw7-i",
        "outputId": "590657a8-d211-41a8-9762-066804578951"
      },
      "execution_count": null,
      "outputs": [
        {
          "output_type": "stream",
          "name": "stdout",
          "text": [
            "Decimal:  0\n",
            "Binary:  0b0\n",
            "Octa Decimal:  0o0\n",
            "Hexa Decimal:  0x0\n",
            "Decimal:  1\n",
            "Binary:  0b1\n",
            "Octa Decimal:  0o1\n",
            "Hexa Decimal:  0x1\n",
            "Decimal:  2\n",
            "Binary:  0b10\n",
            "Octa Decimal:  0o2\n",
            "Hexa Decimal:  0x2\n",
            "Decimal:  3\n",
            "Binary:  0b11\n",
            "Octa Decimal:  0o3\n",
            "Hexa Decimal:  0x3\n",
            "Decimal:  4\n",
            "Binary:  0b100\n",
            "Octa Decimal:  0o4\n",
            "Hexa Decimal:  0x4\n",
            "Decimal:  5\n",
            "Binary:  0b101\n",
            "Octa Decimal:  0o5\n",
            "Hexa Decimal:  0x5\n",
            "Decimal:  6\n",
            "Binary:  0b110\n",
            "Octa Decimal:  0o6\n",
            "Hexa Decimal:  0x6\n",
            "Decimal:  7\n",
            "Binary:  0b111\n",
            "Octa Decimal:  0o7\n",
            "Hexa Decimal:  0x7\n",
            "Decimal:  8\n",
            "Binary:  0b1000\n",
            "Octa Decimal:  0o10\n",
            "Hexa Decimal:  0x8\n",
            "Decimal:  9\n",
            "Binary:  0b1001\n",
            "Octa Decimal:  0o11\n",
            "Hexa Decimal:  0x9\n",
            "Decimal:  10\n",
            "Binary:  0b1010\n",
            "Octa Decimal:  0o12\n",
            "Hexa Decimal:  0xa\n",
            "Decimal:  11\n",
            "Binary:  0b1011\n",
            "Octa Decimal:  0o13\n",
            "Hexa Decimal:  0xb\n",
            "Decimal:  12\n",
            "Binary:  0b1100\n",
            "Octa Decimal:  0o14\n",
            "Hexa Decimal:  0xc\n",
            "Decimal:  13\n",
            "Binary:  0b1101\n",
            "Octa Decimal:  0o15\n",
            "Hexa Decimal:  0xd\n",
            "Decimal:  14\n",
            "Binary:  0b1110\n",
            "Octa Decimal:  0o16\n",
            "Hexa Decimal:  0xe\n",
            "Decimal:  15\n",
            "Binary:  0b1111\n",
            "Octa Decimal:  0o17\n",
            "Hexa Decimal:  0xf\n",
            "Decimal:  16\n",
            "Binary:  0b10000\n",
            "Octa Decimal:  0o20\n",
            "Hexa Decimal:  0x10\n",
            "Decimal:  17\n",
            "Binary:  0b10001\n",
            "Octa Decimal:  0o21\n",
            "Hexa Decimal:  0x11\n",
            "Decimal:  18\n",
            "Binary:  0b10010\n",
            "Octa Decimal:  0o22\n",
            "Hexa Decimal:  0x12\n",
            "Decimal:  19\n",
            "Binary:  0b10011\n",
            "Octa Decimal:  0o23\n",
            "Hexa Decimal:  0x13\n",
            "Decimal:  20\n",
            "Binary:  0b10100\n",
            "Octa Decimal:  0o24\n",
            "Hexa Decimal:  0x14\n",
            "Decimal:  21\n",
            "Binary:  0b10101\n",
            "Octa Decimal:  0o25\n",
            "Hexa Decimal:  0x15\n",
            "Decimal:  22\n",
            "Binary:  0b10110\n",
            "Octa Decimal:  0o26\n",
            "Hexa Decimal:  0x16\n",
            "Decimal:  23\n",
            "Binary:  0b10111\n",
            "Octa Decimal:  0o27\n",
            "Hexa Decimal:  0x17\n",
            "Decimal:  24\n",
            "Binary:  0b11000\n",
            "Octa Decimal:  0o30\n",
            "Hexa Decimal:  0x18\n",
            "Decimal:  25\n",
            "Binary:  0b11001\n",
            "Octa Decimal:  0o31\n",
            "Hexa Decimal:  0x19\n",
            "Decimal:  26\n",
            "Binary:  0b11010\n",
            "Octa Decimal:  0o32\n",
            "Hexa Decimal:  0x1a\n",
            "Decimal:  27\n",
            "Binary:  0b11011\n",
            "Octa Decimal:  0o33\n",
            "Hexa Decimal:  0x1b\n",
            "Decimal:  28\n",
            "Binary:  0b11100\n",
            "Octa Decimal:  0o34\n",
            "Hexa Decimal:  0x1c\n",
            "Decimal:  29\n",
            "Binary:  0b11101\n",
            "Octa Decimal:  0o35\n",
            "Hexa Decimal:  0x1d\n",
            "Decimal:  30\n",
            "Binary:  0b11110\n",
            "Octa Decimal:  0o36\n",
            "Hexa Decimal:  0x1e\n",
            "Decimal:  31\n",
            "Binary:  0b11111\n",
            "Octa Decimal:  0o37\n",
            "Hexa Decimal:  0x1f\n",
            "Decimal:  32\n",
            "Binary:  0b100000\n",
            "Octa Decimal:  0o40\n",
            "Hexa Decimal:  0x20\n",
            "Decimal:  33\n",
            "Binary:  0b100001\n",
            "Octa Decimal:  0o41\n",
            "Hexa Decimal:  0x21\n",
            "Decimal:  34\n",
            "Binary:  0b100010\n",
            "Octa Decimal:  0o42\n",
            "Hexa Decimal:  0x22\n",
            "Decimal:  35\n",
            "Binary:  0b100011\n",
            "Octa Decimal:  0o43\n",
            "Hexa Decimal:  0x23\n",
            "Decimal:  36\n",
            "Binary:  0b100100\n",
            "Octa Decimal:  0o44\n",
            "Hexa Decimal:  0x24\n",
            "Decimal:  37\n",
            "Binary:  0b100101\n",
            "Octa Decimal:  0o45\n",
            "Hexa Decimal:  0x25\n",
            "Decimal:  38\n",
            "Binary:  0b100110\n",
            "Octa Decimal:  0o46\n",
            "Hexa Decimal:  0x26\n",
            "Decimal:  39\n",
            "Binary:  0b100111\n",
            "Octa Decimal:  0o47\n",
            "Hexa Decimal:  0x27\n",
            "Decimal:  40\n",
            "Binary:  0b101000\n",
            "Octa Decimal:  0o50\n",
            "Hexa Decimal:  0x28\n",
            "Decimal:  41\n",
            "Binary:  0b101001\n",
            "Octa Decimal:  0o51\n",
            "Hexa Decimal:  0x29\n",
            "Decimal:  42\n",
            "Binary:  0b101010\n",
            "Octa Decimal:  0o52\n",
            "Hexa Decimal:  0x2a\n",
            "Decimal:  43\n",
            "Binary:  0b101011\n",
            "Octa Decimal:  0o53\n",
            "Hexa Decimal:  0x2b\n",
            "Decimal:  44\n",
            "Binary:  0b101100\n",
            "Octa Decimal:  0o54\n",
            "Hexa Decimal:  0x2c\n",
            "Decimal:  45\n",
            "Binary:  0b101101\n",
            "Octa Decimal:  0o55\n",
            "Hexa Decimal:  0x2d\n",
            "Decimal:  46\n",
            "Binary:  0b101110\n",
            "Octa Decimal:  0o56\n",
            "Hexa Decimal:  0x2e\n",
            "Decimal:  47\n",
            "Binary:  0b101111\n",
            "Octa Decimal:  0o57\n",
            "Hexa Decimal:  0x2f\n",
            "Decimal:  48\n",
            "Binary:  0b110000\n",
            "Octa Decimal:  0o60\n",
            "Hexa Decimal:  0x30\n",
            "Decimal:  49\n",
            "Binary:  0b110001\n",
            "Octa Decimal:  0o61\n",
            "Hexa Decimal:  0x31\n",
            "Decimal:  50\n",
            "Binary:  0b110010\n",
            "Octa Decimal:  0o62\n",
            "Hexa Decimal:  0x32\n",
            "Decimal:  51\n",
            "Binary:  0b110011\n",
            "Octa Decimal:  0o63\n",
            "Hexa Decimal:  0x33\n",
            "Decimal:  52\n",
            "Binary:  0b110100\n",
            "Octa Decimal:  0o64\n",
            "Hexa Decimal:  0x34\n",
            "Decimal:  53\n",
            "Binary:  0b110101\n",
            "Octa Decimal:  0o65\n",
            "Hexa Decimal:  0x35\n",
            "Decimal:  54\n",
            "Binary:  0b110110\n",
            "Octa Decimal:  0o66\n",
            "Hexa Decimal:  0x36\n",
            "Decimal:  55\n",
            "Binary:  0b110111\n",
            "Octa Decimal:  0o67\n",
            "Hexa Decimal:  0x37\n",
            "Decimal:  56\n",
            "Binary:  0b111000\n",
            "Octa Decimal:  0o70\n",
            "Hexa Decimal:  0x38\n",
            "Decimal:  57\n",
            "Binary:  0b111001\n",
            "Octa Decimal:  0o71\n",
            "Hexa Decimal:  0x39\n",
            "Decimal:  58\n",
            "Binary:  0b111010\n",
            "Octa Decimal:  0o72\n",
            "Hexa Decimal:  0x3a\n",
            "Decimal:  59\n",
            "Binary:  0b111011\n",
            "Octa Decimal:  0o73\n",
            "Hexa Decimal:  0x3b\n",
            "Decimal:  60\n",
            "Binary:  0b111100\n",
            "Octa Decimal:  0o74\n",
            "Hexa Decimal:  0x3c\n",
            "Decimal:  61\n",
            "Binary:  0b111101\n",
            "Octa Decimal:  0o75\n",
            "Hexa Decimal:  0x3d\n",
            "Decimal:  62\n",
            "Binary:  0b111110\n",
            "Octa Decimal:  0o76\n",
            "Hexa Decimal:  0x3e\n",
            "Decimal:  63\n",
            "Binary:  0b111111\n",
            "Octa Decimal:  0o77\n",
            "Hexa Decimal:  0x3f\n",
            "Decimal:  64\n",
            "Binary:  0b1000000\n",
            "Octa Decimal:  0o100\n",
            "Hexa Decimal:  0x40\n",
            "Decimal:  65\n",
            "Binary:  0b1000001\n",
            "Octa Decimal:  0o101\n",
            "Hexa Decimal:  0x41\n",
            "Decimal:  66\n",
            "Binary:  0b1000010\n",
            "Octa Decimal:  0o102\n",
            "Hexa Decimal:  0x42\n",
            "Decimal:  67\n",
            "Binary:  0b1000011\n",
            "Octa Decimal:  0o103\n",
            "Hexa Decimal:  0x43\n",
            "Decimal:  68\n",
            "Binary:  0b1000100\n",
            "Octa Decimal:  0o104\n",
            "Hexa Decimal:  0x44\n",
            "Decimal:  69\n",
            "Binary:  0b1000101\n",
            "Octa Decimal:  0o105\n",
            "Hexa Decimal:  0x45\n",
            "Decimal:  70\n",
            "Binary:  0b1000110\n",
            "Octa Decimal:  0o106\n",
            "Hexa Decimal:  0x46\n",
            "Decimal:  71\n",
            "Binary:  0b1000111\n",
            "Octa Decimal:  0o107\n",
            "Hexa Decimal:  0x47\n",
            "Decimal:  72\n",
            "Binary:  0b1001000\n",
            "Octa Decimal:  0o110\n",
            "Hexa Decimal:  0x48\n",
            "Decimal:  73\n",
            "Binary:  0b1001001\n",
            "Octa Decimal:  0o111\n",
            "Hexa Decimal:  0x49\n",
            "Decimal:  74\n",
            "Binary:  0b1001010\n",
            "Octa Decimal:  0o112\n",
            "Hexa Decimal:  0x4a\n",
            "Decimal:  75\n",
            "Binary:  0b1001011\n",
            "Octa Decimal:  0o113\n",
            "Hexa Decimal:  0x4b\n",
            "Decimal:  76\n",
            "Binary:  0b1001100\n",
            "Octa Decimal:  0o114\n",
            "Hexa Decimal:  0x4c\n",
            "Decimal:  77\n",
            "Binary:  0b1001101\n",
            "Octa Decimal:  0o115\n",
            "Hexa Decimal:  0x4d\n",
            "Decimal:  78\n",
            "Binary:  0b1001110\n",
            "Octa Decimal:  0o116\n",
            "Hexa Decimal:  0x4e\n",
            "Decimal:  79\n",
            "Binary:  0b1001111\n",
            "Octa Decimal:  0o117\n",
            "Hexa Decimal:  0x4f\n",
            "Decimal:  80\n",
            "Binary:  0b1010000\n",
            "Octa Decimal:  0o120\n",
            "Hexa Decimal:  0x50\n",
            "Decimal:  81\n",
            "Binary:  0b1010001\n",
            "Octa Decimal:  0o121\n",
            "Hexa Decimal:  0x51\n",
            "Decimal:  82\n",
            "Binary:  0b1010010\n",
            "Octa Decimal:  0o122\n",
            "Hexa Decimal:  0x52\n",
            "Decimal:  83\n",
            "Binary:  0b1010011\n",
            "Octa Decimal:  0o123\n",
            "Hexa Decimal:  0x53\n",
            "Decimal:  84\n",
            "Binary:  0b1010100\n",
            "Octa Decimal:  0o124\n",
            "Hexa Decimal:  0x54\n",
            "Decimal:  85\n",
            "Binary:  0b1010101\n",
            "Octa Decimal:  0o125\n",
            "Hexa Decimal:  0x55\n",
            "Decimal:  86\n",
            "Binary:  0b1010110\n",
            "Octa Decimal:  0o126\n",
            "Hexa Decimal:  0x56\n",
            "Decimal:  87\n",
            "Binary:  0b1010111\n",
            "Octa Decimal:  0o127\n",
            "Hexa Decimal:  0x57\n",
            "Decimal:  88\n",
            "Binary:  0b1011000\n",
            "Octa Decimal:  0o130\n",
            "Hexa Decimal:  0x58\n",
            "Decimal:  89\n",
            "Binary:  0b1011001\n",
            "Octa Decimal:  0o131\n",
            "Hexa Decimal:  0x59\n",
            "Decimal:  90\n",
            "Binary:  0b1011010\n",
            "Octa Decimal:  0o132\n",
            "Hexa Decimal:  0x5a\n",
            "Decimal:  91\n",
            "Binary:  0b1011011\n",
            "Octa Decimal:  0o133\n",
            "Hexa Decimal:  0x5b\n",
            "Decimal:  92\n",
            "Binary:  0b1011100\n",
            "Octa Decimal:  0o134\n",
            "Hexa Decimal:  0x5c\n",
            "Decimal:  93\n",
            "Binary:  0b1011101\n",
            "Octa Decimal:  0o135\n",
            "Hexa Decimal:  0x5d\n",
            "Decimal:  94\n",
            "Binary:  0b1011110\n",
            "Octa Decimal:  0o136\n",
            "Hexa Decimal:  0x5e\n",
            "Decimal:  95\n",
            "Binary:  0b1011111\n",
            "Octa Decimal:  0o137\n",
            "Hexa Decimal:  0x5f\n",
            "Decimal:  96\n",
            "Binary:  0b1100000\n",
            "Octa Decimal:  0o140\n",
            "Hexa Decimal:  0x60\n",
            "Decimal:  97\n",
            "Binary:  0b1100001\n",
            "Octa Decimal:  0o141\n",
            "Hexa Decimal:  0x61\n",
            "Decimal:  98\n",
            "Binary:  0b1100010\n",
            "Octa Decimal:  0o142\n",
            "Hexa Decimal:  0x62\n",
            "Decimal:  99\n",
            "Binary:  0b1100011\n",
            "Octa Decimal:  0o143\n",
            "Hexa Decimal:  0x63\n"
          ]
        }
      ]
    },
    {
      "cell_type": "code",
      "source": [
        "list1=['a','b','c','d']\n",
        "x=iter(list1)\n",
        "print(next(x))\n",
        "print(next(x))\n",
        "print(next(x))\n",
        "print(next(x))\n"
      ],
      "metadata": {
        "colab": {
          "base_uri": "https://localhost:8080/"
        },
        "id": "N04W96kt6SGh",
        "outputId": "64bff61f-969b-41ae-86d3-7c228fae8bc7"
      },
      "execution_count": null,
      "outputs": [
        {
          "output_type": "stream",
          "name": "stdout",
          "text": [
            "a\n",
            "b\n",
            "c\n",
            "d\n"
          ]
        }
      ]
    },
    {
      "cell_type": "code",
      "source": [
        "set1={'a','b','c','d'}\n",
        "it=iter(set1)\n",
        "print(next(it))\n",
        "print(next(it))\n",
        "print(next(it))\n",
        "print(next(it))"
      ],
      "metadata": {
        "colab": {
          "base_uri": "https://localhost:8080/"
        },
        "id": "TA03YnAx6_po",
        "outputId": "e7d23a75-39fd-400f-ef07-31a02be6ec3b"
      },
      "execution_count": null,
      "outputs": [
        {
          "output_type": "stream",
          "name": "stdout",
          "text": [
            "b\n",
            "c\n",
            "a\n",
            "d\n"
          ]
        }
      ]
    },
    {
      "cell_type": "code",
      "source": [
        "str1=\"pushpa\"\n",
        "it=iter(str1)\n",
        "print(next(it))\n",
        "print(next(it))\n",
        "print(next(it))\n",
        "print(next(it))"
      ],
      "metadata": {
        "colab": {
          "base_uri": "https://localhost:8080/"
        },
        "id": "SDVLtvQX7TU-",
        "outputId": "0e1d745e-fc48-4694-b727-e8e24eca5307"
      },
      "execution_count": null,
      "outputs": [
        {
          "output_type": "stream",
          "name": "stdout",
          "text": [
            "p\n",
            "u\n",
            "s\n",
            "h\n"
          ]
        }
      ]
    },
    {
      "cell_type": "code",
      "source": [
        "#Complete Built in functions\n",
        "print(abs(-2))"
      ],
      "metadata": {
        "colab": {
          "base_uri": "https://localhost:8080/"
        },
        "id": "dcnnkniP6mIF",
        "outputId": "2feb2c26-af3f-4706-d159-39665ed17449"
      },
      "execution_count": null,
      "outputs": [
        {
          "output_type": "stream",
          "name": "stdout",
          "text": [
            "2\n"
          ]
        }
      ]
    },
    {
      "cell_type": "code",
      "source": [
        "#aiter(b)\n",
        "import asyncio\n",
        "async def async_iterable():\n",
        "    yield 1\n",
        "    yield 2\n",
        "    yield 3\n",
        "\n",
        "async def iterate():\n",
        "    async for i in async_iterable():\n",
        "        print(i)\n",
        "\n",
        "async def main():\n",
        "    await iterate()\n",
        "\n",
        "# Run the asyncio event loop with the main coroutine\n",
        "if __name__ == \"__main__\":\n",
        "    asyncio.run(main())\n"
      ],
      "metadata": {
        "colab": {
          "base_uri": "https://localhost:8080/",
          "height": 341
        },
        "id": "d8v7l90oCD7e",
        "outputId": "310fb683-5ad2-4456-9765-63ecc76cbe30"
      },
      "execution_count": null,
      "outputs": [
        {
          "output_type": "error",
          "ename": "RuntimeError",
          "evalue": "ignored",
          "traceback": [
            "\u001b[0;31m---------------------------------------------------------------------------\u001b[0m",
            "\u001b[0;31mRuntimeError\u001b[0m                              Traceback (most recent call last)",
            "\u001b[0;32m<ipython-input-12-664e98518123>\u001b[0m in \u001b[0;36m<cell line: 16>\u001b[0;34m()\u001b[0m\n\u001b[1;32m     15\u001b[0m \u001b[0;31m# Run the asyncio event loop with the main coroutine\u001b[0m\u001b[0;34m\u001b[0m\u001b[0;34m\u001b[0m\u001b[0m\n\u001b[1;32m     16\u001b[0m \u001b[0;32mif\u001b[0m \u001b[0m__name__\u001b[0m \u001b[0;34m==\u001b[0m \u001b[0;34m\"__main__\"\u001b[0m\u001b[0;34m:\u001b[0m\u001b[0;34m\u001b[0m\u001b[0;34m\u001b[0m\u001b[0m\n\u001b[0;32m---> 17\u001b[0;31m     \u001b[0masyncio\u001b[0m\u001b[0;34m.\u001b[0m\u001b[0mrun\u001b[0m\u001b[0;34m(\u001b[0m\u001b[0mmain\u001b[0m\u001b[0;34m(\u001b[0m\u001b[0;34m)\u001b[0m\u001b[0;34m)\u001b[0m\u001b[0;34m\u001b[0m\u001b[0;34m\u001b[0m\u001b[0m\n\u001b[0m",
            "\u001b[0;32m/usr/lib/python3.10/asyncio/runners.py\u001b[0m in \u001b[0;36mrun\u001b[0;34m(main, debug)\u001b[0m\n\u001b[1;32m     31\u001b[0m     \"\"\"\n\u001b[1;32m     32\u001b[0m     \u001b[0;32mif\u001b[0m \u001b[0mevents\u001b[0m\u001b[0;34m.\u001b[0m\u001b[0m_get_running_loop\u001b[0m\u001b[0;34m(\u001b[0m\u001b[0;34m)\u001b[0m \u001b[0;32mis\u001b[0m \u001b[0;32mnot\u001b[0m \u001b[0;32mNone\u001b[0m\u001b[0;34m:\u001b[0m\u001b[0;34m\u001b[0m\u001b[0;34m\u001b[0m\u001b[0m\n\u001b[0;32m---> 33\u001b[0;31m         raise RuntimeError(\n\u001b[0m\u001b[1;32m     34\u001b[0m             \"asyncio.run() cannot be called from a running event loop\")\n\u001b[1;32m     35\u001b[0m \u001b[0;34m\u001b[0m\u001b[0m\n",
            "\u001b[0;31mRuntimeError\u001b[0m: asyncio.run() cannot be called from a running event loop"
          ]
        }
      ]
    },
    {
      "cell_type": "code",
      "source": [
        "#anext()\n",
        "async def async_iterator(): # Creating an asynchronous iterable\n",
        "    yield 1\n",
        "    yield 2\n",
        "    yield 3\n",
        "\n",
        "\n",
        "ait = async_iterator().__aiter__() # Creating an asynchronous iterator\n",
        "\n",
        "# Asynchronously getting the next values\n",
        "async def get_values():\n",
        "    try:\n",
        "        while True:\n",
        "            value = await ait.__anext__()  # Using anext() to get the next value\n",
        "            print(value)\n",
        "    except StopAsyncIteration:\n",
        "        print(\"Async iterator finished\")\n",
        "\n",
        "# Running the asynchronous task to get values\n",
        "import asyncio\n",
        "asyncio.run(get_values())\n"
      ],
      "metadata": {
        "colab": {
          "base_uri": "https://localhost:8080/",
          "height": 341
        },
        "id": "_amNTQrTjRp9",
        "outputId": "8767bb53-abec-437a-9e14-ee1b082da563"
      },
      "execution_count": null,
      "outputs": [
        {
          "output_type": "error",
          "ename": "RuntimeError",
          "evalue": "ignored",
          "traceback": [
            "\u001b[0;31m---------------------------------------------------------------------------\u001b[0m",
            "\u001b[0;31mRuntimeError\u001b[0m                              Traceback (most recent call last)",
            "\u001b[0;32m<ipython-input-5-963efa71c1a4>\u001b[0m in \u001b[0;36m<cell line: 21>\u001b[0;34m()\u001b[0m\n\u001b[1;32m     19\u001b[0m \u001b[0;31m# Running the asynchronous task to get values\u001b[0m\u001b[0;34m\u001b[0m\u001b[0;34m\u001b[0m\u001b[0m\n\u001b[1;32m     20\u001b[0m \u001b[0;32mimport\u001b[0m \u001b[0masyncio\u001b[0m\u001b[0;34m\u001b[0m\u001b[0;34m\u001b[0m\u001b[0m\n\u001b[0;32m---> 21\u001b[0;31m \u001b[0masyncio\u001b[0m\u001b[0;34m.\u001b[0m\u001b[0mrun\u001b[0m\u001b[0;34m(\u001b[0m\u001b[0mget_values\u001b[0m\u001b[0;34m(\u001b[0m\u001b[0;34m)\u001b[0m\u001b[0;34m)\u001b[0m\u001b[0;34m\u001b[0m\u001b[0;34m\u001b[0m\u001b[0m\n\u001b[0m",
            "\u001b[0;32m/usr/lib/python3.10/asyncio/runners.py\u001b[0m in \u001b[0;36mrun\u001b[0;34m(main, debug)\u001b[0m\n\u001b[1;32m     31\u001b[0m     \"\"\"\n\u001b[1;32m     32\u001b[0m     \u001b[0;32mif\u001b[0m \u001b[0mevents\u001b[0m\u001b[0;34m.\u001b[0m\u001b[0m_get_running_loop\u001b[0m\u001b[0;34m(\u001b[0m\u001b[0;34m)\u001b[0m \u001b[0;32mis\u001b[0m \u001b[0;32mnot\u001b[0m \u001b[0;32mNone\u001b[0m\u001b[0;34m:\u001b[0m\u001b[0;34m\u001b[0m\u001b[0;34m\u001b[0m\u001b[0m\n\u001b[0;32m---> 33\u001b[0;31m         raise RuntimeError(\n\u001b[0m\u001b[1;32m     34\u001b[0m             \"asyncio.run() cannot be called from a running event loop\")\n\u001b[1;32m     35\u001b[0m \u001b[0;34m\u001b[0m\u001b[0m\n",
            "\u001b[0;31mRuntimeError\u001b[0m: asyncio.run() cannot be called from a running event loop"
          ]
        }
      ]
    },
    {
      "cell_type": "code",
      "source": [
        "#all() Returns True if all elements are True or list is empty\n",
        "print(all([True,True,True]))\n",
        "num=[1,2,3,4]\n",
        "all(i % 2 == 0 for i in num)"
      ],
      "metadata": {
        "colab": {
          "base_uri": "https://localhost:8080/"
        },
        "id": "0S_nIik9h0YG",
        "outputId": "0a40fb25-75c6-4683-f9bd-2b81ea97b15a"
      },
      "execution_count": null,
      "outputs": [
        {
          "output_type": "stream",
          "name": "stdout",
          "text": [
            "True\n"
          ]
        },
        {
          "output_type": "execute_result",
          "data": {
            "text/plain": [
              "False"
            ]
          },
          "metadata": {},
          "execution_count": 4
        }
      ]
    },
    {
      "cell_type": "code",
      "source": [
        "#any() Returns True if any elements are True or False if list is empty\n",
        "print(any([False,False,False]))\n",
        "num=[1,2,3,4]\n",
        "any(i % 2 == 0 for i in num)"
      ],
      "metadata": {
        "colab": {
          "base_uri": "https://localhost:8080/"
        },
        "id": "0aOXS_52kZm0",
        "outputId": "c46474dd-dcb0-4101-f5d9-48fa69106726"
      },
      "execution_count": null,
      "outputs": [
        {
          "output_type": "stream",
          "name": "stdout",
          "text": [
            "False\n"
          ]
        },
        {
          "output_type": "execute_result",
          "data": {
            "text/plain": [
              "True"
            ]
          },
          "metadata": {},
          "execution_count": 8
        }
      ]
    },
    {
      "cell_type": "code",
      "source": [
        "# ASCII Characters:\n",
        "# Letters: A-Z, a-z\n",
        "# Numbers: 0-9\n",
        "# Punctuation: !@#$%^&*()_+-=[]{}|;':\",./<>?\n",
        "# ASCII characters\n",
        "ascii_str = 'Hello, this is an example with ASCII characters: !@#$%^&*()_+-=[]{}|;\\'\":,./<>?'\n",
        "print(ascii(ascii_str))# returns only the string containing a printable obj\n"
      ],
      "metadata": {
        "id": "td7n80VJlbCm"
      },
      "execution_count": null,
      "outputs": []
    },
    {
      "cell_type": "code",
      "source": [
        "# bin () converts and returns a binary no\n",
        "bin(5)"
      ],
      "metadata": {
        "colab": {
          "base_uri": "https://localhost:8080/",
          "height": 36
        },
        "id": "so_RcqmlLd7O",
        "outputId": "b2228e12-ad01-4e0d-ed47-7f5a7635b623"
      },
      "execution_count": null,
      "outputs": [
        {
          "output_type": "execute_result",
          "data": {
            "text/plain": [
              "'0b101'"
            ],
            "application/vnd.google.colaboratory.intrinsic+json": {
              "type": "string"
            }
          },
          "metadata": {},
          "execution_count": 1
        }
      ]
    },
    {
      "cell_type": "code",
      "source": [
        "#bool()\n",
        "# The bool() function evaluates different types of values and returns True for non-zero numerical values,\n",
        "#  non-empty sequences (like strings, lists, tuples), and any non-None object.\n",
        "#   It returns False for zero values, empty sequences, and None.\n",
        "bool(1)"
      ],
      "metadata": {
        "colab": {
          "base_uri": "https://localhost:8080/"
        },
        "id": "KrkZ19byL5-Z",
        "outputId": "476b6069-dd1c-45c4-c6b3-4878db7a70bb"
      },
      "execution_count": null,
      "outputs": [
        {
          "output_type": "execute_result",
          "data": {
            "text/plain": [
              "True"
            ]
          },
          "metadata": {},
          "execution_count": 2
        }
      ]
    },
    {
      "cell_type": "code",
      "source": [
        "#sets a breakpoint in your Python code for debugging purposes.\n",
        "def some_function():\n",
        "    x = 10\n",
        "    y = 20\n",
        "    z = x + y\n",
        "\n",
        "    # Set a breakpoint here\n",
        "    breakpoint()\n",
        "\n",
        "    print(z)\n",
        "\n",
        "some_function()\n"
      ],
      "metadata": {
        "colab": {
          "base_uri": "https://localhost:8080/"
        },
        "id": "29RsirZTMbRK",
        "outputId": "61d31f2b-0c82-40b0-fde1-9e3f0a2be79e"
      },
      "execution_count": null,
      "outputs": [
        {
          "output_type": "stream",
          "name": "stderr",
          "text": [
            "\n",
            "PYDEV DEBUGGER WARNING:\n",
            "sys.settrace() should not be used when the debugger is being used.\n",
            "This may cause the debugger to stop working correctly.\n",
            "If this is needed, please check: \n",
            "http://pydev.blogspot.com/2007/06/why-cant-pydev-debugger-work-with.html\n",
            "to see how to restore the debug tracing back correctly.\n",
            "Call Location:\n",
            "  File \"/usr/lib/python3.10/bdb.py\", line 336, in set_trace\n",
            "    sys.settrace(self.trace_dispatch)\n",
            "\n"
          ]
        },
        {
          "name": "stdout",
          "output_type": "stream",
          "text": [
            "> \u001b[0;32m<ipython-input-3-7da279b68f93>\u001b[0m(10)\u001b[0;36msome_function\u001b[0;34m()\u001b[0m\n",
            "\u001b[0;32m      8 \u001b[0;31m    \u001b[0mbreakpoint\u001b[0m\u001b[0;34m(\u001b[0m\u001b[0;34m)\u001b[0m\u001b[0;34m\u001b[0m\u001b[0;34m\u001b[0m\u001b[0m\n",
            "\u001b[0m\u001b[0;32m      9 \u001b[0;31m\u001b[0;34m\u001b[0m\u001b[0m\n",
            "\u001b[0m\u001b[0;32m---> 10 \u001b[0;31m    \u001b[0mprint\u001b[0m\u001b[0;34m(\u001b[0m\u001b[0mz\u001b[0m\u001b[0;34m)\u001b[0m\u001b[0;34m\u001b[0m\u001b[0;34m\u001b[0m\u001b[0m\n",
            "\u001b[0m\u001b[0;32m     11 \u001b[0;31m\u001b[0;34m\u001b[0m\u001b[0m\n",
            "\u001b[0m\u001b[0;32m     12 \u001b[0;31m\u001b[0msome_function\u001b[0m\u001b[0;34m(\u001b[0m\u001b[0;34m)\u001b[0m\u001b[0;34m\u001b[0m\u001b[0;34m\u001b[0m\u001b[0m\n",
            "\u001b[0m\n",
            "ipdb> a\n"
          ]
        },
        {
          "output_type": "stream",
          "name": "stderr",
          "text": [
            "\n",
            "PYDEV DEBUGGER WARNING:\n",
            "sys.settrace() should not be used when the debugger is being used.\n",
            "This may cause the debugger to stop working correctly.\n",
            "If this is needed, please check: \n",
            "http://pydev.blogspot.com/2007/06/why-cant-pydev-debugger-work-with.html\n",
            "to see how to restore the debug tracing back correctly.\n",
            "Call Location:\n",
            "  File \"/usr/lib/python3.10/bdb.py\", line 361, in set_quit\n",
            "    sys.settrace(None)\n",
            "\n",
            "\n",
            "PYDEV DEBUGGER WARNING:\n",
            "sys.settrace() should not be used when the debugger is being used.\n",
            "This may cause the debugger to stop working correctly.\n",
            "If this is needed, please check: \n",
            "http://pydev.blogspot.com/2007/06/why-cant-pydev-debugger-work-with.html\n",
            "to see how to restore the debug tracing back correctly.\n",
            "Call Location:\n",
            "  File \"/usr/local/lib/python3.10/dist-packages/IPython/core/debugger.py\", line 1075, in cmdloop\n",
            "    sys.settrace(None)\n",
            "\n"
          ]
        },
        {
          "output_type": "stream",
          "name": "stdout",
          "text": [
            "--KeyboardInterrupt--\n",
            "\n",
            "KeyboardInterrupt: Interrupted by user\n",
            "30\n"
          ]
        }
      ]
    },
    {
      "cell_type": "code",
      "source": [
        "#bytearray() -->creates byte arrays from different types of input data\n",
        "empty_bytearray = bytearray(10)\n",
        "print(empty_bytearray)\n",
        "integers = [65, 66, 67, 68]\n",
        "bytearray_from_list = bytearray(integers)\n",
        "print(bytearray_from_list)\n",
        "# This will raise a TypeError since bytes objects are immutable\n",
        "bytearray_from_list[0] = 69\n",
        "bytearray_from_list\n",
        "\n",
        "#Byte arrays are often used to handle binary data, such as reading\n",
        "# or writing binary files, network communication, or encoding/decoding data."
      ],
      "metadata": {
        "colab": {
          "base_uri": "https://localhost:8080/"
        },
        "id": "LCQN7HfgRCFe",
        "outputId": "16cf6a33-8651-4811-8264-6097e0fac97c"
      },
      "execution_count": null,
      "outputs": [
        {
          "output_type": "stream",
          "name": "stdout",
          "text": [
            "bytearray(b'\\x00\\x00\\x00\\x00\\x00\\x00\\x00\\x00\\x00\\x00')\n",
            "bytearray(b'ABCD')\n"
          ]
        },
        {
          "output_type": "execute_result",
          "data": {
            "text/plain": [
              "bytearray(b'EBCD')"
            ]
          },
          "metadata": {},
          "execution_count": 7
        }
      ]
    },
    {
      "cell_type": "code",
      "source": [
        "#byte() -->creates byte object from different types of input data\n",
        "empty_bytes = bytes(5)  # Create an empty bytes object of size 5\n",
        "print(empty_bytes)\n",
        "integers = [65, 66, 67, 68]\n",
        "bytes_from_list = bytes(integers)\n",
        "print(bytes_from_list)\n",
        "# cant update byte obj as its immutable\n",
        "\n"
      ],
      "metadata": {
        "colab": {
          "base_uri": "https://localhost:8080/"
        },
        "id": "G0_g33YQSD1N",
        "outputId": "eeae3f4b-f176-4e05-9197-8c5342ee216f"
      },
      "execution_count": null,
      "outputs": [
        {
          "output_type": "stream",
          "name": "stdout",
          "text": [
            "b'\\x00\\x00\\x00\\x00\\x00'\n",
            "b'ABCD'\n"
          ]
        }
      ]
    },
    {
      "cell_type": "code",
      "source": [
        "#callable()-->It returns True if the object appears callable (i.e.fun), and False otherwise.\n",
        "print(callable(len))\n",
        "callable(10)"
      ],
      "metadata": {
        "colab": {
          "base_uri": "https://localhost:8080/"
        },
        "id": "FGF20RsITh4m",
        "outputId": "b93d3673-0019-41b8-c1db-bf2e5459c83c"
      },
      "execution_count": null,
      "outputs": [
        {
          "output_type": "stream",
          "name": "stdout",
          "text": [
            "True\n"
          ]
        },
        {
          "output_type": "execute_result",
          "data": {
            "text/plain": [
              "False"
            ]
          },
          "metadata": {},
          "execution_count": 12
        }
      ]
    },
    {
      "cell_type": "code",
      "source": [
        "#chr()--> Unicode character for the specified Unicode code point\n",
        "chr(65)"
      ],
      "metadata": {
        "colab": {
          "base_uri": "https://localhost:8080/",
          "height": 36
        },
        "id": "qYStrZ9QUa-Y",
        "outputId": "33e9354a-fef4-4f97-f6e9-c1fa3fc830bf"
      },
      "execution_count": null,
      "outputs": [
        {
          "output_type": "execute_result",
          "data": {
            "text/plain": [
              "'A'"
            ],
            "application/vnd.google.colaboratory.intrinsic+json": {
              "type": "string"
            }
          },
          "metadata": {},
          "execution_count": 16
        }
      ]
    },
    {
      "cell_type": "code",
      "source": [
        "# @classmethod: It's primarily used  to define a class method within a class.\n",
        "# The method defined using @classmethod receives the class itself (conventionally named cls)\n",
        "#  as the first argument rather than an instance of the class (self).\n",
        "# It can be called on the class itself, and it operates on the class and its attributes, not on instances\n",
        "class MyClass:\n",
        "    class_variable = 10\n",
        "\n",
        "    def __init__(self, value):\n",
        "        self.value = value\n",
        "\n",
        "    @classmethod\n",
        "    def show_class_variable(cls):\n",
        "        print(cls.class_variable)\n",
        "\n",
        "    @classmethod\n",
        "    def change_class_variable(cls, new_value):\n",
        "        cls.class_variable = new_value\n",
        "\n",
        "# Using class methods\n",
        "MyClass.show_class_variable()  # Output: 10\n",
        "\n",
        "MyClass.change_class_variable(20)\n",
        "MyClass.show_class_variable()  # Output: 20"
      ],
      "metadata": {
        "colab": {
          "base_uri": "https://localhost:8080/"
        },
        "id": "-U80nNVlfkqi",
        "outputId": "e0b3bcf2-245e-4543-d62a-5bae1ca1b2c2"
      },
      "execution_count": null,
      "outputs": [
        {
          "output_type": "stream",
          "name": "stdout",
          "text": [
            "10\n",
            "20\n"
          ]
        }
      ]
    },
    {
      "cell_type": "code",
      "source": [
        "#compile()-->execute Python code dynamically at runtime or when you need to work with Python code as a string.\n",
        "source_code = '''\n",
        "def greet(name):\n",
        "    return f\"Hello, {name}!\"\n",
        "\n",
        "result = greet(\"Alice\")\n",
        "print(result)\n",
        "'''\n",
        "\n",
        "compiled_code = compile(source_code, \"<string>\", \"exec\")\n",
        "\n",
        "# Execute the compiled code\n",
        "exec(compiled_code)\n",
        "\n",
        "# source: The Python source code as a string or AST object to be compiled.\n",
        "# filename: A string representing the file from which the code was read. If the code is entered interactively\n",
        "#      or doesn't originate from a file, you can use \" <string>\".\n",
        "# mode: Specifies the kind of code to be compiled. It can be one of the following strings: \"exec\", \"eval\", or \"single\".\n"
      ],
      "metadata": {
        "colab": {
          "base_uri": "https://localhost:8080/"
        },
        "id": "yJ1316_Sf0DM",
        "outputId": "8daaa625-cdbc-439e-e1b7-670a45ab8ed3"
      },
      "execution_count": null,
      "outputs": [
        {
          "output_type": "stream",
          "name": "stdout",
          "text": [
            "Hello, Alice!\n"
          ]
        }
      ]
    },
    {
      "cell_type": "code",
      "source": [
        "complex(3, 4)"
      ],
      "metadata": {
        "colab": {
          "base_uri": "https://localhost:8080/"
        },
        "id": "AiJy1j1qgedB",
        "outputId": "a9c17672-caad-4442-b51b-e46f9cb2efdd"
      },
      "execution_count": null,
      "outputs": [
        {
          "output_type": "execute_result",
          "data": {
            "text/plain": [
              "(3+4j)"
            ]
          },
          "metadata": {},
          "execution_count": 18
        }
      ]
    },
    {
      "cell_type": "code",
      "source": [
        "#delattr(object, attribute_name)\n",
        "class MyClass:\n",
        "    def __init__(self, x):\n",
        "        self.x = x\n",
        "\n",
        "# Creating an instance of MyClass\n",
        "myClass= MyClass(5)\n",
        "\n",
        "# Accessing and printing the attribute\n",
        "print(myClass.x)  # Output: 5\n",
        "\n",
        "# Deleting the attribute using delattr()\n",
        "delattr(myClass, 'x')\n",
        "\n",
        "# Trying to access the deleted attribute (will raise AttributeError)\n",
        "print(myClass.x)\n",
        "# Output (raises AttributeError): AttributeError: 'MyClass' object has no attribute 'x'\n"
      ],
      "metadata": {
        "id": "GaMhd0Vfg2eZ"
      },
      "execution_count": null,
      "outputs": []
    },
    {
      "cell_type": "code",
      "source": [
        "#dir([object])-->returns a list of valid attributes for the given object.\n",
        "class MyClass:\n",
        "    def __init__(self):\n",
        "        self.x = 10\n",
        "        self.y = 20\n",
        "\n",
        "    def method(self):\n",
        "        pass\n",
        "\n",
        "obj = MyClass()\n",
        "\n",
        "# Listing attributes of the object using dir()\n",
        "attributes = dir(obj)\n",
        "print(attributes)\n",
        "\n"
      ],
      "metadata": {
        "colab": {
          "base_uri": "https://localhost:8080/"
        },
        "id": "vNMEqUGqh17R",
        "outputId": "04eaa44a-9808-4764-8d4f-bc6c1b94046d"
      },
      "execution_count": null,
      "outputs": [
        {
          "output_type": "stream",
          "name": "stdout",
          "text": [
            "['__class__', '__delattr__', '__dict__', '__dir__', '__doc__', '__eq__', '__format__', '__ge__', '__getattribute__', '__gt__', '__hash__', '__init__', '__init_subclass__', '__le__', '__lt__', '__module__', '__ne__', '__new__', '__reduce__', '__reduce_ex__', '__repr__', '__setattr__', '__sizeof__', '__str__', '__subclasshook__', '__weakref__', 'method', 'x', 'y']\n"
          ]
        }
      ]
    },
    {
      "cell_type": "code",
      "source": [
        "#divmod()-->returns a tuple containing the quotient and remainder.\n",
        "divmod(20, 7)"
      ],
      "metadata": {
        "colab": {
          "base_uri": "https://localhost:8080/"
        },
        "id": "Rcq8LEH4iUO4",
        "outputId": "98abea70-2f19-42e0-8ed5-d803b3b23e1b"
      },
      "execution_count": null,
      "outputs": [
        {
          "output_type": "execute_result",
          "data": {
            "text/plain": [
              "(2, 6)"
            ]
          },
          "metadata": {},
          "execution_count": 20
        }
      ]
    },
    {
      "cell_type": "code",
      "source": [
        "#enumerate(my_list)--> access both the index and value of elements in an iterable object during iteration\n",
        "my_list = ['apple', 'banana', 'orange']\n",
        "for index, value in enumerate(my_list):\n",
        "    print(f\"Index: {index}, Value: {value}\")\n"
      ],
      "metadata": {
        "colab": {
          "base_uri": "https://localhost:8080/"
        },
        "id": "ydkGnqbqi8CN",
        "outputId": "db987012-723a-4cf0-aaca-83a34c85b09a"
      },
      "execution_count": null,
      "outputs": [
        {
          "output_type": "stream",
          "name": "stdout",
          "text": [
            "Index: 0, Value: apple\n",
            "Index: 1, Value: banana\n",
            "Index: 2, Value: orange\n"
          ]
        },
        {
          "output_type": "execute_result",
          "data": {
            "text/plain": [
              "<enumerate at 0x7ae179e84400>"
            ]
          },
          "metadata": {},
          "execution_count": 22
        }
      ]
    },
    {
      "cell_type": "code",
      "source": [
        "#eval()-->executes the code written in the string within the current scope.\n",
        "x = 10\n",
        "y = 20\n",
        "\n",
        "result = eval('x + y')\n",
        "print(result)  # Output: 30\n",
        "\n",
        "# Using globals and locals\n",
        "globals_dict = {'x': 5, 'y': 8}\n",
        "locals_dict = {}\n",
        "\n",
        "result = eval('x + y', globals_dict, locals_dict)\n",
        "print(result)  # Output: 13\n"
      ],
      "metadata": {
        "colab": {
          "base_uri": "https://localhost:8080/"
        },
        "id": "EUAy2m2Ujm2z",
        "outputId": "4aba1a6f-8ba2-46ca-db5e-21bc3bec7560"
      },
      "execution_count": null,
      "outputs": [
        {
          "output_type": "stream",
          "name": "stdout",
          "text": [
            "30\n",
            "13\n"
          ]
        }
      ]
    },
    {
      "cell_type": "code",
      "source": [
        "#filter(fun, iterable)-->It filters elements based on a specified function and returns an iterator of the elements that satisfy the condition.\n",
        "# Function to check if a number is even\n",
        "def is_even(num):\n",
        "    return num % 2 == 0\n",
        "\n",
        "# List of numbers\n",
        "numbers = [1, 2, 3, 4, 5, 6, 7, 8, 9, 10]\n",
        "\n",
        "# Filtering even numbers using filter()\n",
        "even_numbers = filter(is_even, numbers)\n",
        "\n",
        "print(list(even_numbers))  # Output: [2, 4, 6, 8, 10]\n"
      ],
      "metadata": {
        "colab": {
          "base_uri": "https://localhost:8080/"
        },
        "id": "wiu9CXy-moo1",
        "outputId": "1fc3d409-9421-472d-d707-163d3b07a9f6"
      },
      "execution_count": null,
      "outputs": [
        {
          "output_type": "stream",
          "name": "stdout",
          "text": [
            "[2, 4, 6, 8, 10]\n"
          ]
        }
      ]
    },
    {
      "cell_type": "code",
      "source": [
        "#frozenset(iterable)-->gives the immutable set\n",
        "# Creating a frozenset from a list\n",
        "my_list = [1, 2, 2, 3, 4, 4, 5]\n",
        "frozen = frozenset(my_list)\n",
        "\n",
        "print(frozen)\n",
        "\n",
        "# Operations on frozenset\n",
        "empty_frozen = frozenset()  # Creating an empty frozenset\n",
        "print(empty_frozen)  # Output: frozenset()\n",
        "\n",
        "# Trying to modify a frozenset (results in an AttributeError)\n",
        "# frozen.add(6)  # Raises AttributeError: 'frozenset' object has no attribute 'add'\n"
      ],
      "metadata": {
        "colab": {
          "base_uri": "https://localhost:8080/"
        },
        "id": "bQJaZsJbnKAz",
        "outputId": "7830c813-ae8d-4634-c440-18ec0554b7e1"
      },
      "execution_count": null,
      "outputs": [
        {
          "output_type": "stream",
          "name": "stdout",
          "text": [
            "frozenset({1, 2, 3, 4, 5})\n",
            "frozenset()\n"
          ]
        }
      ]
    },
    {
      "cell_type": "code",
      "source": [
        "# Using frozenset with dictionary\n",
        "data = {'key1': 100, 'key2': 200, 'key3': 300}\n",
        "frozen_keys = frozenset(data.keys())\n",
        "\n",
        "# Using frozen_keys in another set or dictionary\n",
        "other_set = {frozen_keys}\n",
        "print(other_set)  # Output: {frozenset({'key1', 'key2', 'key3'})}\n"
      ],
      "metadata": {
        "colab": {
          "base_uri": "https://localhost:8080/"
        },
        "id": "OIwVCuptoBrA",
        "outputId": "1651b0ff-8f9b-45e7-c280-f7ba2ef2e7f0"
      },
      "execution_count": null,
      "outputs": [
        {
          "output_type": "stream",
          "name": "stdout",
          "text": [
            "{frozenset({'key2', 'key3', 'key1'})}\n"
          ]
        }
      ]
    },
    {
      "cell_type": "code",
      "source": [
        "#PY USER DEFINED FUNCTION\n",
        "def calc(a,b,c):\n",
        "    result=c*(a + b)-a*b/c\n",
        "    return result\n",
        "calc(5,2,2)"
      ],
      "metadata": {
        "colab": {
          "base_uri": "https://localhost:8080/"
        },
        "id": "1In4al-YtML_",
        "outputId": "2c4cab06-22f4-4290-f818-8bb8248665c1"
      },
      "execution_count": 27,
      "outputs": [
        {
          "output_type": "execute_result",
          "data": {
            "text/plain": [
              "9.0"
            ]
          },
          "metadata": {},
          "execution_count": 27
        }
      ]
    },
    {
      "cell_type": "code",
      "source": [
        "def calc1(a,b,c):\n",
        "    r1=(a+b+c)\n",
        "    r2=(a-b-b)\n",
        "    r3=(a*b*c)\n",
        "    r4=(a/b/c)\n",
        "    return {'r1':r1,'r2':r2,'r3':r3,'r4':r4}\n",
        "calc1(5,3,2)"
      ],
      "metadata": {
        "colab": {
          "base_uri": "https://localhost:8080/"
        },
        "id": "14GChwWuwc6p",
        "outputId": "788a5087-831c-4eff-e061-a4e66bb9f5ae"
      },
      "execution_count": 34,
      "outputs": [
        {
          "output_type": "execute_result",
          "data": {
            "text/plain": [
              "{'r1': 10, 'r2': -1, 'r3': 30, 'r4': 0.8333333333333334}"
            ]
          },
          "metadata": {},
          "execution_count": 34
        }
      ]
    },
    {
      "cell_type": "code",
      "source": [
        "def draw_rectangle(w,l):\n",
        "    for i in range(w):\n",
        "        for j in range(l):\n",
        "            print('*', end=' ')\n",
        "        print('')\n",
        "draw_rectangle(5,10)\n",
        "\n"
      ],
      "metadata": {
        "colab": {
          "base_uri": "https://localhost:8080/"
        },
        "id": "MGX4E3Vszdce",
        "outputId": "15a87530-1698-4f02-ce79-e69d8b76f92a"
      },
      "execution_count": 40,
      "outputs": [
        {
          "output_type": "stream",
          "name": "stdout",
          "text": [
            "* * * * * * * * * * \n",
            "* * * * * * * * * * \n",
            "* * * * * * * * * * \n",
            "* * * * * * * * * * \n",
            "* * * * * * * * * * \n"
          ]
        }
      ]
    },
    {
      "cell_type": "code",
      "source": [
        "def draw_triangle(l):\n",
        "    for i in range(l):\n",
        "        for j in range(i):\n",
        "            print('*', end=' ')\n",
        "        print('')\n",
        "draw_triangle(10)"
      ],
      "metadata": {
        "colab": {
          "base_uri": "https://localhost:8080/"
        },
        "id": "BovBFRV41Hul",
        "outputId": "09228320-f4eb-4b87-eb16-3696811b6b1c"
      },
      "execution_count": 41,
      "outputs": [
        {
          "output_type": "stream",
          "name": "stdout",
          "text": [
            "\n",
            "* \n",
            "* * \n",
            "* * * \n",
            "* * * * \n",
            "* * * * * \n",
            "* * * * * * \n",
            "* * * * * * * \n",
            "* * * * * * * * \n",
            "* * * * * * * * * \n"
          ]
        }
      ]
    },
    {
      "cell_type": "code",
      "source": [
        "def draw_pyramid(l):\n",
        "    for i in range(10):\n",
        "        for j in range(10-i):\n",
        "            print('',end=' ' )# for i=0, it prints 10 ''\n",
        "        k=0\n",
        "        for k in range(i+1):# for i=0, it prints 1 '*'\n",
        "            print('*' ,end=' ' )\n",
        "        print('')\n",
        "draw_pyramid(10)"
      ],
      "metadata": {
        "colab": {
          "base_uri": "https://localhost:8080/"
        },
        "id": "FPbSNNJv2EdP",
        "outputId": "d2cc24b5-6c3d-44b2-9ae3-0ec7e18f32d8"
      },
      "execution_count": 46,
      "outputs": [
        {
          "output_type": "stream",
          "name": "stdout",
          "text": [
            "          * \n",
            "         * * \n",
            "        * * * \n",
            "       * * * * \n",
            "      * * * * * \n",
            "     * * * * * * \n",
            "    * * * * * * * \n",
            "   * * * * * * * * \n",
            "  * * * * * * * * * \n",
            " * * * * * * * * * * \n"
          ]
        }
      ]
    },
    {
      "cell_type": "code",
      "source": [
        "def odd_even(a):\n",
        "    if a%2==0:\n",
        "        print('The number',a,'is even')\n",
        "    else:\n",
        "        print('The number', a, 'is odd')\n",
        "odd_even(10)"
      ],
      "metadata": {
        "colab": {
          "base_uri": "https://localhost:8080/"
        },
        "id": "ZhvXWB0w4B3w",
        "outputId": "2eb0a920-dcf9-4f8e-d885-707348cd4597"
      },
      "execution_count": 47,
      "outputs": [
        {
          "output_type": "stream",
          "name": "stdout",
          "text": [
            "The number 10 is even\n"
          ]
        }
      ]
    },
    {
      "cell_type": "code",
      "source": [
        "def eval_grade(n):\n",
        "    if n>=85:\n",
        "        print('You passed with First Class Distinction.')\n",
        "    elif n>=60:\n",
        "        print('You passed with First Class.')\n",
        "    elif n>=40:\n",
        "        print('You passed with Second Class.')\n",
        "    elif n>=35:\n",
        "        print('You passed with Third Class.')\n",
        "    else:\n",
        "        print('Sorry! You failed. Better luck next time!!')\n",
        "eval_grade(87)\n",
        ""
      ],
      "metadata": {
        "colab": {
          "base_uri": "https://localhost:8080/"
        },
        "id": "N3ch0q3o4ezU",
        "outputId": "5abeda0c-e59b-41e2-82aa-c495160a10dd"
      },
      "execution_count": 48,
      "outputs": [
        {
          "output_type": "stream",
          "name": "stdout",
          "text": [
            "You passed with First Class Distinction.\n"
          ]
        }
      ]
    }
  ]
}