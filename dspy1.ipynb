{
  "nbformat": 4,
  "nbformat_minor": 0,
  "metadata": {
    "colab": {
      "provenance": [],
      "authorship_tag": "ABX9TyPk3H9pMoCDQRMzQwXsQZIJ",
      "include_colab_link": true
    },
    "kernelspec": {
      "name": "python3",
      "display_name": "Python 3"
    },
    "language_info": {
      "name": "python"
    }
  },
  "cells": [
    {
      "cell_type": "markdown",
      "metadata": {
        "id": "view-in-github",
        "colab_type": "text"
      },
      "source": [
        "<a href=\"https://colab.research.google.com/github/pxs1990/google_colab_ds/blob/main/dspy1.ipynb\" target=\"_parent\"><img src=\"https://colab.research.google.com/assets/colab-badge.svg\" alt=\"Open In Colab\"/></a>"
      ]
    },
    {
      "cell_type": "code",
      "execution_count": null,
      "metadata": {
        "colab": {
          "base_uri": "https://localhost:8080/"
        },
        "id": "exGleCvUuviW",
        "outputId": "792e4c91-25f3-485f-a330-03a9b7007116"
      },
      "outputs": [
        {
          "output_type": "stream",
          "name": "stdout",
          "text": [
            "Python 3.10.12\n",
            "hello\n"
          ]
        }
      ],
      "source": [
        "#PYTHON COURSE FOR DATA SCIENCE\n",
        "!python --version\n",
        "print(\"hello\")\n"
      ]
    },
    {
      "cell_type": "code",
      "source": [
        "var1='Pushpa'\n",
        "print(var1)\n",
        "print(type(var1))\n",
        "var1=33\n",
        "print(var1)\n",
        "print(type(var1))\n",
        "var1=1.5\n",
        "print(var1)\n",
        "print(type(var1))\n",
        "var1=True\n",
        "print(var1)\n",
        "print(type(var1))\n"
      ],
      "metadata": {
        "colab": {
          "base_uri": "https://localhost:8080/"
        },
        "id": "pB5tIm7UwUDE",
        "outputId": "b3e6fde5-c75f-45f3-ce30-7139f3893ee2"
      },
      "execution_count": null,
      "outputs": [
        {
          "output_type": "stream",
          "name": "stdout",
          "text": [
            "Pushpa\n",
            "<class 'str'>\n",
            "33\n",
            "<class 'int'>\n",
            "1.5\n",
            "<class 'float'>\n",
            "True\n",
            "<class 'bool'>\n"
          ]
        }
      ]
    },
    {
      "cell_type": "code",
      "source": [
        "D2={'1': 7.4, '2': 9.2, '3': 5.2}"
      ],
      "metadata": {
        "colab": {
          "base_uri": "https://localhost:8080/"
        },
        "id": "Obj-UvSE7TTJ",
        "outputId": "5d5e617a-fe3d-4d07-c024-97b3ddc0ed11"
      },
      "execution_count": null,
      "outputs": [
        {
          "output_type": "execute_result",
          "data": {
            "text/plain": [
              "{'1': 7.4, '2': 9.2, '3': 5.2}"
            ]
          },
          "metadata": {},
          "execution_count": 23
        }
      ]
    },
    {
      "cell_type": "code",
      "source": [
        "D2={'1': 7.4, '2': 9.2, '3': 5.2}\n",
        "for k in D2:\n",
        "  print(\"key is \", k+' and '+ \"value is\" ,D2[k])\n"
      ],
      "metadata": {
        "colab": {
          "base_uri": "https://localhost:8080/"
        },
        "id": "typ1_1FQ7kek",
        "outputId": "6a882b7e-88fa-4832-9533-430d37ed1dca"
      },
      "execution_count": null,
      "outputs": [
        {
          "output_type": "stream",
          "name": "stdout",
          "text": [
            "key is  1 and value is 7.4\n",
            "key is  2 and value is 9.2\n",
            "key is  3 and value is 5.2\n"
          ]
        }
      ]
    },
    {
      "cell_type": "code",
      "source": [
        "#DATA TYPES\n",
        "id=235\n",
        "print(id, type(id))\n",
        "distance=3.5\n",
        "print(distance,type(distance))\n",
        "complx=2+3j\n",
        "print(complx,type(complx))\n",
        "isStudent=True\n",
        "print(isStudent,type(isStudent))\n",
        "name='pushpa'\n",
        "print(name,type(name))\n",
        "name=\"pushpa\"\n",
        "print(name,type(name))\n",
        "\n",
        "name='''pushpa'''\n",
        "print(name,type(name))\n",
        "name=\"pushpa\"\n",
        "print(name,type(name))\n",
        "\n",
        "name=\"\"\"pushpa\"\"\"\n",
        "print(name,type(name))"
      ],
      "metadata": {
        "colab": {
          "base_uri": "https://localhost:8080/"
        },
        "id": "8c8kEezyuWJc",
        "outputId": "914cc414-1884-4f32-f7ff-0c64d4074850"
      },
      "execution_count": null,
      "outputs": [
        {
          "output_type": "stream",
          "name": "stdout",
          "text": [
            "235 <class 'int'>\n",
            "3.5 <class 'float'>\n",
            "(2+3j) <class 'complex'>\n",
            "True <class 'bool'>\n",
            "pushpa <class 'str'>\n",
            "pushpa <class 'str'>\n",
            "pushpa <class 'str'>\n",
            "pushpa <class 'str'>\n",
            "pushpa <class 'str'>\n"
          ]
        }
      ]
    },
    {
      "cell_type": "code",
      "source": [
        "st=\"pushpa\"\n",
        "st.capitalize()"
      ],
      "metadata": {
        "colab": {
          "base_uri": "https://localhost:8080/",
          "height": 36
        },
        "id": "aIExHsrVcEHd",
        "outputId": "3f8d58f9-9039-4618-e4fe-ba30bee8812f"
      },
      "execution_count": null,
      "outputs": [
        {
          "output_type": "execute_result",
          "data": {
            "text/plain": [
              "'Pushpa'"
            ],
            "application/vnd.google.colaboratory.intrinsic+json": {
              "type": "string"
            }
          },
          "metadata": {},
          "execution_count": 2
        }
      ]
    },
    {
      "cell_type": "code",
      "source": [
        "st.casefold()# caseless"
      ],
      "metadata": {
        "colab": {
          "base_uri": "https://localhost:8080/",
          "height": 36
        },
        "id": "Lco4FPPmcMOJ",
        "outputId": "2e294e17-0af0-4353-8278-ee1b90b7d601"
      },
      "execution_count": null,
      "outputs": [
        {
          "output_type": "execute_result",
          "data": {
            "text/plain": [
              "'pushpa'"
            ],
            "application/vnd.google.colaboratory.intrinsic+json": {
              "type": "string"
            }
          },
          "metadata": {},
          "execution_count": 50
        }
      ]
    },
    {
      "cell_type": "code",
      "source": [
        "st.center(10,'*')#width>len() and if char is not assigned, it center alligns with space"
      ],
      "metadata": {
        "colab": {
          "base_uri": "https://localhost:8080/",
          "height": 36
        },
        "id": "fGcgs2eWcXDO",
        "outputId": "fca397fb-d8d9-4068-ed59-b8651297db53"
      },
      "execution_count": null,
      "outputs": [
        {
          "output_type": "execute_result",
          "data": {
            "text/plain": [
              "'**pushpa**'"
            ],
            "application/vnd.google.colaboratory.intrinsic+json": {
              "type": "string"
            }
          },
          "metadata": {},
          "execution_count": 6
        }
      ]
    },
    {
      "cell_type": "code",
      "source": [
        "st.ljust(10,'*')"
      ],
      "metadata": {
        "colab": {
          "base_uri": "https://localhost:8080/",
          "height": 36
        },
        "id": "B64KXBYnLJmm",
        "outputId": "fc541b32-58d8-4a18-da06-a81da702d4a8"
      },
      "execution_count": null,
      "outputs": [
        {
          "output_type": "execute_result",
          "data": {
            "text/plain": [
              "'pushpa****'"
            ],
            "application/vnd.google.colaboratory.intrinsic+json": {
              "type": "string"
            }
          },
          "metadata": {},
          "execution_count": 4
        }
      ]
    },
    {
      "cell_type": "code",
      "source": [
        "st.rjust(10,'*')"
      ],
      "metadata": {
        "colab": {
          "base_uri": "https://localhost:8080/",
          "height": 36
        },
        "id": "oydy0mcQLQol",
        "outputId": "a3d9577b-8797-4be6-e30e-b3625ae7a4e5"
      },
      "execution_count": null,
      "outputs": [
        {
          "output_type": "execute_result",
          "data": {
            "text/plain": [
              "'****pushpa'"
            ],
            "application/vnd.google.colaboratory.intrinsic+json": {
              "type": "string"
            }
          },
          "metadata": {},
          "execution_count": 5
        }
      ]
    },
    {
      "cell_type": "code",
      "source": [
        "st.count('a')"
      ],
      "metadata": {
        "colab": {
          "base_uri": "https://localhost:8080/"
        },
        "id": "bKu2LITedktA",
        "outputId": "84a4209e-0bb4-43d5-a61a-baf8e3f4c16b"
      },
      "execution_count": null,
      "outputs": [
        {
          "output_type": "execute_result",
          "data": {
            "text/plain": [
              "1"
            ]
          },
          "metadata": {},
          "execution_count": 6
        }
      ]
    },
    {
      "cell_type": "code",
      "source": [
        "st.encode('ASCII')#converts to byptes"
      ],
      "metadata": {
        "colab": {
          "base_uri": "https://localhost:8080/"
        },
        "id": "XelNTf7rdsP4",
        "outputId": "896036c0-66ed-4cb5-c006-2c291356df38"
      },
      "execution_count": null,
      "outputs": [
        {
          "output_type": "execute_result",
          "data": {
            "text/plain": [
              "b'pushpa'"
            ]
          },
          "metadata": {},
          "execution_count": 7
        }
      ]
    },
    {
      "cell_type": "code",
      "source": [
        "st.endswith('a')#boolean\n",
        "st.startswith('a')"
      ],
      "metadata": {
        "colab": {
          "base_uri": "https://localhost:8080/"
        },
        "id": "a6ZIKHrveQTv",
        "outputId": "6c3121a1-50dc-4958-b9be-9565c8061317"
      },
      "execution_count": null,
      "outputs": [
        {
          "output_type": "execute_result",
          "data": {
            "text/plain": [
              "False"
            ]
          },
          "metadata": {},
          "execution_count": 51
        }
      ]
    },
    {
      "cell_type": "code",
      "source": [
        "st1= \"Hello\\tworld\\twith\\ttabs.\"\n",
        "print(st1)\n",
        "st1.expandtabs()# default tab size is8\n",
        "st1.expandtabs(20)"
      ],
      "metadata": {
        "colab": {
          "base_uri": "https://localhost:8080/",
          "height": 53
        },
        "id": "rnSSd9NxeWnz",
        "outputId": "76bf6153-2ceb-47cb-f51f-e378da1a405f"
      },
      "execution_count": null,
      "outputs": [
        {
          "output_type": "stream",
          "name": "stdout",
          "text": [
            "Hello\tworld\twith\ttabs.\n"
          ]
        },
        {
          "output_type": "execute_result",
          "data": {
            "text/plain": [
              "'Hello               world               with                tabs.'"
            ],
            "application/vnd.google.colaboratory.intrinsic+json": {
              "type": "string"
            }
          },
          "metadata": {},
          "execution_count": 88
        }
      ]
    },
    {
      "cell_type": "code",
      "source": [
        "st=\"pushpa\"\n",
        "st.find('u')# index of first occurence of substr\n",
        "st.find('u',2,5)# index in sliced string\n",
        "st.rfind(\"p\")#indenx of last occurence of substr"
      ],
      "metadata": {
        "colab": {
          "base_uri": "https://localhost:8080/"
        },
        "id": "A2qiSo1CfRwc",
        "outputId": "a08cd7ba-d17f-4b2e-e679-30e732200afb"
      },
      "execution_count": null,
      "outputs": [
        {
          "output_type": "execute_result",
          "data": {
            "text/plain": [
              "4"
            ]
          },
          "metadata": {},
          "execution_count": 29
        }
      ]
    },
    {
      "cell_type": "code",
      "source": [
        "st=\"pushpa\"\n",
        "st.index('p')# first occurence BUT when index not found it gives ValueError\n",
        "st.rindex('p')#last occurence"
      ],
      "metadata": {
        "id": "cFwHxxxkZHm4"
      },
      "execution_count": null,
      "outputs": []
    },
    {
      "cell_type": "code",
      "source": [
        "name=\"pushpa\"\n",
        "age=\"33\"\n",
        "st=\"my name is {} and I am {} years old\"\n",
        "st.format(name,age)#prints formatted str by inserting dynamic values in a placeholder.\n",
        "#print(f\"my name is {name} and I am {age} years old\")"
      ],
      "metadata": {
        "colab": {
          "base_uri": "https://localhost:8080/",
          "height": 36
        },
        "id": "_oqo-Z0XgbuD",
        "outputId": "d4710f83-73c7-4a1d-eb6c-a630506c16c4"
      },
      "execution_count": null,
      "outputs": [
        {
          "output_type": "execute_result",
          "data": {
            "text/plain": [
              "'my name is pushpa and I am 33 years old'"
            ],
            "application/vnd.google.colaboratory.intrinsic+json": {
              "type": "string"
            }
          },
          "metadata": {},
          "execution_count": 1
        }
      ]
    },
    {
      "cell_type": "code",
      "source": [
        "D = {'name': 'Pushpa', 'age': 33}\n",
        "st = \"My name is {name} and I am {age} years old.\"\n",
        "st.format_map(D)\n"
      ],
      "metadata": {
        "id": "3G-B3uKAnSpI",
        "colab": {
          "base_uri": "https://localhost:8080/",
          "height": 36
        },
        "outputId": "5e50b8d8-45b7-41c9-db08-87b3f3493477"
      },
      "execution_count": null,
      "outputs": [
        {
          "output_type": "execute_result",
          "data": {
            "text/plain": [
              "'My name is Pushpa and I am 33 years old.'"
            ],
            "application/vnd.google.colaboratory.intrinsic+json": {
              "type": "string"
            }
          },
          "metadata": {},
          "execution_count": 35
        }
      ]
    },
    {
      "cell_type": "code",
      "source": [
        "st.swapcase()"
      ],
      "metadata": {
        "colab": {
          "base_uri": "https://localhost:8080/",
          "height": 36
        },
        "id": "RfXuWpdJ_Wcx",
        "outputId": "efd48ca9-89e0-4660-9de9-df65025aaa49"
      },
      "execution_count": null,
      "outputs": [
        {
          "output_type": "execute_result",
          "data": {
            "text/plain": [
              "'MY NAME IS {} AND i AM {} YEARS OLD'"
            ],
            "application/vnd.google.colaboratory.intrinsic+json": {
              "type": "string"
            }
          },
          "metadata": {},
          "execution_count": 2
        }
      ]
    },
    {
      "cell_type": "code",
      "source": [
        "st.isalpha()"
      ],
      "metadata": {
        "colab": {
          "base_uri": "https://localhost:8080/"
        },
        "id": "W83g1btXkPqR",
        "outputId": "03eb4473-06fb-4c72-9701-6be986853401"
      },
      "execution_count": null,
      "outputs": [
        {
          "output_type": "execute_result",
          "data": {
            "text/plain": [
              "True"
            ]
          },
          "metadata": {},
          "execution_count": 100
        }
      ]
    },
    {
      "cell_type": "code",
      "source": [
        "#st.isnumeric(),st.isalnum(), st.isascii(), st.isdigit() ,st.isdecimal(), st.islower(),st.isupper()"
      ],
      "metadata": {
        "id": "k3retbtciNZA"
      },
      "execution_count": null,
      "outputs": []
    },
    {
      "cell_type": "code",
      "source": [
        "st.isidentifier()\n",
        "# An identifier is a name used to identify a variable, function, class, module, or other objects in Python.\n",
        "# It must start with a letter (a-z, A-Z) or an underscore (_).\n",
        "# The remaining characters can be letters, underscores, or digits (0-9)."
      ],
      "metadata": {
        "id": "1mxCXAHuiq5f"
      },
      "execution_count": null,
      "outputs": []
    },
    {
      "cell_type": "code",
      "source": [
        "st.istitle()#True each word starts with an uppercase"
      ],
      "metadata": {
        "colab": {
          "base_uri": "https://localhost:8080/"
        },
        "id": "UCP3EAsvjeuD",
        "outputId": "ac85cf29-7247-4ce1-8c0f-d9eed32eae2b"
      },
      "execution_count": null,
      "outputs": [
        {
          "output_type": "execute_result",
          "data": {
            "text/plain": [
              "False"
            ]
          },
          "metadata": {},
          "execution_count": 99
        }
      ]
    },
    {
      "cell_type": "code",
      "source": [
        "st.isprintable()#printable chars are easily displayed and unprintable chars are esc chars"
      ],
      "metadata": {
        "id": "y9CYyloikA76"
      },
      "execution_count": null,
      "outputs": []
    },
    {
      "cell_type": "code",
      "source": [
        "print(', '.join(['a','b','c']))#joins elements from an iterable (like a list, tuple, or string) by joining them together using a specified string separator.\n",
        "print('-'.join(\"pushpa\"))"
      ],
      "metadata": {
        "colab": {
          "base_uri": "https://localhost:8080/"
        },
        "id": "RvnKdZuHlBe2",
        "outputId": "cf3b84c4-999b-4196-cefd-df9482eafd9d"
      },
      "execution_count": null,
      "outputs": [
        {
          "output_type": "stream",
          "name": "stdout",
          "text": [
            "a, b, c\n",
            "p-u-s-h-p-a\n"
          ]
        }
      ]
    },
    {
      "cell_type": "code",
      "source": [
        "trans_table=st.maketrans('aeiou','12345')\n",
        "st.translate(trans_table)"
      ],
      "metadata": {
        "colab": {
          "base_uri": "https://localhost:8080/",
          "height": 36
        },
        "id": "KkZptWrRO1Ku",
        "outputId": "a241e415-2c77-44fe-fc42-b4db12a8736c"
      },
      "execution_count": null,
      "outputs": [
        {
          "output_type": "execute_result",
          "data": {
            "text/plain": [
              "'p5shp1'"
            ],
            "application/vnd.google.colaboratory.intrinsic+json": {
              "type": "string"
            }
          },
          "metadata": {},
          "execution_count": 8
        }
      ]
    },
    {
      "cell_type": "code",
      "source": [
        "st=' Pushpa '\n",
        "st.strip()#st.lstrip() and st.rstrip()"
      ],
      "metadata": {
        "colab": {
          "base_uri": "https://localhost:8080/",
          "height": 36
        },
        "id": "Q7MDpUNGP5hR",
        "outputId": "ea0742be-9c51-4c92-dfaf-06b71d75ee90"
      },
      "execution_count": null,
      "outputs": [
        {
          "output_type": "execute_result",
          "data": {
            "text/plain": [
              "'Pushpa '"
            ],
            "application/vnd.google.colaboratory.intrinsic+json": {
              "type": "string"
            }
          },
          "metadata": {},
          "execution_count": 10
        }
      ]
    },
    {
      "cell_type": "code",
      "source": [
        "#returns a 3 ele tuple, if sep not found, then (st, \"\", \"\")\n",
        "st1=\"hello-pushpa\"\n",
        "st1.partition(\"-\")#(1st, sep, last)\n",
        "#st1.rpartition(\"-\")#(last,set,1st"
      ],
      "metadata": {
        "colab": {
          "base_uri": "https://localhost:8080/"
        },
        "id": "FJu2bGnZRJ_Z",
        "outputId": "e7715b28-14f5-4422-c514-f95fb96ccfea"
      },
      "execution_count": null,
      "outputs": [
        {
          "output_type": "execute_result",
          "data": {
            "text/plain": [
              "('hello', '-', 'pushpa')"
            ]
          },
          "metadata": {},
          "execution_count": 46
        }
      ]
    },
    {
      "cell_type": "code",
      "source": [
        "st2=\"Pushpa\"\n",
        "st2.lower().removeprefix(\"push\")#st.removesuffix()"
      ],
      "metadata": {
        "colab": {
          "base_uri": "https://localhost:8080/",
          "height": 36
        },
        "id": "0WRyX1VkSyFv",
        "outputId": "e258549e-4983-49c1-d643-887d6c384390"
      },
      "execution_count": null,
      "outputs": [
        {
          "output_type": "execute_result",
          "data": {
            "text/plain": [
              "'pa'"
            ],
            "application/vnd.google.colaboratory.intrinsic+json": {
              "type": "string"
            }
          },
          "metadata": {},
          "execution_count": 26
        }
      ]
    },
    {
      "cell_type": "code",
      "source": [
        "st=\"hello Pushpa\"\n",
        "st.replace(\"hello\",\"hi\")"
      ],
      "metadata": {
        "colab": {
          "base_uri": "https://localhost:8080/",
          "height": 36
        },
        "id": "ZeSqiUuqVHZz",
        "outputId": "a641b784-d126-403a-9382-6319bba92b14"
      },
      "execution_count": null,
      "outputs": [
        {
          "output_type": "execute_result",
          "data": {
            "text/plain": [
              "'hi Pushpa'"
            ],
            "application/vnd.google.colaboratory.intrinsic+json": {
              "type": "string"
            }
          },
          "metadata": {},
          "execution_count": 27
        }
      ]
    },
    {
      "cell_type": "code",
      "source": [
        "st=\"p,u,s,h,p,a\"\n",
        "print(st.split(',',2))#splits and returns a list with max 2 split from the let\n",
        "st.rsplit(',',2)# splits and returns a list with max 2 split from the right"
      ],
      "metadata": {
        "colab": {
          "base_uri": "https://localhost:8080/"
        },
        "id": "UBIEwVfFYmwm",
        "outputId": "edd1d50e-67e8-4acc-9718-e28d7d678ab3"
      },
      "execution_count": null,
      "outputs": [
        {
          "output_type": "stream",
          "name": "stdout",
          "text": [
            "['p', 'u', 's,h,p,a']\n"
          ]
        },
        {
          "output_type": "execute_result",
          "data": {
            "text/plain": [
              "['p,u,s,h', 'p', 'a']"
            ]
          },
          "metadata": {},
          "execution_count": 43
        }
      ]
    },
    {
      "cell_type": "code",
      "source": [
        "l=[1,2,'a','b']\n",
        "print(l,type(l))\n",
        "print(l[0])\n",
        "\n",
        "t=(1,2,'a','b')\n",
        "print(t,type(t))\n",
        "print(t[0])\n",
        "\n",
        "s={1,2,0,'a','b',True,False}\n",
        "print(s,type(s))\n",
        "\n",
        "D={'1':'a','2':'b','3':'c','d':'dates','e':'email'}\n",
        "print(D,type(D))\n",
        "D['1']\n"
      ],
      "metadata": {
        "id": "oAANUC3Txyxz",
        "colab": {
          "base_uri": "https://localhost:8080/",
          "height": 140
        },
        "outputId": "b3cc95a6-c31a-4b99-f466-1963c8f7ba01"
      },
      "execution_count": null,
      "outputs": [
        {
          "output_type": "stream",
          "name": "stdout",
          "text": [
            "[1, 2, 'a', 'b'] <class 'list'>\n",
            "1\n",
            "(1, 2, 'a', 'b') <class 'tuple'>\n",
            "1\n",
            "{0, 1, 2, 'a', 'b'} <class 'set'>\n",
            "{'1': 'a', '2': 'b', '3': 'c', 'd': 'dates', 'e': 'email'} <class 'dict'>\n"
          ]
        },
        {
          "output_type": "execute_result",
          "data": {
            "text/plain": [
              "'a'"
            ],
            "application/vnd.google.colaboratory.intrinsic+json": {
              "type": "string"
            }
          },
          "metadata": {},
          "execution_count": 9
        }
      ]
    },
    {
      "cell_type": "code",
      "source": [
        "#BUILTIN FUNCTIONS FOR LIST\n",
        "list1=[1,2,3,'a','b',True,False,1]\n",
        "list1.append('d')#adds at the end\n",
        "print(list1)\n"
      ],
      "metadata": {
        "colab": {
          "base_uri": "https://localhost:8080/"
        },
        "id": "VX5wWF414xEH",
        "outputId": "233f0cec-905f-4b9f-e6e0-cad191dc52c1"
      },
      "execution_count": null,
      "outputs": [
        {
          "output_type": "stream",
          "name": "stdout",
          "text": [
            "[1, 2, 3, 'a', 'b', True, False, 1, 'd']\n"
          ]
        }
      ]
    },
    {
      "cell_type": "code",
      "source": [
        "list1=['a','b','c','d']\n",
        "list1[3]='e'#updates index 3 element\n",
        "list1"
      ],
      "metadata": {
        "colab": {
          "base_uri": "https://localhost:8080/"
        },
        "id": "JVpKNe3sNOq9",
        "outputId": "82a97de9-3deb-43fa-d275-fe3f46c994f9"
      },
      "execution_count": null,
      "outputs": [
        {
          "output_type": "execute_result",
          "data": {
            "text/plain": [
              "['a', 'b', 'c', 'e']"
            ]
          },
          "metadata": {},
          "execution_count": 20
        }
      ]
    },
    {
      "cell_type": "code",
      "source": [
        "list1.extend(['d','e',3,4])\n",
        "print(list1)"
      ],
      "metadata": {
        "colab": {
          "base_uri": "https://localhost:8080/"
        },
        "id": "J8un4qqWMPx7",
        "outputId": "99608635-e5b4-4c61-a74f-f5f211a45296"
      },
      "execution_count": null,
      "outputs": [
        {
          "output_type": "stream",
          "name": "stdout",
          "text": [
            "[1, 2, 3, 'a', 'b', True, False, 1, 'd', 'e', 3, 4]\n"
          ]
        }
      ]
    },
    {
      "cell_type": "code",
      "source": [
        "list1.clear()\n",
        "print(list1)"
      ],
      "metadata": {
        "colab": {
          "base_uri": "https://localhost:8080/"
        },
        "id": "PlX5fdId8fF2",
        "outputId": "f01d63cb-5dd7-4987-c510-2b89d1d0c8a9"
      },
      "execution_count": null,
      "outputs": [
        {
          "output_type": "stream",
          "name": "stdout",
          "text": [
            "[]\n"
          ]
        }
      ]
    },
    {
      "cell_type": "code",
      "source": [
        "list1=[1, 2, 3, 'a', 'b', True, False, 1, 'd']\n",
        "list2=list1.copy()\n",
        "print(list2)"
      ],
      "metadata": {
        "colab": {
          "base_uri": "https://localhost:8080/"
        },
        "id": "Wz5AMuru8lhG",
        "outputId": "5505da45-64da-419f-d75f-3ea9fb3824f2"
      },
      "execution_count": null,
      "outputs": [
        {
          "output_type": "stream",
          "name": "stdout",
          "text": [
            "[1, 2, 3, 'a', 'b', True, False, 1, 'd']\n"
          ]
        }
      ]
    },
    {
      "cell_type": "code",
      "source": [
        "list1.count(1)"
      ],
      "metadata": {
        "colab": {
          "base_uri": "https://localhost:8080/"
        },
        "id": "KqEbq_W08z-6",
        "outputId": "e0b76bf5-c289-499d-bfbd-e578206f38e9"
      },
      "execution_count": null,
      "outputs": [
        {
          "output_type": "execute_result",
          "data": {
            "text/plain": [
              "3"
            ]
          },
          "metadata": {},
          "execution_count": 9
        }
      ]
    },
    {
      "cell_type": "code",
      "source": [
        "list1.index('a',0,7)\n",
        "list1.index('a')"
      ],
      "metadata": {
        "colab": {
          "base_uri": "https://localhost:8080/"
        },
        "id": "N6jPGtpO9JkQ",
        "outputId": "9debfa6c-5877-4a85-af29-b5faf9295e25"
      },
      "execution_count": null,
      "outputs": [
        {
          "output_type": "execute_result",
          "data": {
            "text/plain": [
              "0"
            ]
          },
          "metadata": {},
          "execution_count": 30
        }
      ]
    },
    {
      "cell_type": "code",
      "source": [
        "list1.insert(0,'z')\n",
        "print(list1)"
      ],
      "metadata": {
        "colab": {
          "base_uri": "https://localhost:8080/"
        },
        "id": "NCEWzszd9eLT",
        "outputId": "2bb19464-e30d-441c-ce36-b114faba6e7e"
      },
      "execution_count": null,
      "outputs": [
        {
          "output_type": "stream",
          "name": "stdout",
          "text": [
            "['z', 1, 2, 3, 'a', 'b', True, False, 1, 'd', 'd', 'e', 3, 4]\n"
          ]
        }
      ]
    },
    {
      "cell_type": "code",
      "source": [
        "list1.pop()\n",
        "print(list1)"
      ],
      "metadata": {
        "colab": {
          "base_uri": "https://localhost:8080/"
        },
        "id": "ehezF69f9ocK",
        "outputId": "6c632d8f-c1d1-4b03-86fc-3aa4a8f3a354"
      },
      "execution_count": null,
      "outputs": [
        {
          "output_type": "stream",
          "name": "stdout",
          "text": [
            "['a', 'b', 'c']\n"
          ]
        }
      ]
    },
    {
      "cell_type": "code",
      "source": [
        "list1=['z', 1, 2, 3, 'a', 'b', True, False, 1, 'd', 'd', 'e', 3, 4]\n",
        "list1.remove('z')\n",
        "print(list1)"
      ],
      "metadata": {
        "colab": {
          "base_uri": "https://localhost:8080/"
        },
        "id": "HkfRn1hL9vB_",
        "outputId": "01fbefa9-adc5-421c-98fa-e53c33586904"
      },
      "execution_count": null,
      "outputs": [
        {
          "output_type": "stream",
          "name": "stdout",
          "text": [
            "[1, 2, 3, 'a', 'b', True, False, 1, 'd', 'd', 'e', 3, 4]\n"
          ]
        }
      ]
    },
    {
      "cell_type": "code",
      "source": [
        "list1.reverse()\n",
        "print(list1)"
      ],
      "metadata": {
        "colab": {
          "base_uri": "https://localhost:8080/"
        },
        "id": "oRr7-u_C90Yc",
        "outputId": "8a7c0fd1-2bbb-498c-b34c-32e649cf628a"
      },
      "execution_count": null,
      "outputs": [
        {
          "output_type": "stream",
          "name": "stdout",
          "text": [
            "[4, 3, 'e', 'd', 'z', 'e', 'd', 'd', 'b', 'a']\n"
          ]
        }
      ]
    },
    {
      "cell_type": "code",
      "source": [
        "l=[ 'e', 'd', 'd' ,'b', 'a', 'z']\n",
        "l[0]\n"
      ],
      "metadata": {
        "colab": {
          "base_uri": "https://localhost:8080/",
          "height": 35
        },
        "id": "9j5RAc7Q96HG",
        "outputId": "ef009f7f-e448-4554-c459-c038042e9aba"
      },
      "execution_count": null,
      "outputs": [
        {
          "output_type": "execute_result",
          "data": {
            "text/plain": [
              "'e'"
            ],
            "application/vnd.google.colaboratory.intrinsic+json": {
              "type": "string"
            }
          },
          "metadata": {},
          "execution_count": 44
        }
      ]
    },
    {
      "cell_type": "code",
      "source": [
        "l=[ 'e', 'd', 'd' ,'b', 'a', 'z']\n",
        "min(l)\n",
        "max(l)"
      ],
      "metadata": {
        "colab": {
          "base_uri": "https://localhost:8080/",
          "height": 36
        },
        "id": "Bkin2mGoXfcW",
        "outputId": "89c8ac85-a983-4566-c0ce-ff6237e51973"
      },
      "execution_count": null,
      "outputs": [
        {
          "output_type": "execute_result",
          "data": {
            "text/plain": [
              "'z'"
            ],
            "application/vnd.google.colaboratory.intrinsic+json": {
              "type": "string"
            }
          },
          "metadata": {},
          "execution_count": 44
        }
      ]
    },
    {
      "cell_type": "code",
      "source": [
        "l[-1]"
      ],
      "metadata": {
        "colab": {
          "base_uri": "https://localhost:8080/",
          "height": 35
        },
        "id": "L6EBaTDjEXji",
        "outputId": "56d45667-8d5d-45cf-8692-26591b5e92ea"
      },
      "execution_count": null,
      "outputs": [
        {
          "output_type": "execute_result",
          "data": {
            "text/plain": [
              "'z'"
            ],
            "application/vnd.google.colaboratory.intrinsic+json": {
              "type": "string"
            }
          },
          "metadata": {},
          "execution_count": 46
        }
      ]
    },
    {
      "cell_type": "code",
      "source": [
        "l[:3:1]"
      ],
      "metadata": {
        "colab": {
          "base_uri": "https://localhost:8080/"
        },
        "id": "FXvVgSV6DReW",
        "outputId": "7ea97d54-0ac4-49eb-842b-a5e573c4ba96"
      },
      "execution_count": null,
      "outputs": [
        {
          "output_type": "execute_result",
          "data": {
            "text/plain": [
              "['e', 'd', 'd']"
            ]
          },
          "metadata": {},
          "execution_count": 39
        }
      ]
    },
    {
      "cell_type": "code",
      "source": [
        "l=['z', 'a', 'b', 'd', 'd', 'e']\n",
        "l[0:len(l):1]\n"
      ],
      "metadata": {
        "colab": {
          "base_uri": "https://localhost:8080/"
        },
        "id": "mtqiRk7CTZwD",
        "outputId": "a6fcf578-104c-4ad4-d40a-df1f53269c91"
      },
      "execution_count": null,
      "outputs": [
        {
          "output_type": "execute_result",
          "data": {
            "text/plain": [
              "['z', 'a', 'b', 'd', 'd', 'e']"
            ]
          },
          "metadata": {},
          "execution_count": 34
        }
      ]
    },
    {
      "cell_type": "code",
      "source": [
        "l=['z', 'a', 'b', 'd', 'd', 'e']\n",
        "l[::]"
      ],
      "metadata": {
        "colab": {
          "base_uri": "https://localhost:8080/"
        },
        "id": "unYCXvFRTf61",
        "outputId": "16fc96c0-2a6c-41f8-d03b-7bd35cfeb8dc"
      },
      "execution_count": null,
      "outputs": [
        {
          "output_type": "execute_result",
          "data": {
            "text/plain": [
              "['z', 'a', 'b', 'd', 'd', 'e']"
            ]
          },
          "metadata": {},
          "execution_count": 33
        }
      ]
    },
    {
      "cell_type": "code",
      "source": [
        "l=['z', 'a', 'b', 'd', 'd', 'e']\n",
        "l[-1:-(len(l)+1):-1]"
      ],
      "metadata": {
        "colab": {
          "base_uri": "https://localhost:8080/"
        },
        "id": "c-s10r7LDWmZ",
        "outputId": "4f902e68-4057-456a-8067-04d56f59a280"
      },
      "execution_count": null,
      "outputs": [
        {
          "output_type": "execute_result",
          "data": {
            "text/plain": [
              "['e', 'd', 'd', 'b', 'a', 'z']"
            ]
          },
          "metadata": {},
          "execution_count": 35
        }
      ]
    },
    {
      "cell_type": "code",
      "source": [
        "l=['z', 'a', 'b', 'd', 'd', 'e']\n",
        "l[::-1]"
      ],
      "metadata": {
        "colab": {
          "base_uri": "https://localhost:8080/"
        },
        "id": "zWZ3KbzWwbdd",
        "outputId": "968779bc-4c40-408d-9624-0325e48b1c16"
      },
      "execution_count": null,
      "outputs": [
        {
          "output_type": "execute_result",
          "data": {
            "text/plain": [
              "['e', 'd', 'd', 'b', 'a', 'z']"
            ]
          },
          "metadata": {},
          "execution_count": 38
        }
      ]
    },
    {
      "cell_type": "code",
      "source": [
        "l=['z', 'a', 'b', 'c', 'd', 'e']\n",
        "l[-2:2:-1]#second last till index 3"
      ],
      "metadata": {
        "colab": {
          "base_uri": "https://localhost:8080/"
        },
        "id": "66sdSQuEWMud",
        "outputId": "69043c31-b33c-4685-f313-5693cb91062e"
      },
      "execution_count": null,
      "outputs": [
        {
          "output_type": "execute_result",
          "data": {
            "text/plain": [
              "['d', 'c']"
            ]
          },
          "metadata": {},
          "execution_count": 41
        }
      ]
    },
    {
      "cell_type": "code",
      "source": [
        "l=['z', 'a', 'b', 'c', 'd', 'e']\n",
        "l[len(l)-1:3:-1]#last index till index 4"
      ],
      "metadata": {
        "colab": {
          "base_uri": "https://localhost:8080/"
        },
        "id": "9bbK_5yUDIWa",
        "outputId": "e312fc43-2dc6-4528-ecf8-fa4f9b003667"
      },
      "execution_count": null,
      "outputs": [
        {
          "output_type": "execute_result",
          "data": {
            "text/plain": [
              "['e', 'd']"
            ]
          },
          "metadata": {},
          "execution_count": 42
        }
      ]
    },
    {
      "cell_type": "code",
      "source": [
        "# builtin functions for tuple\n",
        "T=(1,'a',3,5,7,'a','c',1,'a')\n",
        "T"
      ],
      "metadata": {
        "colab": {
          "base_uri": "https://localhost:8080/"
        },
        "id": "uhBQ2lBnTLDA",
        "outputId": "9db814e7-aae6-4df7-c8c3-fe58b71d9b68"
      },
      "execution_count": null,
      "outputs": [
        {
          "output_type": "execute_result",
          "data": {
            "text/plain": [
              "(1, 'a', 3, 5, 7, 'a', 'c', 1, 'a')"
            ]
          },
          "metadata": {},
          "execution_count": 23
        }
      ]
    },
    {
      "cell_type": "code",
      "source": [
        "T[1]"
      ],
      "metadata": {
        "colab": {
          "base_uri": "https://localhost:8080/",
          "height": 36
        },
        "id": "cRZIDBpiUKkN",
        "outputId": "842b4d14-fb39-4f03-9a6e-efa200b6b4e8"
      },
      "execution_count": null,
      "outputs": [
        {
          "output_type": "execute_result",
          "data": {
            "text/plain": [
              "'a'"
            ],
            "application/vnd.google.colaboratory.intrinsic+json": {
              "type": "string"
            }
          },
          "metadata": {},
          "execution_count": 9
        }
      ]
    },
    {
      "cell_type": "code",
      "source": [
        "T[1:4]"
      ],
      "metadata": {
        "colab": {
          "base_uri": "https://localhost:8080/"
        },
        "id": "EUPJqycMUPts",
        "outputId": "e9ae3704-6e5a-4f1d-ff1d-abfb62bbb819"
      },
      "execution_count": null,
      "outputs": [
        {
          "output_type": "execute_result",
          "data": {
            "text/plain": [
              "('a', 3, 5)"
            ]
          },
          "metadata": {},
          "execution_count": 10
        }
      ]
    },
    {
      "cell_type": "code",
      "source": [
        "T[::-1]"
      ],
      "metadata": {
        "colab": {
          "base_uri": "https://localhost:8080/"
        },
        "id": "OxmQ7P76UY_e",
        "outputId": "a21af579-4048-4d02-8e2e-a25fc7b4006b"
      },
      "execution_count": null,
      "outputs": [
        {
          "output_type": "execute_result",
          "data": {
            "text/plain": [
              "('a', 1, 'c', 'a', 7, 5, 3, 'a', 1)"
            ]
          },
          "metadata": {},
          "execution_count": 11
        }
      ]
    },
    {
      "cell_type": "code",
      "source": [
        "T.count('a')"
      ],
      "metadata": {
        "colab": {
          "base_uri": "https://localhost:8080/"
        },
        "id": "gSZv5jeeTj0U",
        "outputId": "72f81fb0-4146-439e-a3b2-e0e5c6900c57"
      },
      "execution_count": null,
      "outputs": [
        {
          "output_type": "execute_result",
          "data": {
            "text/plain": [
              "3"
            ]
          },
          "metadata": {},
          "execution_count": 6
        }
      ]
    },
    {
      "cell_type": "code",
      "source": [
        "T.index('c')"
      ],
      "metadata": {
        "colab": {
          "base_uri": "https://localhost:8080/"
        },
        "id": "iQR03W9FT2Gm",
        "outputId": "a78a7adf-310b-4138-9644-917c68addd6e"
      },
      "execution_count": null,
      "outputs": [
        {
          "output_type": "execute_result",
          "data": {
            "text/plain": [
              "6"
            ]
          },
          "metadata": {},
          "execution_count": 8
        }
      ]
    },
    {
      "cell_type": "code",
      "source": [
        "len(T)"
      ],
      "metadata": {
        "colab": {
          "base_uri": "https://localhost:8080/"
        },
        "id": "nAs5VsNnUyk9",
        "outputId": "d48e5e6b-0d16-43f0-b621-199875b2409b"
      },
      "execution_count": null,
      "outputs": [
        {
          "output_type": "execute_result",
          "data": {
            "text/plain": [
              "9"
            ]
          },
          "metadata": {},
          "execution_count": 13
        }
      ]
    },
    {
      "cell_type": "code",
      "source": [
        "T1=(1,2,3,4,5)\n",
        "max(T1)\n",
        "min(T1)"
      ],
      "metadata": {
        "colab": {
          "base_uri": "https://localhost:8080/"
        },
        "id": "wCfgF0rGU6Th",
        "outputId": "f7de61c2-a253-426c-e17b-b74284d46ce3"
      },
      "execution_count": null,
      "outputs": [
        {
          "output_type": "execute_result",
          "data": {
            "text/plain": [
              "1"
            ]
          },
          "metadata": {},
          "execution_count": 16
        }
      ]
    },
    {
      "cell_type": "code",
      "source": [
        "L=[1,2,3]\n",
        "T=tuple(L)\n",
        "T"
      ],
      "metadata": {
        "colab": {
          "base_uri": "https://localhost:8080/"
        },
        "id": "3XI8cgngVSrN",
        "outputId": "269081d8-6d4d-405e-ff03-d61b36398414"
      },
      "execution_count": null,
      "outputs": [
        {
          "output_type": "execute_result",
          "data": {
            "text/plain": [
              "(1, 2, 3)"
            ]
          },
          "metadata": {},
          "execution_count": 18
        }
      ]
    },
    {
      "cell_type": "code",
      "source": [
        "#builtin functions for Set\n",
        "S={1,3,5,7,9,True,'a',3}\n",
        "S.add('b')\n",
        "S"
      ],
      "metadata": {
        "colab": {
          "base_uri": "https://localhost:8080/"
        },
        "id": "yGF3FNDgVmVQ",
        "outputId": "75db66a4-2ea1-4fa1-cada-94985c0eaf19"
      },
      "execution_count": null,
      "outputs": [
        {
          "output_type": "execute_result",
          "data": {
            "text/plain": [
              "{1, 3, 5, 7, 9, 'a', 'b'}"
            ]
          },
          "metadata": {},
          "execution_count": 47
        }
      ]
    },
    {
      "cell_type": "code",
      "source": [
        "S.clear()\n",
        "S"
      ],
      "metadata": {
        "colab": {
          "base_uri": "https://localhost:8080/"
        },
        "id": "KOW_AZ1kWF-X",
        "outputId": "f03e3ad8-7f39-4df2-80c3-f6d1586fa755"
      },
      "execution_count": null,
      "outputs": [
        {
          "output_type": "execute_result",
          "data": {
            "text/plain": [
              "set()"
            ]
          },
          "metadata": {},
          "execution_count": 26
        }
      ]
    },
    {
      "cell_type": "code",
      "source": [
        "S={1,3,5,7,9,True,'a'}\n",
        "S1=S.copy()#creates a new copy of S in memory.So change in S1 has no effect on S\n",
        "S1\n",
        "S1.add('b')\n",
        "print('S1 is: ',S1)\n",
        "print('S is: ',S)"
      ],
      "metadata": {
        "colab": {
          "base_uri": "https://localhost:8080/"
        },
        "id": "nkPs-g-1WP5e",
        "outputId": "243ce9d3-07e3-452d-e7da-15f90e626871"
      },
      "execution_count": null,
      "outputs": [
        {
          "output_type": "stream",
          "name": "stdout",
          "text": [
            "S1 is:  {1, 3, 5, 'b', 7, 9, 'a'}\n",
            "S is:  {1, 3, 5, 7, 9, 'a'}\n"
          ]
        }
      ]
    },
    {
      "cell_type": "code",
      "source": [
        "S={1,3,5,7,9,True,'a'}\n",
        "S.remove(1)\n",
        "print(S)"
      ],
      "metadata": {
        "colab": {
          "base_uri": "https://localhost:8080/"
        },
        "id": "iIYKCPmpX9Ud",
        "outputId": "b4abe3e1-b090-47cf-b049-c32716b9893a"
      },
      "execution_count": null,
      "outputs": [
        {
          "output_type": "stream",
          "name": "stdout",
          "text": [
            "{3, 5, 7, 9, 'a'}\n"
          ]
        }
      ]
    },
    {
      "cell_type": "code",
      "source": [
        "s={1,2,3}\n",
        "s.pop()#removes and returns the arbitrary ele as set is not ordered.\n",
        "s # popped set"
      ],
      "metadata": {
        "colab": {
          "base_uri": "https://localhost:8080/"
        },
        "id": "JFFdb9mMYQ3n",
        "outputId": "62f107bb-9c8f-4190-d232-c72828c1b9ef"
      },
      "execution_count": null,
      "outputs": [
        {
          "output_type": "execute_result",
          "data": {
            "text/plain": [
              "{2, 3}"
            ]
          },
          "metadata": {},
          "execution_count": 49
        }
      ]
    },
    {
      "cell_type": "code",
      "source": [
        "S1.difference(S)#returns a new  set S1-S\n"
      ],
      "metadata": {
        "colab": {
          "base_uri": "https://localhost:8080/"
        },
        "id": "v_tEXFKCW4zk",
        "outputId": "884433f9-57ef-4cc3-8053-f81593bb4061"
      },
      "execution_count": null,
      "outputs": [
        {
          "output_type": "execute_result",
          "data": {
            "text/plain": [
              "{'b'}"
            ]
          },
          "metadata": {},
          "execution_count": 65
        }
      ]
    },
    {
      "cell_type": "code",
      "source": [
        "S={1, 3, 5, 'b', 7, 9, 'a'}\n",
        "S1={1,3}\n",
        "S.difference_update(S1)#updates the original set, returns nothing\n",
        "S\n"
      ],
      "metadata": {
        "colab": {
          "base_uri": "https://localhost:8080/"
        },
        "id": "iufdMNAZXXbL",
        "outputId": "0365f9e0-d7c4-43da-bdb6-e54ca27dc62c"
      },
      "execution_count": null,
      "outputs": [
        {
          "output_type": "execute_result",
          "data": {
            "text/plain": [
              "{5, 7, 9, 'a', 'b'}"
            ]
          },
          "metadata": {},
          "execution_count": 69
        }
      ]
    },
    {
      "cell_type": "code",
      "source": [
        "S.discard(5)#updates set with discarding the arg, returns nothing\n",
        "S"
      ],
      "metadata": {
        "colab": {
          "base_uri": "https://localhost:8080/"
        },
        "id": "8Soq2NmuevNT",
        "outputId": "8de1ecbc-6a92-4d36-ae3b-0c18dc48bad0"
      },
      "execution_count": null,
      "outputs": [
        {
          "output_type": "execute_result",
          "data": {
            "text/plain": [
              "{7, 9, 'a', 'b'}"
            ]
          },
          "metadata": {},
          "execution_count": 71
        }
      ]
    },
    {
      "cell_type": "code",
      "source": [
        "S1={7,'c'}\n",
        "S.intersection(S1)#returns the intersection"
      ],
      "metadata": {
        "colab": {
          "base_uri": "https://localhost:8080/"
        },
        "id": "JSMoy6e9fU_w",
        "outputId": "17c5f238-9224-4c31-b7ef-165879697eb3"
      },
      "execution_count": null,
      "outputs": [
        {
          "output_type": "execute_result",
          "data": {
            "text/plain": [
              "{7}"
            ]
          },
          "metadata": {},
          "execution_count": 74
        }
      ]
    },
    {
      "cell_type": "code",
      "source": [
        "S.intersection_update(S1)#updates the set as intersection, returns nothing\n",
        "S"
      ],
      "metadata": {
        "colab": {
          "base_uri": "https://localhost:8080/"
        },
        "id": "estOQ4h0fuAC",
        "outputId": "b6352b0b-e75b-4664-a9b8-c09e002be14e"
      },
      "execution_count": null,
      "outputs": [
        {
          "output_type": "execute_result",
          "data": {
            "text/plain": [
              "{7}"
            ]
          },
          "metadata": {},
          "execution_count": 76
        }
      ]
    },
    {
      "cell_type": "code",
      "source": [
        "S.isdisjoint(S1)#boolean"
      ],
      "metadata": {
        "colab": {
          "base_uri": "https://localhost:8080/"
        },
        "id": "ATelWiQngO_q",
        "outputId": "cf34dcf9-cb64-401f-db1a-65417d29cffa"
      },
      "execution_count": null,
      "outputs": [
        {
          "output_type": "execute_result",
          "data": {
            "text/plain": [
              "False"
            ]
          },
          "metadata": {},
          "execution_count": 77
        }
      ]
    },
    {
      "cell_type": "code",
      "source": [
        "S.issubset(S1)#boolean"
      ],
      "metadata": {
        "colab": {
          "base_uri": "https://localhost:8080/"
        },
        "id": "v3_NYaAlgdck",
        "outputId": "ced4e245-f5ae-4610-83df-ce1f5f93ab88"
      },
      "execution_count": null,
      "outputs": [
        {
          "output_type": "execute_result",
          "data": {
            "text/plain": [
              "True"
            ]
          },
          "metadata": {},
          "execution_count": 78
        }
      ]
    },
    {
      "cell_type": "code",
      "source": [
        "S.issuperset(S1)#boolean"
      ],
      "metadata": {
        "colab": {
          "base_uri": "https://localhost:8080/"
        },
        "id": "QxSSqCtngkTJ",
        "outputId": "ddd6509c-fd6f-4507-e393-7b88eac42fc7"
      },
      "execution_count": null,
      "outputs": [
        {
          "output_type": "execute_result",
          "data": {
            "text/plain": [
              "False"
            ]
          },
          "metadata": {},
          "execution_count": 79
        }
      ]
    },
    {
      "cell_type": "code",
      "source": [
        "S={1, 3, 5, 'b', 7, 9, 'a'}\n",
        "S1={1,10,11}\n",
        "S.symmetric_difference(S1)#Returns So+S1o"
      ],
      "metadata": {
        "colab": {
          "base_uri": "https://localhost:8080/"
        },
        "id": "XutbBVkXiLIU",
        "outputId": "aedf29c8-890b-406e-cf15-3d29973eb87d"
      },
      "execution_count": null,
      "outputs": [
        {
          "output_type": "execute_result",
          "data": {
            "text/plain": [
              "{10, 11, 3, 5, 7, 9, 'a', 'b'}"
            ]
          },
          "metadata": {},
          "execution_count": 95
        }
      ]
    },
    {
      "cell_type": "code",
      "source": [
        "S.symmetric_difference_update(S1) #updates set with So+S1o and returns nothing\n",
        "S"
      ],
      "metadata": {
        "colab": {
          "base_uri": "https://localhost:8080/"
        },
        "id": "psEJkt22jCD3",
        "outputId": "85eec093-7779-4796-e866-b86fbd2556e1"
      },
      "execution_count": null,
      "outputs": [
        {
          "output_type": "execute_result",
          "data": {
            "text/plain": [
              "{1, 3, 5, 7, 9, 'a', 'b'}"
            ]
          },
          "metadata": {},
          "execution_count": 97
        }
      ]
    },
    {
      "cell_type": "code",
      "source": [
        "S.union(S1)"
      ],
      "metadata": {
        "colab": {
          "base_uri": "https://localhost:8080/"
        },
        "id": "7aFs3GGCqq_c",
        "outputId": "62be2080-4d98-4c84-9016-3d3a3b59c045"
      },
      "execution_count": null,
      "outputs": [
        {
          "output_type": "execute_result",
          "data": {
            "text/plain": [
              "{1, 10, 11, 3, 5, 7, 9, 'a', 'b'}"
            ]
          },
          "metadata": {},
          "execution_count": 98
        }
      ]
    },
    {
      "cell_type": "code",
      "source": [
        "S.update({'a','e','i','o','u'})#updates and returns nothing\n",
        "S"
      ],
      "metadata": {
        "colab": {
          "base_uri": "https://localhost:8080/"
        },
        "id": "FwcWTbwNqv2R",
        "outputId": "94c693b7-ce8f-41c5-db1a-029ecbe77372"
      },
      "execution_count": null,
      "outputs": [
        {
          "output_type": "execute_result",
          "data": {
            "text/plain": [
              "{1, 3, 5, 7, 9, 'a', 'b', 'e', 'i', 'o', 'u'}"
            ]
          },
          "metadata": {},
          "execution_count": 100
        }
      ]
    },
    {
      "cell_type": "code",
      "source": [
        "#BUILTIN METHODS FOR DICTIONARY\n",
        "D={'1':'a','2':'b','3':'c','4':'d','5':'e'}\n",
        "D1=D.copy()"
      ],
      "metadata": {
        "id": "Tqrd-hmdLXbC"
      },
      "execution_count": null,
      "outputs": []
    },
    {
      "cell_type": "code",
      "source": [
        "D1.clear()\n",
        "D1"
      ],
      "metadata": {
        "colab": {
          "base_uri": "https://localhost:8080/"
        },
        "id": "uTMMNWJ9NZGT",
        "outputId": "f3696d83-8666-4c2d-a748-0258a0ba62d1"
      },
      "execution_count": null,
      "outputs": [
        {
          "output_type": "execute_result",
          "data": {
            "text/plain": [
              "{}"
            ]
          },
          "metadata": {},
          "execution_count": 9
        }
      ]
    },
    {
      "cell_type": "code",
      "source": [
        "D.get(1)\n"
      ],
      "metadata": {
        "colab": {
          "base_uri": "https://localhost:8080/",
          "height": 36
        },
        "id": "APQMdl8NNlCc",
        "outputId": "b3fccea3-b5a8-414f-8b36-01db5e63698a"
      },
      "execution_count": null,
      "outputs": [
        {
          "output_type": "execute_result",
          "data": {
            "text/plain": [
              "'a'"
            ],
            "application/vnd.google.colaboratory.intrinsic+json": {
              "type": "string"
            }
          },
          "metadata": {},
          "execution_count": 15
        }
      ]
    },
    {
      "cell_type": "code",
      "source": [
        "#D.append() No append() as D is unordered\n",
        "D['6']='b' # if key '6' already exists, it updates the value.\n",
        "D"
      ],
      "metadata": {
        "colab": {
          "base_uri": "https://localhost:8080/"
        },
        "id": "akNqv1cBOCBd",
        "outputId": "d7c2444a-a5a8-46b7-cab0-8d580b2b9a1c"
      },
      "execution_count": null,
      "outputs": [
        {
          "output_type": "execute_result",
          "data": {
            "text/plain": [
              "{'1': 'a', '2': 'b', '3': 'c', '4': 'd', '5': 'e', '6': 'b'}"
            ]
          },
          "metadata": {},
          "execution_count": 20
        }
      ]
    },
    {
      "cell_type": "code",
      "source": [
        "del D['6']\n",
        "D"
      ],
      "metadata": {
        "colab": {
          "base_uri": "https://localhost:8080/"
        },
        "id": "4vn7X1OnO-qF",
        "outputId": "53fd93ab-af90-424c-fe56-07b9a787ebeb"
      },
      "execution_count": null,
      "outputs": [
        {
          "output_type": "execute_result",
          "data": {
            "text/plain": [
              "{'1': 'a', '2': 'b', '3': 'c', '4': 'd', '5': 'e'}"
            ]
          },
          "metadata": {},
          "execution_count": 21
        }
      ]
    },
    {
      "cell_type": "code",
      "source": [
        "D.update({'6':'b','7':'c'})\n",
        "D"
      ],
      "metadata": {
        "colab": {
          "base_uri": "https://localhost:8080/"
        },
        "id": "4OkNxlzRPGEd",
        "outputId": "76479b61-a6f3-4fbf-a739-8bcf8d5cec0a"
      },
      "execution_count": null,
      "outputs": [
        {
          "output_type": "execute_result",
          "data": {
            "text/plain": [
              "{'1': 'a', '2': 'b', '3': 'c', '4': 'd', '5': 'e', '6': 'b', '7': 'c'}"
            ]
          },
          "metadata": {},
          "execution_count": 23
        }
      ]
    },
    {
      "cell_type": "code",
      "source": [
        "D.keys()"
      ],
      "metadata": {
        "colab": {
          "base_uri": "https://localhost:8080/"
        },
        "id": "N9D0JuClPpjs",
        "outputId": "10ab72dc-1298-4410-eedb-4362bd1ece88"
      },
      "execution_count": null,
      "outputs": [
        {
          "output_type": "execute_result",
          "data": {
            "text/plain": [
              "dict_keys(['1', '2', '3', '4', '5', '6', '7'])"
            ]
          },
          "metadata": {},
          "execution_count": 25
        }
      ]
    },
    {
      "cell_type": "code",
      "source": [
        "D.values()"
      ],
      "metadata": {
        "colab": {
          "base_uri": "https://localhost:8080/"
        },
        "id": "vlXw4rNDPiZ3",
        "outputId": "c414f5e9-b703-4561-b323-639b652866ee"
      },
      "execution_count": null,
      "outputs": [
        {
          "output_type": "execute_result",
          "data": {
            "text/plain": [
              "dict_values(['a', 'b', 'c', 'd', 'e', 'b', 'c'])"
            ]
          },
          "metadata": {},
          "execution_count": 24
        }
      ]
    },
    {
      "cell_type": "code",
      "source": [
        "D={'1': 'a', '2': 'b', '3': 'c', '4': 'd', '5': 'e', '6': 'b'}\n",
        "print(D.pop('5'))# removes and returns the value\n",
        "# D.pop('7')#KeyError\n",
        "print(D)"
      ],
      "metadata": {
        "colab": {
          "base_uri": "https://localhost:8080/"
        },
        "id": "NXhIyuLMPzQd",
        "outputId": "24fea220-217f-4f63-9ef0-672d991c4eba"
      },
      "execution_count": null,
      "outputs": [
        {
          "output_type": "stream",
          "name": "stdout",
          "text": [
            "e\n",
            "{'1': 'a', '2': 'b', '3': 'c', '4': 'd', '6': 'b'}\n"
          ]
        }
      ]
    },
    {
      "cell_type": "code",
      "source": [
        "D.popitem()#remove and return an arbitrary (key, value) pair as a tuple."
      ],
      "metadata": {
        "colab": {
          "base_uri": "https://localhost:8080/"
        },
        "id": "o_C-PayoRK8S",
        "outputId": "20e35902-1cd1-4465-b46d-9161ede4656e"
      },
      "execution_count": null,
      "outputs": [
        {
          "output_type": "execute_result",
          "data": {
            "text/plain": [
              "('6', 'b')"
            ]
          },
          "metadata": {},
          "execution_count": 41
        }
      ]
    },
    {
      "cell_type": "code",
      "source": [
        "L=['a','b','c']\n",
        "dict.fromkeys(L,1)#creates a new dictionary with keys from an iterable and assigns the default value to each key.\n",
        "dict.fromkeys(L)#None val is assigned to each key"
      ],
      "metadata": {
        "colab": {
          "base_uri": "https://localhost:8080/"
        },
        "id": "YEDD8znWR6w8",
        "outputId": "df659d29-6ab7-40aa-a32d-ce8afeaef707"
      },
      "execution_count": null,
      "outputs": [
        {
          "output_type": "execute_result",
          "data": {
            "text/plain": [
              "{'a': None, 'b': None, 'c': None}"
            ]
          },
          "metadata": {},
          "execution_count": 45
        }
      ]
    },
    {
      "cell_type": "code",
      "source": [
        "D={'a':1,'b':2}\n",
        "print(D.setdefault('c', 3)) # returns a value associated with a given key and updates the D.\n",
        "D\n",
        "#D.setdefault('b', 3)# If the key is present in the dictionary, it returns the original value."
      ],
      "metadata": {
        "colab": {
          "base_uri": "https://localhost:8080/"
        },
        "id": "ygdKdRlgTbfn",
        "outputId": "5aab06fb-27a6-4336-eeec-c5c60bbdaf5b"
      },
      "execution_count": null,
      "outputs": [
        {
          "output_type": "stream",
          "name": "stdout",
          "text": [
            "3\n"
          ]
        },
        {
          "output_type": "execute_result",
          "data": {
            "text/plain": [
              "{'a': 1, 'b': 2, 'c': 3}"
            ]
          },
          "metadata": {},
          "execution_count": 51
        }
      ]
    },
    {
      "cell_type": "code",
      "source": [
        "# POSITIVE AND NEGATIVE INDEXING IN L AND T(slicing list=creates a new copy but not in np)\n",
        "l=[0,1,2,3,4,5,6,7,8,9]\n",
        "print(l[::])\n",
        "print(l[:5:2])\n",
        "print(l[::-1])\n",
        "print(l[-1:-11:-1])\n",
        "print(l[-1:-(len(l)+1):-1])#default index\n",
        "print(l[-6::-1])\n",
        "print(l[-6:-8:-1])\n",
        "print(l[-len(l)])#accesses ele at -10 index\n"
      ],
      "metadata": {
        "colab": {
          "base_uri": "https://localhost:8080/"
        },
        "id": "YOCQe-4ezrda",
        "outputId": "e1356c4e-716b-40b6-e7ea-3337b077d5b5"
      },
      "execution_count": null,
      "outputs": [
        {
          "output_type": "stream",
          "name": "stdout",
          "text": [
            "[0, 1, 2, 3, 4, 5, 6, 7, 8, 9]\n",
            "[0, 2, 4]\n",
            "[9, 8, 7, 6, 5, 4, 3, 2, 1, 0]\n",
            "[9, 8, 7, 6, 5, 4, 3, 2, 1, 0]\n",
            "[9, 8, 7, 6, 5, 4, 3, 2, 1, 0]\n",
            "[4, 3, 2, 1, 0]\n",
            "[4, 3]\n",
            "0\n"
          ]
        }
      ]
    },
    {
      "cell_type": "code",
      "source": [
        "l=[0,1,2,3,4,5,6,7,8,9]\n",
        "# POSITIVE SLICING\n",
        "# 1. positive indexing\n",
        "print(l[1::2])\n",
        "# 2. negative indexing\n",
        "print(l[-6::2])\n",
        "\n",
        "# NEGATIVE SLICING\n",
        "# 1.negative indexing\n",
        "print(l[-1:-4:-1])\n",
        "# 2. positive indexing\n",
        "print(l[4:1:-1])# 5th to 3rd index in reverse\n",
        "print(l[:2:-1])# last to 4th index in reverse."
      ],
      "metadata": {
        "colab": {
          "base_uri": "https://localhost:8080/"
        },
        "id": "Q7_KtDXN9ojg",
        "outputId": "51df3169-1416-437f-ab59-a67652556691"
      },
      "execution_count": null,
      "outputs": [
        {
          "output_type": "stream",
          "name": "stdout",
          "text": [
            "[1, 3, 5, 7, 9]\n",
            "[4, 6, 8]\n",
            "[9, 8, 7]\n",
            "[4, 3, 2]\n",
            "[9, 8, 7, 6, 5, 4, 3]\n"
          ]
        }
      ]
    },
    {
      "cell_type": "markdown",
      "source": [
        "  "
      ],
      "metadata": {
        "id": "4cwL9AOe9qHx"
      }
    },
    {
      "cell_type": "code",
      "source": [
        "# Python operators: Arithmetic,Assignment,logical,Comparision Operator\n",
        "\n",
        "# Arithmetic Operator\n",
        "a=10\n",
        "b=3\n",
        "print(a+b)\n",
        "print(a-b)\n",
        "print(a*b)\n",
        "print(a/b)\n",
        "print(a//b)# floor division=quotient\n",
        "print(a%b)# modulus= remainder\n",
        "print(a**b)# exponential= power"
      ],
      "metadata": {
        "colab": {
          "base_uri": "https://localhost:8080/"
        },
        "id": "7eVRtpPXEJR6",
        "outputId": "bc78a414-7538-4ac2-8c1b-7187f53b38a9"
      },
      "execution_count": null,
      "outputs": [
        {
          "output_type": "stream",
          "name": "stdout",
          "text": [
            "13\n",
            "7\n",
            "30\n",
            "3.3333333333333335\n",
            "3\n",
            "1\n",
            "1000\n"
          ]
        }
      ]
    },
    {
      "cell_type": "code",
      "source": [
        "# Assignment Operator\n",
        "a=10\n",
        "b=2\n",
        "a+=b\n",
        "print(a)\n",
        "\n",
        "a=10\n",
        "b=2\n",
        "a-=b\n",
        "print(a)\n",
        "\n",
        "a=10\n",
        "b=2\n",
        "a*=b\n",
        "print(a)\n",
        "\n",
        "a=10\n",
        "b=2\n",
        "a/=b\n",
        "print(a)\n",
        "\n",
        "\n",
        "a=10\n",
        "b=2\n",
        "a%=b\n",
        "print(a)\n",
        "\n",
        "a=10\n",
        "b=2\n",
        "a//=b\n",
        "print(a)\n",
        "\n",
        "a=10\n",
        "b=2\n",
        "a**=b\n",
        "print(a)\n",
        "\n"
      ],
      "metadata": {
        "colab": {
          "base_uri": "https://localhost:8080/"
        },
        "id": "6G50GeoDHyde",
        "outputId": "ae3bb4e2-7cd2-4013-9318-772441c4c17d"
      },
      "execution_count": null,
      "outputs": [
        {
          "output_type": "stream",
          "name": "stdout",
          "text": [
            "12\n",
            "8\n",
            "20\n",
            "5.0\n",
            "0\n",
            "5\n",
            "100\n"
          ]
        }
      ]
    },
    {
      "cell_type": "code",
      "source": [
        "# BITWISE AND OPERATOR\n",
        "a=10 #1010\n",
        "b=2 #0010\n",
        "a &= b\n",
        "print(a)# 0010 in binary=2\n",
        "# 1&1=1\n",
        "# 1&0=0\n",
        "# 0&0=0"
      ],
      "metadata": {
        "colab": {
          "base_uri": "https://localhost:8080/"
        },
        "id": "JtWCE4sKpOx5",
        "outputId": "252d03df-15fe-4c6b-dda2-8006292664e1"
      },
      "execution_count": null,
      "outputs": [
        {
          "output_type": "stream",
          "name": "stdout",
          "text": [
            "2\n"
          ]
        }
      ]
    },
    {
      "cell_type": "code",
      "source": [
        "#BITWISE OR OPERATOR\n",
        "a=10\n",
        "b=2\n",
        "a|=b\n",
        "print(a)\n",
        "# 1|1=1\n",
        "# 1|0=1\n",
        "# 0|0=0"
      ],
      "metadata": {
        "colab": {
          "base_uri": "https://localhost:8080/"
        },
        "id": "9FyaPFPRq5E1",
        "outputId": "1379e410-c861-438c-a9ec-ceb125e6daa3"
      },
      "execution_count": null,
      "outputs": [
        {
          "output_type": "stream",
          "name": "stdout",
          "text": [
            "10\n"
          ]
        }
      ]
    },
    {
      "cell_type": "code",
      "source": [
        "#LEFT AND RIGHT SHIFTING OF BINARY\n",
        "#1010 << 2 means shifting 1010 two positions to the left: 101000\n",
        "#1010 >> 2 means shifting 1010 two positions to the right: 10\n",
        "a=1010\n",
        "b=2\n",
        "a>>=b\n",
        "print(a)"
      ],
      "metadata": {
        "colab": {
          "base_uri": "https://localhost:8080/"
        },
        "id": "fJq-j_tdrk2P",
        "outputId": "d413246f-5baa-40be-800d-57c83b51fd21"
      },
      "execution_count": null,
      "outputs": [
        {
          "output_type": "stream",
          "name": "stdout",
          "text": [
            "252\n"
          ]
        }
      ]
    },
    {
      "cell_type": "code",
      "source": [
        "#EXCLUSIVE OR OPERATION\n",
        "a=10\n",
        "b=2\n",
        "a^=b\n",
        "print(a)\n",
        "# 1^1=0\n",
        "# 0^0=0\n",
        "# 0^1=1"
      ],
      "metadata": {
        "colab": {
          "base_uri": "https://localhost:8080/"
        },
        "id": "GznXwp2nuWPK",
        "outputId": "b751e820-fa1c-4520-f47b-71661716ef46"
      },
      "execution_count": null,
      "outputs": [
        {
          "output_type": "stream",
          "name": "stdout",
          "text": [
            "8\n"
          ]
        }
      ]
    },
    {
      "cell_type": "code",
      "source": [
        "#COMPARISION OPERATOR\n",
        "a=10\n",
        "b=5\n",
        "print(a==b)"
      ],
      "metadata": {
        "colab": {
          "base_uri": "https://localhost:8080/"
        },
        "id": "TtEl3FynMBb0",
        "outputId": "c2a698c8-13c7-427f-9b80-ece7d03a9680"
      },
      "execution_count": null,
      "outputs": [
        {
          "output_type": "stream",
          "name": "stdout",
          "text": [
            "False\n"
          ]
        }
      ]
    },
    {
      "cell_type": "code",
      "source": [
        "a=10\n",
        "b=5\n",
        "print(a!=b)"
      ],
      "metadata": {
        "colab": {
          "base_uri": "https://localhost:8080/"
        },
        "id": "6B9ZDE3oMV20",
        "outputId": "0bdbbec6-8f40-4937-f6b4-d48f7c15e777"
      },
      "execution_count": null,
      "outputs": [
        {
          "output_type": "stream",
          "name": "stdout",
          "text": [
            "True\n"
          ]
        }
      ]
    },
    {
      "cell_type": "code",
      "source": [
        "a=10\n",
        "b=5\n",
        "print(a>b)"
      ],
      "metadata": {
        "colab": {
          "base_uri": "https://localhost:8080/"
        },
        "id": "2JB_BIk3MJbd",
        "outputId": "d9940531-a00b-4cb0-9980-af0133d10427"
      },
      "execution_count": null,
      "outputs": [
        {
          "output_type": "stream",
          "name": "stdout",
          "text": [
            "True\n"
          ]
        }
      ]
    },
    {
      "cell_type": "code",
      "source": [
        "a=10\n",
        "b=5\n",
        "print(a<b)"
      ],
      "metadata": {
        "colab": {
          "base_uri": "https://localhost:8080/"
        },
        "id": "ugDuSW1-MMrW",
        "outputId": "bd0ac705-6a82-4d18-a872-e242133b4647"
      },
      "execution_count": null,
      "outputs": [
        {
          "output_type": "stream",
          "name": "stdout",
          "text": [
            "False\n"
          ]
        }
      ]
    },
    {
      "cell_type": "code",
      "source": [
        "a=10\n",
        "b=5\n",
        "print(a<=b)"
      ],
      "metadata": {
        "colab": {
          "base_uri": "https://localhost:8080/"
        },
        "id": "zq1pQBvNMPBk",
        "outputId": "979c83b0-1f0b-4056-89e4-7f81fba38935"
      },
      "execution_count": null,
      "outputs": [
        {
          "output_type": "stream",
          "name": "stdout",
          "text": [
            "False\n"
          ]
        }
      ]
    },
    {
      "cell_type": "code",
      "source": [
        "a=10\n",
        "b=5\n",
        "print(a>=b)"
      ],
      "metadata": {
        "colab": {
          "base_uri": "https://localhost:8080/"
        },
        "id": "zOCAVazGMRNE",
        "outputId": "180a82dc-7771-4ed7-d52d-edda3fbbc3da"
      },
      "execution_count": null,
      "outputs": [
        {
          "output_type": "stream",
          "name": "stdout",
          "text": [
            "True\n"
          ]
        }
      ]
    },
    {
      "cell_type": "code",
      "source": [
        "a=5\n",
        "b=8\n",
        "c=10\n",
        "print(a<b and a<c)\n",
        "print(a<b and c<a)\n",
        "print(b<a and a<c)\n"
      ],
      "metadata": {
        "colab": {
          "base_uri": "https://localhost:8080/"
        },
        "id": "KrRf4T85Mhac",
        "outputId": "e1e4f7b6-7bd1-4f5e-a3e6-723dcb09601b"
      },
      "execution_count": null,
      "outputs": [
        {
          "output_type": "stream",
          "name": "stdout",
          "text": [
            "True\n",
            "False\n",
            "False\n"
          ]
        }
      ]
    },
    {
      "cell_type": "code",
      "source": [
        "a=5\n",
        "b=8\n",
        "c=10\n",
        "print(a<b or a<c)\n",
        "print(a<b or c<a)\n",
        "print(b<a or a<c)\n",
        "print(b<a or c<a)\n"
      ],
      "metadata": {
        "colab": {
          "base_uri": "https://localhost:8080/"
        },
        "id": "n_AbbBKgMt5_",
        "outputId": "cc34559b-911c-4b86-c55a-20e832331f59"
      },
      "execution_count": null,
      "outputs": [
        {
          "output_type": "stream",
          "name": "stdout",
          "text": [
            "True\n",
            "True\n",
            "True\n"
          ]
        }
      ]
    },
    {
      "cell_type": "code",
      "source": [
        "a=5\n",
        "b=8\n",
        "c=10\n",
        "print(not(a<b and a<c))\n"
      ],
      "metadata": {
        "colab": {
          "base_uri": "https://localhost:8080/"
        },
        "id": "N42QLboAMw4b",
        "outputId": "0b711769-f61a-4995-83a3-130bd8dc357d"
      },
      "execution_count": null,
      "outputs": [
        {
          "output_type": "stream",
          "name": "stdout",
          "text": [
            "False\n"
          ]
        }
      ]
    },
    {
      "cell_type": "code",
      "source": [
        "#IF-ELSE CONDITIONS\n",
        "a = 10\n",
        "b = 20\n",
        "\n",
        "if a > b: # False\n",
        "  print('a is greater than b')\n",
        "else:\n",
        "  print('a is not grater than b')"
      ],
      "metadata": {
        "id": "cEV85du7DOuX"
      },
      "execution_count": null,
      "outputs": []
    },
    {
      "cell_type": "code",
      "source": [
        "a = 10\n",
        "b = 20\n",
        "c = 30\n",
        "\n",
        "if (a < b) and (c < a):\n",
        "  print(\"condition is True\")\n",
        "else:\n",
        "  print('print condition is not true')"
      ],
      "metadata": {
        "colab": {
          "base_uri": "https://localhost:8080/"
        },
        "id": "K-grJenjDVn2",
        "outputId": "6accf530-b1e7-41b7-8c38-221135d1280b"
      },
      "execution_count": null,
      "outputs": [
        {
          "output_type": "stream",
          "name": "stdout",
          "text": [
            "condition is True\n"
          ]
        }
      ]
    },
    {
      "cell_type": "code",
      "source": [
        "a = 10\n",
        "b = 20\n",
        "c = 30\n",
        "\n",
        "if (a < b) or (b > c) and (a>c):\n",
        "  print(\"condition is True\")"
      ],
      "metadata": {
        "colab": {
          "base_uri": "https://localhost:8080/"
        },
        "id": "CKUB1FuVDY6C",
        "outputId": "e57245a1-3c05-4576-dcb7-fdebb656f77f"
      },
      "execution_count": null,
      "outputs": [
        {
          "output_type": "stream",
          "name": "stdout",
          "text": [
            "condition is True\n"
          ]
        }
      ]
    },
    {
      "cell_type": "code",
      "source": [
        "a = 10\n",
        "b = 20\n",
        "c = 30\n",
        "\n",
        "if (a < b) and ((b > c) and (a>c)):\n",
        "  print(\"condition is True\")\n",
        "else:\n",
        "  print('the above condition did not meet')"
      ],
      "metadata": {
        "colab": {
          "base_uri": "https://localhost:8080/"
        },
        "id": "qbggVkPhE9YN",
        "outputId": "ce312bde-9718-4033-902d-1d8d4d0b7f3d"
      },
      "execution_count": null,
      "outputs": [
        {
          "output_type": "stream",
          "name": "stdout",
          "text": [
            "the above condition did not meet\n"
          ]
        }
      ]
    },
    {
      "cell_type": "code",
      "source": [
        "a = 10\n",
        "b = 20\n",
        "c = 30\n",
        "\n",
        "if (a > b):\n",
        "  print('b>c')\n",
        "elif (a>c):\n",
        "  print('a>c')\n",
        "elif(b>c):\n",
        "  print('a>c')\n",
        "else:\n",
        "  print('none of the condition is true')\n"
      ],
      "metadata": {
        "colab": {
          "base_uri": "https://localhost:8080/"
        },
        "id": "Y03PtE0qGKEe",
        "outputId": "6569fd8c-a378-415a-cec2-b8fe2392202c"
      },
      "execution_count": null,
      "outputs": [
        {
          "output_type": "stream",
          "name": "stdout",
          "text": [
            "none of the condition is true\n"
          ]
        }
      ]
    },
    {
      "cell_type": "code",
      "source": [
        "age = 70\n",
        "if (age < 21):\n",
        "  print('you are too young to buy a beer')\n",
        "elif (age>=21)and (age<=60):\n",
        "  print('You are an adult, you can buy a beer')\n",
        "elif(age>60) and (age<+80):\n",
        "  print('you are ageing, limit the alcohol consumption!')\n",
        "else:\n",
        "  print('Please, dont drink!')\n",
        "print('This is ourside the loop.')\n"
      ],
      "metadata": {
        "colab": {
          "base_uri": "https://localhost:8080/"
        },
        "id": "OL8UJx5zHLDx",
        "outputId": "7e61013c-5258-4d16-c3fb-e8548ff8a1fe"
      },
      "execution_count": null,
      "outputs": [
        {
          "output_type": "stream",
          "name": "stdout",
          "text": [
            "you are ageing, limit the alcohol consumption!\n",
            "This is ourside the loop.\n"
          ]
        }
      ]
    },
    {
      "cell_type": "code",
      "source": [
        "#NESTED IF CONDITIOINS\n",
        "a = 10\n",
        "if a < 100:\n",
        "  print('a < 100')\n",
        "  if a < 85:\n",
        "    print('a < 85')\n",
        "    if a < 70:\n",
        "      print('a < 70')\n",
        "      if a < 55:\n",
        "        print('a < 55')\n",
        "      else:\n",
        "        print('else of a < 55')\n",
        "    else:\n",
        "      print('else of a < 70')\n",
        "  else:\n",
        "    print('else of a < 85')\n",
        "else:\n",
        "  print('else of a < 100')"
      ],
      "metadata": {
        "colab": {
          "base_uri": "https://localhost:8080/"
        },
        "id": "4iLqTXxbIRRa",
        "outputId": "a0f35024-86e1-4010-aae4-e57a7ee7010c"
      },
      "execution_count": null,
      "outputs": [
        {
          "output_type": "stream",
          "name": "stdout",
          "text": [
            "a < 100\n",
            "a < 85\n",
            "a < 70\n",
            "a < 55\n"
          ]
        }
      ]
    },
    {
      "cell_type": "code",
      "source": [
        "a =90\n",
        "if a < 100:\n",
        "  print('a < 100')\n",
        "  if a < 85:\n",
        "    print('a < 85')\n",
        "    if a < 70:\n",
        "      print('a < 70')\n",
        "      if a < 55:\n",
        "        print('a < 55')\n",
        "      else:\n",
        "        print('else of a < 55')\n",
        "    else:\n",
        "      print('else of a < 70')\n",
        "  else:\n",
        "    print('else of a < 85')\n",
        "else:\n",
        "  print('else of a < 100')"
      ],
      "metadata": {
        "colab": {
          "base_uri": "https://localhost:8080/"
        },
        "id": "7KZ1WyllKdqc",
        "outputId": "306e0268-b034-4b63-d735-1dd42df50ed9"
      },
      "execution_count": null,
      "outputs": [
        {
          "output_type": "stream",
          "name": "stdout",
          "text": [
            "a < 100\n",
            "else of a < 85\n"
          ]
        }
      ]
    },
    {
      "cell_type": "code",
      "source": [
        "a = 50\n",
        "if a < 100:\n",
        "  print('a < 100')\n",
        "  if a < 85:\n",
        "    print('a < 85')\n",
        "    if a < 70:\n",
        "      print('a < 70')\n",
        "      if a < 55:\n",
        "        print('a < 55')\n",
        "      else:\n",
        "        print('else of a < 55')\n",
        "    else:\n",
        "      print('else of a < 70')\n",
        "  else:\n",
        "    print('else of a < 85')\n",
        "else:\n",
        "  print('else of a < 100')"
      ],
      "metadata": {
        "colab": {
          "base_uri": "https://localhost:8080/"
        },
        "id": "SonrsB1JKvSH",
        "outputId": "9d0b2ec5-6b07-46e2-e859-5a36bd4afd60"
      },
      "execution_count": null,
      "outputs": [
        {
          "output_type": "stream",
          "name": "stdout",
          "text": [
            "a < 100\n",
            "a < 85\n",
            "a < 70\n",
            "a < 55\n"
          ]
        }
      ]
    },
    {
      "cell_type": "code",
      "source": [
        "a = 100\n",
        "if a < 100:\n",
        "  print('a < 100')\n",
        "  if a < 85:\n",
        "    print('a < 85')\n",
        "    if a < 70:\n",
        "      print('a < 70')\n",
        "      if a < 55:\n",
        "        print('a < 55')\n",
        "      else:\n",
        "        print('else of a < 55')\n",
        "    else:\n",
        "      print('else of a < 70')\n",
        "  else:\n",
        "    print('else of a < 85')\n",
        "else:\n",
        "  print('else of a < 100')"
      ],
      "metadata": {
        "colab": {
          "base_uri": "https://localhost:8080/"
        },
        "id": "O_wKTYEhK3ck",
        "outputId": "3a0f4bb7-e812-44bc-e457-ef2c0ce039a5"
      },
      "execution_count": null,
      "outputs": [
        {
          "output_type": "stream",
          "name": "stdout",
          "text": [
            "else of a < 100\n"
          ]
        }
      ]
    },
    {
      "cell_type": "code",
      "source": [
        "#LOOP\n",
        "sum = 0\n",
        "for i in range(1, 101, 1):\n",
        "  sum += i\n",
        "print(sum)"
      ],
      "metadata": {
        "colab": {
          "base_uri": "https://localhost:8080/"
        },
        "id": "gEGHQuNOPM3m",
        "outputId": "b17f9f93-3559-491f-97d4-c26a374cb6b2"
      },
      "execution_count": null,
      "outputs": [
        {
          "output_type": "stream",
          "name": "stdout",
          "text": [
            "5050\n"
          ]
        }
      ]
    },
    {
      "cell_type": "code",
      "source": [
        "sum = 0\n",
        "for i in range(100, 0, -1):\n",
        "  sum += i\n",
        "print(sum)"
      ],
      "metadata": {
        "colab": {
          "base_uri": "https://localhost:8080/"
        },
        "id": "f1KCtDFMQj7J",
        "outputId": "9d5fc79e-d2c2-45d1-dcde-45ffdc1b61f0"
      },
      "execution_count": null,
      "outputs": [
        {
          "output_type": "stream",
          "name": "stdout",
          "text": [
            "5050\n"
          ]
        }
      ]
    },
    {
      "cell_type": "code",
      "source": [
        "i = 1\n",
        "sum = 0\n",
        "\n",
        "while i < 101:\n",
        "  sum += i\n",
        "  i += 1\n",
        "print (sum)"
      ],
      "metadata": {
        "colab": {
          "base_uri": "https://localhost:8080/"
        },
        "id": "VOdTHN7wO1Q1",
        "outputId": "fd244a16-6fb0-4a92-9c45-9a4d4183b059"
      },
      "execution_count": null,
      "outputs": [
        {
          "output_type": "stream",
          "name": "stdout",
          "text": [
            "5050\n"
          ]
        }
      ]
    },
    {
      "cell_type": "code",
      "source": [
        "i = 100\n",
        "sum = 0\n",
        "\n",
        "while i > 0:\n",
        "  sum += i\n",
        "  i -= 1\n",
        "print (sum)"
      ],
      "metadata": {
        "colab": {
          "base_uri": "https://localhost:8080/"
        },
        "id": "dOWYG2zTQd_g",
        "outputId": "8f849f04-af38-457d-e938-374f6d2cdbc0"
      },
      "execution_count": null,
      "outputs": [
        {
          "output_type": "stream",
          "name": "stdout",
          "text": [
            "5050\n"
          ]
        }
      ]
    },
    {
      "cell_type": "code",
      "source": [
        "for i in range(1, 11, 1):\n",
        "    if i%2==0:\n",
        "      print(i, 'is even number')\n",
        "    else:\n",
        "      print(i,\"is odd number\")\n"
      ],
      "metadata": {
        "colab": {
          "base_uri": "https://localhost:8080/"
        },
        "id": "mW-1-eFLUp2h",
        "outputId": "78d1260f-1a3f-4ee4-ce7c-2e8696828483"
      },
      "execution_count": null,
      "outputs": [
        {
          "output_type": "stream",
          "name": "stdout",
          "text": [
            "1 is odd number\n",
            "2 is even number\n",
            "3 is odd number\n",
            "4 is even number\n",
            "5 is odd number\n",
            "6 is even number\n",
            "7 is odd number\n",
            "8 is even number\n",
            "9 is odd number\n",
            "10 is even number\n"
          ]
        }
      ]
    },
    {
      "cell_type": "code",
      "source": [
        "sum=0\n",
        "for i in range(1, 11, 1):\n",
        "  sum+=i\n",
        "  print(sum)\n",
        "else:\n",
        "  print(\"we are in else part\")"
      ],
      "metadata": {
        "colab": {
          "base_uri": "https://localhost:8080/"
        },
        "id": "llL0-sdAWH7v",
        "outputId": "a2058c9c-c458-4fac-9fc3-0a1a182811fe"
      },
      "execution_count": null,
      "outputs": [
        {
          "output_type": "stream",
          "name": "stdout",
          "text": [
            "1\n",
            "3\n",
            "6\n",
            "10\n",
            "15\n",
            "21\n",
            "28\n",
            "36\n",
            "45\n",
            "55\n",
            "we are in else part\n"
          ]
        }
      ]
    },
    {
      "cell_type": "code",
      "source": [
        "i = 10\n",
        "sum = 0\n",
        "while i >5:\n",
        "  sum += i\n",
        "  print(sum)\n",
        "  i -= 1\n",
        "else:\n",
        "  print ('we are in else part')"
      ],
      "metadata": {
        "colab": {
          "base_uri": "https://localhost:8080/"
        },
        "id": "IZtIUemjBK-c",
        "outputId": "0099b50b-a0e5-4494-c789-3cd33b51db86"
      },
      "execution_count": null,
      "outputs": [
        {
          "output_type": "stream",
          "name": "stdout",
          "text": [
            "10\n",
            "19\n",
            "27\n",
            "34\n",
            "40\n",
            "we are in else part\n"
          ]
        }
      ]
    },
    {
      "cell_type": "code",
      "source": [
        "#Nested for loop\n",
        "for i in range(10):\n",
        "  for j in range(20):\n",
        "    print('*', end=' ')# prints on the same line with a space\n",
        "  print('')"
      ],
      "metadata": {
        "colab": {
          "base_uri": "https://localhost:8080/"
        },
        "id": "R66HzJAvGxDt",
        "outputId": "634b7ef0-7b87-4d8f-8424-60339b8d4f3d"
      },
      "execution_count": 2,
      "outputs": [
        {
          "output_type": "stream",
          "name": "stdout",
          "text": [
            "* * * * * * * * * * * * * * * * * * * * \n",
            "* * * * * * * * * * * * * * * * * * * * \n",
            "* * * * * * * * * * * * * * * * * * * * \n",
            "* * * * * * * * * * * * * * * * * * * * \n",
            "* * * * * * * * * * * * * * * * * * * * \n",
            "* * * * * * * * * * * * * * * * * * * * \n",
            "* * * * * * * * * * * * * * * * * * * * \n",
            "* * * * * * * * * * * * * * * * * * * * \n",
            "* * * * * * * * * * * * * * * * * * * * \n",
            "* * * * * * * * * * * * * * * * * * * * \n"
          ]
        }
      ]
    },
    {
      "cell_type": "code",
      "source": [
        "#print triangle with 10 *\n",
        "for i in range(10):\n",
        "  for j in range(i+1):\n",
        "    print('*' ,end=' ' )\n",
        "  print('')"
      ],
      "metadata": {
        "colab": {
          "base_uri": "https://localhost:8080/"
        },
        "id": "fVA8GHkyPcfB",
        "outputId": "b69621b4-d1d0-45d1-8380-02491fee6b89"
      },
      "execution_count": 6,
      "outputs": [
        {
          "output_type": "stream",
          "name": "stdout",
          "text": [
            "* \n",
            "* * \n",
            "* * * \n",
            "* * * * \n",
            "* * * * * \n",
            "* * * * * * \n",
            "* * * * * * * \n",
            "* * * * * * * * \n",
            "* * * * * * * * * \n",
            "* * * * * * * * * * \n"
          ]
        }
      ]
    },
    {
      "cell_type": "code",
      "source": [
        "# print pyramid\n",
        "for i in range(10):\n",
        "  for j in range(10-i):\n",
        "    print('',end=' ' )\n",
        "  k=0\n",
        "  for k in range(i+1):\n",
        "    print('*' ,end=' ' )\n",
        "  print('')"
      ],
      "metadata": {
        "colab": {
          "base_uri": "https://localhost:8080/"
        },
        "id": "evXCgr8pRoy6",
        "outputId": "3a56fdab-132f-4603-a79a-6e30c73e2c72"
      },
      "execution_count": 36,
      "outputs": [
        {
          "output_type": "stream",
          "name": "stdout",
          "text": [
            "          * \n",
            "         * * \n",
            "        * * * \n",
            "       * * * * \n",
            "      * * * * * \n",
            "     * * * * * * \n",
            "    * * * * * * * \n",
            "   * * * * * * * * \n",
            "  * * * * * * * * * \n",
            " * * * * * * * * * * \n"
          ]
        }
      ]
    },
    {
      "cell_type": "code",
      "source": [
        "i=0\n",
        "while i<10:\n",
        "  j=0\n",
        "  while j<20:\n",
        "    print('*', end=' ')# prints on the same line with a space\n",
        "    j+=1\n",
        "  i+=1\n",
        "  print('')\n",
        ""
      ],
      "metadata": {
        "colab": {
          "base_uri": "https://localhost:8080/"
        },
        "id": "k-Y9ipvqV-7Y",
        "outputId": "a15ee233-1009-4426-d967-b4db2b57d202"
      },
      "execution_count": 23,
      "outputs": [
        {
          "output_type": "stream",
          "name": "stdout",
          "text": [
            "* * * * * * * * * * * * * * * * * * * * \n",
            "* * * * * * * * * * * * * * * * * * * * \n",
            "* * * * * * * * * * * * * * * * * * * * \n",
            "* * * * * * * * * * * * * * * * * * * * \n",
            "* * * * * * * * * * * * * * * * * * * * \n",
            "* * * * * * * * * * * * * * * * * * * * \n",
            "* * * * * * * * * * * * * * * * * * * * \n",
            "* * * * * * * * * * * * * * * * * * * * \n",
            "* * * * * * * * * * * * * * * * * * * * \n",
            "* * * * * * * * * * * * * * * * * * * * \n"
          ]
        }
      ]
    },
    {
      "cell_type": "code",
      "source": [
        "i=0\n",
        "while i<10:\n",
        "  j=0\n",
        "  while j<i+1:\n",
        "    print('*' ,end=' ' )\n",
        "    j+=1\n",
        "  i+=1\n",
        "  print('')\n"
      ],
      "metadata": {
        "colab": {
          "base_uri": "https://localhost:8080/"
        },
        "id": "C2ExnjAoYGex",
        "outputId": "b06f6cb7-a9b5-4c8e-eab5-7601d07fe874"
      },
      "execution_count": 25,
      "outputs": [
        {
          "output_type": "stream",
          "name": "stdout",
          "text": [
            "* \n",
            "* * \n",
            "* * * \n",
            "* * * * \n",
            "* * * * * \n",
            "* * * * * * \n",
            "* * * * * * * \n",
            "* * * * * * * * \n",
            "* * * * * * * * * \n",
            "* * * * * * * * * * \n"
          ]
        }
      ]
    },
    {
      "cell_type": "code",
      "source": [
        "i=0\n",
        "while i <10:\n",
        "  j=0\n",
        "  while j< 10-i:\n",
        "    print('',end=' ' )\n",
        "    j+=1\n",
        "  k=0\n",
        "  while k<i+1:\n",
        "    print('*' ,end=' ' )\n",
        "    k+=1\n",
        "  print('')\n",
        "  i+=1\n"
      ],
      "metadata": {
        "colab": {
          "base_uri": "https://localhost:8080/"
        },
        "id": "JJiFYddHYql1",
        "outputId": "16769666-583a-420a-ef4c-4f2f80e5a236"
      },
      "execution_count": 39,
      "outputs": [
        {
          "output_type": "stream",
          "name": "stdout",
          "text": [
            "          * \n",
            "         * * \n",
            "        * * * \n",
            "       * * * * \n",
            "      * * * * * \n",
            "     * * * * * * \n",
            "    * * * * * * * \n",
            "   * * * * * * * * \n",
            "  * * * * * * * * * \n",
            " * * * * * * * * * * \n"
          ]
        }
      ]
    },
    {
      "cell_type": "code",
      "source": [
        "for i in range (0,10,1):\n",
        "    for j in range (0,10,1):\n",
        "        print(\"[\",i,'-',j,\"]\",end='')\n",
        "    print()\n"
      ],
      "metadata": {
        "colab": {
          "base_uri": "https://localhost:8080/"
        },
        "id": "bzZZrceHnhvf",
        "outputId": "fc81d88c-b2b9-411c-86a3-95eaaf062474"
      },
      "execution_count": 41,
      "outputs": [
        {
          "output_type": "stream",
          "name": "stdout",
          "text": [
            "[ 0 - 0 ][ 0 - 1 ][ 0 - 2 ][ 0 - 3 ][ 0 - 4 ][ 0 - 5 ][ 0 - 6 ][ 0 - 7 ][ 0 - 8 ][ 0 - 9 ]\n",
            "[ 1 - 0 ][ 1 - 1 ][ 1 - 2 ][ 1 - 3 ][ 1 - 4 ][ 1 - 5 ][ 1 - 6 ][ 1 - 7 ][ 1 - 8 ][ 1 - 9 ]\n",
            "[ 2 - 0 ][ 2 - 1 ][ 2 - 2 ][ 2 - 3 ][ 2 - 4 ][ 2 - 5 ][ 2 - 6 ][ 2 - 7 ][ 2 - 8 ][ 2 - 9 ]\n",
            "[ 3 - 0 ][ 3 - 1 ][ 3 - 2 ][ 3 - 3 ][ 3 - 4 ][ 3 - 5 ][ 3 - 6 ][ 3 - 7 ][ 3 - 8 ][ 3 - 9 ]\n",
            "[ 4 - 0 ][ 4 - 1 ][ 4 - 2 ][ 4 - 3 ][ 4 - 4 ][ 4 - 5 ][ 4 - 6 ][ 4 - 7 ][ 4 - 8 ][ 4 - 9 ]\n",
            "[ 5 - 0 ][ 5 - 1 ][ 5 - 2 ][ 5 - 3 ][ 5 - 4 ][ 5 - 5 ][ 5 - 6 ][ 5 - 7 ][ 5 - 8 ][ 5 - 9 ]\n",
            "[ 6 - 0 ][ 6 - 1 ][ 6 - 2 ][ 6 - 3 ][ 6 - 4 ][ 6 - 5 ][ 6 - 6 ][ 6 - 7 ][ 6 - 8 ][ 6 - 9 ]\n",
            "[ 7 - 0 ][ 7 - 1 ][ 7 - 2 ][ 7 - 3 ][ 7 - 4 ][ 7 - 5 ][ 7 - 6 ][ 7 - 7 ][ 7 - 8 ][ 7 - 9 ]\n",
            "[ 8 - 0 ][ 8 - 1 ][ 8 - 2 ][ 8 - 3 ][ 8 - 4 ][ 8 - 5 ][ 8 - 6 ][ 8 - 7 ][ 8 - 8 ][ 8 - 9 ]\n",
            "[ 9 - 0 ][ 9 - 1 ][ 9 - 2 ][ 9 - 3 ][ 9 - 4 ][ 9 - 5 ][ 9 - 6 ][ 9 - 7 ][ 9 - 8 ][ 9 - 9 ]\n"
          ]
        }
      ]
    },
    {
      "cell_type": "code",
      "source": [
        "i=0\n",
        "while i<10:\n",
        "    j=0\n",
        "    while j<10:\n",
        "        print(\"[\",i,'-',j,\"]\",end='')\n",
        "        j+=1\n",
        "    print()\n",
        "    i+=1"
      ],
      "metadata": {
        "colab": {
          "base_uri": "https://localhost:8080/"
        },
        "id": "Bq918ukNoDSS",
        "outputId": "b0c48852-bd85-4684-d7c7-e90c13a56874"
      },
      "execution_count": 44,
      "outputs": [
        {
          "output_type": "stream",
          "name": "stdout",
          "text": [
            "[ 0 - 0 ][ 0 - 1 ][ 0 - 2 ][ 0 - 3 ][ 0 - 4 ][ 0 - 5 ][ 0 - 6 ][ 0 - 7 ][ 0 - 8 ][ 0 - 9 ]\n",
            "[ 1 - 0 ][ 1 - 1 ][ 1 - 2 ][ 1 - 3 ][ 1 - 4 ][ 1 - 5 ][ 1 - 6 ][ 1 - 7 ][ 1 - 8 ][ 1 - 9 ]\n",
            "[ 2 - 0 ][ 2 - 1 ][ 2 - 2 ][ 2 - 3 ][ 2 - 4 ][ 2 - 5 ][ 2 - 6 ][ 2 - 7 ][ 2 - 8 ][ 2 - 9 ]\n",
            "[ 3 - 0 ][ 3 - 1 ][ 3 - 2 ][ 3 - 3 ][ 3 - 4 ][ 3 - 5 ][ 3 - 6 ][ 3 - 7 ][ 3 - 8 ][ 3 - 9 ]\n",
            "[ 4 - 0 ][ 4 - 1 ][ 4 - 2 ][ 4 - 3 ][ 4 - 4 ][ 4 - 5 ][ 4 - 6 ][ 4 - 7 ][ 4 - 8 ][ 4 - 9 ]\n",
            "[ 5 - 0 ][ 5 - 1 ][ 5 - 2 ][ 5 - 3 ][ 5 - 4 ][ 5 - 5 ][ 5 - 6 ][ 5 - 7 ][ 5 - 8 ][ 5 - 9 ]\n",
            "[ 6 - 0 ][ 6 - 1 ][ 6 - 2 ][ 6 - 3 ][ 6 - 4 ][ 6 - 5 ][ 6 - 6 ][ 6 - 7 ][ 6 - 8 ][ 6 - 9 ]\n",
            "[ 7 - 0 ][ 7 - 1 ][ 7 - 2 ][ 7 - 3 ][ 7 - 4 ][ 7 - 5 ][ 7 - 6 ][ 7 - 7 ][ 7 - 8 ][ 7 - 9 ]\n",
            "[ 8 - 0 ][ 8 - 1 ][ 8 - 2 ][ 8 - 3 ][ 8 - 4 ][ 8 - 5 ][ 8 - 6 ][ 8 - 7 ][ 8 - 8 ][ 8 - 9 ]\n",
            "[ 9 - 0 ][ 9 - 1 ][ 9 - 2 ][ 9 - 3 ][ 9 - 4 ][ 9 - 5 ][ 9 - 6 ][ 9 - 7 ][ 9 - 8 ][ 9 - 9 ]\n"
          ]
        }
      ]
    }
  ]
}