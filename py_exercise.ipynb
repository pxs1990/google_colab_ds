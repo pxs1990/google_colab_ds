{
  "nbformat": 4,
  "nbformat_minor": 0,
  "metadata": {
    "colab": {
      "provenance": [],
      "authorship_tag": "ABX9TyPnwH43WN92To4AQL2dyNln",
      "include_colab_link": true
    },
    "kernelspec": {
      "name": "python3",
      "display_name": "Python 3"
    },
    "language_info": {
      "name": "python"
    }
  },
  "cells": [
    {
      "cell_type": "markdown",
      "metadata": {
        "id": "view-in-github",
        "colab_type": "text"
      },
      "source": [
        "<a href=\"https://colab.research.google.com/github/pxs1990/google_colab_ds/blob/main/py_exercise.ipynb\" target=\"_parent\"><img src=\"https://colab.research.google.com/assets/colab-badge.svg\" alt=\"Open In Colab\"/></a>"
      ]
    },
    {
      "cell_type": "markdown",
      "source": [
        "**1. Swap the number without using third varible**"
      ],
      "metadata": {
        "id": "99GQ7cOlp287"
      }
    },
    {
      "cell_type": "code",
      "source": [
        "x=int(input(\"enter the first number \"))\n",
        "y=int(input(\"enter the Second number \"))\n",
        "print(x,y)#3,2\n",
        "x=x+y#total\n",
        "y=x-y#should have been x, but we flipped.\n",
        "x=x-y#total-switched y\n",
        "print(x,y)"
      ],
      "metadata": {
        "colab": {
          "base_uri": "https://localhost:8080/"
        },
        "id": "qE9qBl0ip5Tb",
        "outputId": "b929b30c-df79-4046-b4e8-57b5912a5b60"
      },
      "execution_count": null,
      "outputs": [
        {
          "output_type": "stream",
          "name": "stdout",
          "text": [
            "enter the first number 3\n",
            "enter the Second number 2\n",
            "3 2\n",
            "2 3\n"
          ]
        }
      ]
    },
    {
      "cell_type": "markdown",
      "source": [
        "# 2. Write a Program to extract each digit from an integer in the reverse order."
      ],
      "metadata": {
        "id": "3Wg2BIRxr8Dx"
      }
    },
    {
      "cell_type": "code",
      "source": [
        "int1=234\n",
        "int2=str(int1)\n",
        "print(int2[::-1])"
      ],
      "metadata": {
        "colab": {
          "base_uri": "https://localhost:8080/"
        },
        "id": "R5ypFAujr63y",
        "outputId": "863cc000-8a80-492e-ba63-567d9ba2bc0d"
      },
      "execution_count": null,
      "outputs": [
        {
          "output_type": "stream",
          "name": "stdout",
          "text": [
            "432\n"
          ]
        }
      ]
    },
    {
      "cell_type": "markdown",
      "source": [
        "**3.Write a program that will give you the sum of 3 digit number and check if it is palyndrome**"
      ],
      "metadata": {
        "id": "9hliuSZStCzp"
      }
    },
    {
      "cell_type": "code",
      "source": [
        "def sum3(n):\n",
        "    unit=n%10#547\n",
        "    first2=n//10\n",
        "    ten=first2%10\n",
        "    hund=n//100\n",
        "    return unit+ten+hund\n",
        "sum3(547)"
      ],
      "metadata": {
        "colab": {
          "base_uri": "https://localhost:8080/"
        },
        "id": "AoOytwiatGz2",
        "outputId": "a8f1a2a5-29ad-4c6f-d694-c968d21bae99"
      },
      "execution_count": null,
      "outputs": [
        {
          "output_type": "execute_result",
          "data": {
            "text/plain": [
              "16"
            ]
          },
          "metadata": {},
          "execution_count": 7
        }
      ]
    },
    {
      "cell_type": "markdown",
      "source": [
        "4.Write a program that will reverse a four digit number."
      ],
      "metadata": {
        "id": "NHFgPSvuvjzg"
      }
    },
    {
      "cell_type": "code",
      "source": [
        "def rev4(n):\n",
        "    a=n%10#2345\n",
        "    first3=n//10\n",
        "    b=first3%10\n",
        "    first2=n//100\n",
        "    c=first2%10\n",
        "    d=n//1000\n",
        "    return a*1000+b*100+c*10+d\n",
        "print(rev4(1234))\n",
        "def ispalynd(n):\n",
        "    if n==rev4(n):\n",
        "        return True\n",
        "    return False\n",
        "ispalynd(1221)"
      ],
      "metadata": {
        "colab": {
          "base_uri": "https://localhost:8080/"
        },
        "id": "mW777icWvoKI",
        "outputId": "c5a7af02-bba3-43cf-8622-119c99bf812a"
      },
      "execution_count": null,
      "outputs": [
        {
          "output_type": "stream",
          "name": "stdout",
          "text": [
            "4321\n"
          ]
        },
        {
          "output_type": "execute_result",
          "data": {
            "text/plain": [
              "True"
            ]
          },
          "metadata": {},
          "execution_count": 10
        }
      ]
    }
  ]
}