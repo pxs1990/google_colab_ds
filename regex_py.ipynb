{
  "nbformat": 4,
  "nbformat_minor": 0,
  "metadata": {
    "colab": {
      "provenance": [],
      "authorship_tag": "ABX9TyP55LiluKVyMRL6PG6NmMio",
      "include_colab_link": true
    },
    "kernelspec": {
      "name": "python3",
      "display_name": "Python 3"
    },
    "language_info": {
      "name": "python"
    }
  },
  "cells": [
    {
      "cell_type": "markdown",
      "metadata": {
        "id": "view-in-github",
        "colab_type": "text"
      },
      "source": [
        "<a href=\"https://colab.research.google.com/github/pxs1990/python_data_science/blob/main/regex_py.ipynb\" target=\"_parent\"><img src=\"https://colab.research.google.com/assets/colab-badge.svg\" alt=\"Open In Colab\"/></a>"
      ]
    },
    {
      "cell_type": "markdown",
      "source": [
        "# **Regular Expression:**\n",
        "Regular expressions are powerful tools for pattern matching and text manipulation. HHere are some commonly used regex patterns and explanations:\n",
        "\n",
        "**Matching Digits:**\n",
        "\n",
        "\\d: Matches any digit (0-9).\n",
        "\n",
        "\\D: Matches any non-digit.\n",
        "\n",
        "**Matching Word Characters:**\n",
        "\n",
        "\\w: Matches any word character (alphanumeric + underscore).\n",
        "\\W: Matches any non-word character.\n",
        "\n",
        "**Matching Whitespaces:**\n",
        "\n",
        "\\s: Matches any whitespace character (spaces, tabs, line breaks).\n",
        "\\S: Matches any non-whitespace character.\n",
        "\n",
        "**Anchors:**\n",
        "\n",
        "^: Anchors the regex at the start of the string.\n",
        "$: Anchors the regex at the end of the string.\n",
        "\n",
        "**Quantifiers:**\n",
        "\n",
        "*: Matches 0 or more occurrences of the preceding character or group.\n",
        "+: Matches 1 or more occurrences.\n",
        "?: Matches 0 or 1 occurrence.\n",
        "{n}: Matches exactly n occurrences.\n",
        "{n,}: Matches n or more occurrences.\n",
        "{n,m}: Matches between n and m occurrences.\n",
        "\n",
        "**Character Classes:**\n",
        "\n",
        "[abc]: Matches any character 'a', 'b', or 'c'.\n",
        "[^abc]: Matches any character not 'a', 'b', or 'c'.\n",
        "[a-z]: Matches any lowercase letter.\n",
        "[A-Z]: Matches any uppercase letter.\n",
        "[0-9]: Matches any digit.\n",
        "\n",
        "**Escape Characters:**\n",
        "\n",
        ".: Matches any character except a newline.\n",
        "\\.: Matches a literal dot.\n",
        "\n",
        "**Grouping and Alternation:**\n",
        "\n",
        "(abc): Groups patterns together.\n",
        "a|b: Matches either 'a' or 'b'.\n",
        "\n",
        "**Quantifiers (Greedy vs. Non-Greedy):**\n",
        "\n",
        "*: Greedy (matches as much as possible).\n",
        "*?: Non-Greedy (matches as little as possible)."
      ],
      "metadata": {
        "id": "8F1yHLvCbYxg"
      }
    },
    {
      "cell_type": "code",
      "execution_count": 1,
      "metadata": {
        "colab": {
          "base_uri": "https://localhost:8080/"
        },
        "id": "Jvve9_2sbLyT",
        "outputId": "ec4061b7-df83-4fae-8034-214627f5a5b6"
      },
      "outputs": [
        {
          "output_type": "stream",
          "name": "stdout",
          "text": [
            "Digits: ['42', '99']\n"
          ]
        }
      ],
      "source": [
        "import re\n",
        "\n",
        "text = \"The price is $42.99.\"\n",
        "pattern = r'\\d+'  # Matches one or more digits\n",
        "\n",
        "matches = re.findall(pattern, text)\n",
        "\n",
        "print(\"Digits:\", matches)\n"
      ]
    },
    {
      "cell_type": "code",
      "source": [
        "import re\n",
        "\n",
        "text = \"Contact us at john.doe@example.com or support@company.com\"\n",
        "pattern = r'\\b[A-Za-z0-9._%+-]+@[A-Za-z0-9.-]+\\.[A-Z|a-z]{2,}\\b'\n",
        "\n",
        "matches = re.findall(pattern, text)\n",
        "\n",
        "print(\"Email Addresses:\", matches)\n"
      ],
      "metadata": {
        "colab": {
          "base_uri": "https://localhost:8080/"
        },
        "id": "fKngESCMcKf-",
        "outputId": "36f87f8c-8fec-4497-bed2-5d7e25b83e54"
      },
      "execution_count": 2,
      "outputs": [
        {
          "output_type": "stream",
          "name": "stdout",
          "text": [
            "Email Addresses: ['john.doe@example.com', 'support@company.com']\n"
          ]
        }
      ]
    },
    {
      "cell_type": "code",
      "source": [
        "import re\n",
        "\n",
        "text = \"Event on 2022-05-20, meeting on 2022-06-15\"\n",
        "pattern = r'\\b\\d{4}-\\d{2}-\\d{2}\\b'\n",
        "\n",
        "matches = re.findall(pattern, text)\n",
        "\n",
        "print(\"Dates:\", matches)\n"
      ],
      "metadata": {
        "colab": {
          "base_uri": "https://localhost:8080/"
        },
        "id": "XtbiQJcZcWzq",
        "outputId": "3ad7faef-7eba-4168-a82b-a61c0dcfba1e"
      },
      "execution_count": 3,
      "outputs": [
        {
          "output_type": "stream",
          "name": "stdout",
          "text": [
            "Dates: ['2022-05-20', '2022-06-15']\n"
          ]
        }
      ]
    }
  ]
}